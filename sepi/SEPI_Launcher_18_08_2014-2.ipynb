{
 "metadata": {
  "name": "",
  "signature": "sha256:12bc21859487e002ef386ad982e590401cdbd1a7faadd7f0fa9cf0072c9cdf37"
 },
 "nbformat": 3,
 "nbformat_minor": 0,
 "worksheets": [
  {
   "cells": [
    {
     "cell_type": "heading",
     "level": 1,
     "metadata": {},
     "source": [
      "SEPI Launcher - Short-range excitation Parvalbumin inhibition"
     ]
    },
    {
     "cell_type": "markdown",
     "metadata": {},
     "source": [
      "This is the launch notebook for parameter searches on the new SEPI model."
     ]
    },
    {
     "cell_type": "code",
     "collapsed": false,
     "input": [
      "import os\n",
      "import numpy as np\n",
      "\n",
      "import lancet"
     ],
     "language": "python",
     "metadata": {},
     "outputs": [],
     "prompt_number": 1
    },
    {
     "cell_type": "code",
     "collapsed": false,
     "input": [
      "cd .."
     ],
     "language": "python",
     "metadata": {},
     "outputs": [
      {
       "output_type": "stream",
       "stream": "stdout",
       "text": [
        "/exports/work/inf_ndtc/s1048519/topographica/work\n"
       ]
      }
     ],
     "prompt_number": 2
    },
    {
     "cell_type": "code",
     "collapsed": false,
     "input": [
      "from topo.analysis.command import measure_or_pref, measure_or_tuning_fullfield, measure_position_pref, measure_response\n",
      "from tools import show_diff, load_collector, show_history\n",
      "from topo.command import runscript  # In order to check the model files load correctly\n",
      "from topo.misc.lancext import RunBatchCommand, topo_metadata"
     ],
     "language": "python",
     "metadata": {},
     "outputs": [],
     "prompt_number": 3
    },
    {
     "cell_type": "code",
     "collapsed": false,
     "input": [
      "cd sepi/"
     ],
     "language": "python",
     "metadata": {},
     "outputs": [
      {
       "output_type": "stream",
       "stream": "stdout",
       "text": [
        "/exports/work/inf_ndtc/s1048519/topographica/work/sepi\n"
       ]
      }
     ],
     "prompt_number": 4
    },
    {
     "cell_type": "code",
     "collapsed": false,
     "input": [
      "metadata = topo_metadata()\n",
      "output_directory = os.path.join(os.getcwd(), 'data')"
     ],
     "language": "python",
     "metadata": {},
     "outputs": [],
     "prompt_number": 5
    },
    {
     "cell_type": "heading",
     "level": 1,
     "metadata": {},
     "source": [
      "Launch 3 (18 August 2014)"
     ]
    },
    {
     "cell_type": "markdown",
     "metadata": {},
     "source": [
      "* **Goal:** Find parameter space with better rho values and less edge effects"
     ]
    },
    {
     "cell_type": "code",
     "collapsed": false,
     "input": [
      "batch_name = 'sepi'"
     ],
     "language": "python",
     "metadata": {},
     "outputs": [],
     "prompt_number": 6
    },
    {
     "cell_type": "code",
     "collapsed": false,
     "input": [
      "from dataviews.collector import Collector\n",
      "\n",
      "from imagen.analysis import fft_power_spectrum, cyclic_similarity_index\n",
      "\n",
      "from featuremapper.analysis.pinwheels import PinwheelAnalysis\n",
      "from featuremapper.analysis.hypercolumns import PowerSpectrumAnalysis\n",
      "\n",
      "from analysis import measure_size_tuning, measure_iso_suppression, measure_flanker_ormodulation, \\\n",
      "    measure_flanker_xoffsetmodulation, measure_flanker_yoffsetmodulation, measure_phase_tuning, \\\n",
      "    ComplexityAnalysis\n",
      "\n",
      "from topo.analysis.command import measure_or_pref, measure_or_tuning_fullfield, measure_response, measure_position_pref"
     ],
     "language": "python",
     "metadata": {},
     "outputs": [],
     "prompt_number": 7
    },
    {
     "cell_type": "code",
     "collapsed": false,
     "input": [
      "c = Collector()\n",
      "\n",
      "# Times and coords for further measurements\n",
      "frequency=1.65\n",
      "\n",
      "# Sheets and Projection references\n",
      "Retina = c.sim('Retina')\n",
      "V1Exc = c.sim('V1Exc')\n",
      "V1PV = c.sim('V1PV')\n",
      "LGNOnAfferent =  c.sim('V1Exc.LGNOnAfferent')\n",
      "LGNOffAfferent = c.sim('V1Exc.LGNOffAfferent')\n",
      "PVLGNOnAfferent =  c.sim('V1PV.PVLGNOnAfferent')\n",
      "PVLGNOffAfferent = c.sim('V1PV.PVLGNOffAfferent')\n",
      "Exc2PV = c.sim('V1PV.V1Exc2V1PV')\n",
      "PV2Exc = c.sim('V1Exc.V1PV2V1Exc')\n",
      "\n",
      "# Projection activities\n",
      "c.Activity.LGNOnAfferent =  c.collect(LGNOnAfferent)\n",
      "c.Activity.LGNOffAfferent = c.collect(LGNOffAfferent)\n",
      "c.Activity.PVLGNOnAfferent =  c.collect(PVLGNOnAfferent)\n",
      "c.Activity.PVLGNOffAfferent = c.collect(PVLGNOffAfferent)\n",
      "\n",
      "# OR preference measurement\n",
      "c.collect(measure_or_pref, frequencies=[frequency])\n",
      "c.collect(measure_response, durations=list(np.linspace(0,1,21)))\n",
      "\n",
      "# Sheet activities\n",
      "c.Activity.Retina =         c.collect(Retina)\n",
      "c.Activity.V1Exc =          c.collect(V1Exc)\n",
      "c.Activity.V1PV =          c.collect(V1PV)\n",
      "\n",
      "# Connection fields\n",
      "c.CFs.LGNOnAfferent =       c.collect(LGNOnAfferent,  grid=True)\n",
      "c.CFs.LGNOffAfferent =      c.collect(LGNOffAfferent, grid=True)\n",
      "c.CFs.PVLGNOnAfferent =       c.collect(PVLGNOnAfferent,  grid=True)\n",
      "c.CFs.PVLGNOffAfferent =      c.collect(PVLGNOffAfferent, grid=True)\n",
      "c.CFs.PV2Exc =   c.collect(PV2Exc, grid=True)\n",
      "c.CFs.Exc2PV =   c.collect(Exc2PV, grid=True)\n",
      "\n",
      "# Homeostatic threshold\n",
      "c.HomeostaticThreshold.V1Exc = c.collect(c.sim(array_ref='V1Exc.output_fns[0].t'), value='Homeostatic Threshold')\n",
      "\n",
      "# Analysis\n",
      "c.FFTPowerSpectrum.V1Exc =     c.analyze(c.ref.OrientationPreference.V1Exc, fft_power_spectrum)\n",
      "c.Pinwheels.V1Exc =            c.analyze(c.ref.OrientationPreference.V1Exc\n",
      "                                    * c.ref.OrientationSelectivity.V1Exc, PinwheelAnalysis)\n",
      "c.FFTAnalysis.V1Exc =          c.analyze(c.ref.Pinwheels.V1Exc, PowerSpectrumAnalysis)"
     ],
     "language": "python",
     "metadata": {},
     "outputs": [
      {
       "output_type": "stream",
       "stream": "stdout",
       "text": [
        "DEPRECATION WARNING: use topo.submodel.specifications instead of SimRef.\n",
        "DEPRECATION WARNING: use topo.submodel.specifications instead of SimRef.\n",
        "DEPRECATION WARNING: use topo.submodel.specifications instead of SimRef.\n",
        "DEPRECATION WARNING: use topo.submodel.specifications instead of SimRef.\n",
        "DEPRECATION WARNING: use topo.submodel.specifications instead of SimRef.\n",
        "DEPRECATION WARNING: use topo.submodel.specifications instead of SimRef.\n",
        "DEPRECATION WARNING: use topo.submodel.specifications instead of SimRef.\n",
        "DEPRECATION WARNING: use topo.submodel.specifications instead of SimRef.\n",
        "DEPRECATION WARNING: use topo.submodel.specifications instead of SimRef.\n",
        "DEPRECATION WARNING: use topo.submodel.specifications instead of SimRef.\n"
       ]
      }
     ],
     "prompt_number": 8
    },
    {
     "cell_type": "code",
     "collapsed": false,
     "input": [
      "# Local or on cluster\n",
      "QSUB = True\n",
      "# Open diff in pager or not\n",
      "SHOW_DIFF = True"
     ],
     "language": "python",
     "metadata": {},
     "outputs": [],
     "prompt_number": 9
    },
    {
     "cell_type": "code",
     "collapsed": false,
     "input": [
      "#reference_file = 'HEAD:../reference/examples_gcal.ty'\n",
      "ty_file = './sepi.ty'\n",
      "\n",
      "#print(\"Running model %r\" % os.path.basename(ty_file))\n",
      "#if SHOW_DIFF: show_diff(reference_file, '8875edf:'+ty_file) # Red are changes relative to the ref\n",
      "#show_history(ty_file)"
     ],
     "language": "python",
     "metadata": {},
     "outputs": [],
     "prompt_number": 10
    },
    {
     "cell_type": "heading",
     "level": 3,
     "metadata": {},
     "source": [
      "Parameters"
     ]
    },
    {
     "cell_type": "code",
     "collapsed": false,
     "input": [
      "times = [1000*i for i in range(11)]\n",
      "print(\"Collection times start at %s and end at %s\" % (min(times), max(times)))"
     ],
     "language": "python",
     "metadata": {},
     "outputs": [
      {
       "output_type": "stream",
       "stream": "stdout",
       "text": [
        "Collection times start at 0 and end at 10000\n"
       ]
      }
     ],
     "prompt_number": 11
    },
    {
     "cell_type": "code",
     "collapsed": false,
     "input": [
      "parameter_space = lancet.Range('lat_loc_strength', 3.25, 3.75, 3) * lancet.Range('lat_pv_strength', 2.5, 3.0, 3) * lancet.Range('pv_strength', 3.25, 4.0, 4) * lancet.Range('pv_pv_strength', 0.5, 1.0, 3)\n",
      "batch_arguments =  parameter_space * lancet.Args(times=times)"
     ],
     "language": "python",
     "metadata": {},
     "outputs": [],
     "prompt_number": 12
    },
    {
     "cell_type": "code",
     "collapsed": false,
     "input": [
      "batch_arguments"
     ],
     "language": "python",
     "metadata": {},
     "outputs": [
      {
       "metadata": {},
       "output_type": "pyout",
       "prompt_number": 13,
       "text": [
        "# == 108 items, 1 constant key(s), 4 varying key(s) ==\n",
        "Range(\n",
        "   key='lat_loc_strength',\n",
        "   start_value=3.25,\n",
        "   end_value=3.75,\n",
        "   steps=3\n",
        ") * Range(\n",
        "   key='lat_pv_strength',\n",
        "   start_value=2.5,\n",
        "   end_value=3.0,\n",
        "   steps=3\n",
        ") * Range(\n",
        "   key='pv_strength',\n",
        "   start_value=3.25,\n",
        "   end_value=4.0,\n",
        "   steps=4\n",
        ") * Range(\n",
        "   key='pv_pv_strength',\n",
        "   start_value=0.5,\n",
        "   end_value=1.0,\n",
        "   steps=3\n",
        ") * Args(\n",
        "   times=[0, 1000, 2000, 3000, 4000, 5000, 6000, 7000, 8000, 9000, 10000]\n",
        ")"
       ]
      }
     ],
     "prompt_number": 13
    },
    {
     "cell_type": "code",
     "collapsed": false,
     "input": [
      "lancet.review_and_launch.output_directory = output_directory\n",
      "\n",
      "qsub_options = dict(b='y',\n",
      "                    pe=('memory-2G', '2'),   # Parallel environment allocation\n",
      "                    v='OMP_NUM_THREADS=2',   # Must match slot allocation above.\n",
      "                    l='h_rt=48:00:00',       # Time resource allocation \n",
      "                    P='inf_ndtc')            # Project\n",
      "\n",
      "@lancet.review_and_launch()\n",
      "def launch():\n",
      "    runbatch_cmd = RunBatchCommand(ty_file, c, metadata=batch_arguments.varying_keys, snapshot=False)\n",
      "    Launcher = lancet.QLauncher if QSUB else lancet.Launcher\n",
      "    return Launcher(batch_name, batch_arguments, runbatch_cmd,  metadata=metadata(), \n",
      "                    **({'qsub_flag_options':qsub_options} if QSUB else {}))\n",
      "launch()"
     ],
     "language": "python",
     "metadata": {},
     "outputs": [
      {
       "output_type": "stream",
       "stream": "stdout",
       "text": [
        "\n",
        "=====================\n",
        "| Arguments Summary |\n",
        "=====================\n",
        "\n",
        "Items: 108\n",
        "Varying Keys: 'lat_loc_strength', 'lat_pv_strength', 'pv_strength', 'pv_pv_strength'\n",
        "Constant Items: times=[0, 1000, 2000, 3000, 4000, 5000, 6000, 7000, 8000, 9000, 10000]\n"
       ]
      },
      {
       "name": "stdout",
       "output_type": "stream",
       "stream": "stdout",
       "text": [
        "\n",
        "Show available argument specifier entries? [y, N, quit]: \n"
       ]
      },
      {
       "output_type": "stream",
       "stream": "stdout",
       "text": [
        "\n",
        "===========================\n",
        "| RunBatchCommand Summary |\n",
        "===========================\n",
        "\n",
        "Command executable: /exports/work/inf_ndtc/s1048519/topographica/topographica\n",
        "Collector definition summary:\n",
        "\n",
        "19 tasks scheduled:\n",
        "\n",
        "  01.  Activity.LGNOnAfferent\n",
        "           topo.sim.V1Exc.LGNOnAfferent\n",
        "  02.  Activity.LGNOffAfferent\n",
        "           topo.sim.V1Exc.LGNOffAfferent\n",
        "  03.  Activity.PVLGNOnAfferent\n",
        "           topo.sim.V1PV.PVLGNOnAfferent\n",
        "  04.  Activity.PVLGNOffAfferent\n",
        "           topo.sim.V1PV.PVLGNOffAfferent\n",
        "  05.  [...] \n",
        "          measure_or_pref [frequencies=[1.65]]\n",
        "  06.  [...] \n",
        "          measure_response [durations=[0.0, 0.050000000000000003, 0.10000000000000001, 0.15000000000000002, 0.20000000000000001, 0.25, 0.30000000000000004, 0.35000000000000003, 0.40000000000000002, 0.45000000000000001, 0.5, 0.55000000000000004, 0.60000000000000009, 0.65000000000000002, 0.70000000000000007, 0.75, 0.80000000000000004, 0.85000000000000009, 0.90000000000000002, 0.95000000000000007, 1.0]]\n",
        "  07.  Activity.Retina\n",
        "           topo.sim.Retina\n",
        "  08.  Activity.V1Exc\n",
        "           topo.sim.V1Exc\n",
        "  09.  Activity.V1PV\n",
        "           topo.sim.V1PV\n",
        "  10.  CFs.LGNOnAfferent\n",
        "           topo.sim.V1Exc.LGNOnAfferent [grid=True]\n",
        "  11.  CFs.LGNOffAfferent\n",
        "           topo.sim.V1Exc.LGNOffAfferent [grid=True]\n",
        "  12.  CFs.PVLGNOnAfferent\n",
        "           topo.sim.V1PV.PVLGNOnAfferent [grid=True]\n",
        "  13.  CFs.PVLGNOffAfferent\n",
        "           topo.sim.V1PV.PVLGNOffAfferent [grid=True]\n",
        "  14.  CFs.PV2Exc\n",
        "           topo.sim.V1Exc.V1PV2V1Exc [grid=True]\n",
        "  15.  CFs.Exc2PV\n",
        "           topo.sim.V1PV.V1Exc2V1PV [grid=True]\n",
        "  16.  HomeostaticThreshold.V1Exc\n",
        "           topo.sim.V1Exc.output_fns[0].t [value='Homeostatic Threshold']\n",
        "  17.  FFTPowerSpectrum.V1Exc\n",
        "           fft_power_spectrum(ViewRef('OrientationPreference.V1Exc'))\n",
        "  18.  Pinwheels.V1Exc\n",
        "           PinwheelAnalysis(ViewRef('OrientationPreference.V1Exc * OrientationSelectivity.V1Exc'))\n",
        "  19.  FFTAnalysis.V1Exc\n",
        "           PowerSpectrumAnalysis(ViewRef('Pinwheels.V1Exc'))\n",
        "\n",
        "\n"
       ]
      },
      {
       "name": "stdout",
       "output_type": "stream",
       "stream": "stdout",
       "text": [
        "\n",
        "Show available command entries? [y, N, quit, save]: \n"
       ]
      },
      {
       "output_type": "stream",
       "stream": "stdout",
       "text": [
        "\n",
        "=====================\n",
        "| QLauncher Summary |\n",
        "=====================\n",
        "\n",
        "Type: QLauncher\n",
        "Batch Name: 'sepi'\n",
        "Root directory: '/exports/work/inf_ndtc/s1048519/topographica/work/sepi/data/2014-08-18_1832-sepi'\n",
        "Maximum concurrency: None\n",
        "\n"
       ]
      },
      {
       "name": "stdout",
       "output_type": "stream",
       "stream": "stdout",
       "text": [
        "\n",
        "Show complete launch repr? [Y, n]: \n"
       ]
      },
      {
       "output_type": "stream",
       "stream": "stdout",
       "text": [
        "\n",
        "QLauncher(\n",
        "   batch_name='sepi',\n",
        "   args=Range(\n",
        "      key='lat_loc_strength',\n",
        "      start_value=3.25,\n",
        "      end_value=3.75,\n",
        "      steps=3\n",
        "   ) * Range(\n",
        "      key='lat_pv_strength',\n",
        "      start_value=2.5,\n",
        "      end_value=3.0,\n",
        "      steps=3\n",
        "   ) * Range(\n",
        "      key='pv_strength',\n",
        "      start_value=3.25,\n",
        "      end_value=4.0,\n",
        "      steps=4\n",
        "   ) * Range(\n",
        "      key='pv_pv_strength',\n",
        "      start_value=0.5,\n",
        "      end_value=1.0,\n",
        "      steps=3\n",
        "   ) * Args(\n",
        "      times=[0, 1000, 2000, 3000, 4000, 5000, 6000, 7000, 8000, 9000, 10000]\n",
        "   ),\n",
        "   command=RunBatchCommand(\n",
        "      executable='/exports/work/inf_ndtc/s1048519/topographica/topographica',\n",
        "      tyfile='./sepi.ty',\n",
        "      analysis=Collector([\n",
        "            ('Activity.LGNOnAfferent',\n",
        "               Collect(SimRef('V1Exc.LGNOnAfferent'))),\n",
        "            ('Activity.LGNOffAfferent',\n",
        "               Collect(SimRef('V1Exc.LGNOffAfferent'))),\n",
        "            ('Activity.PVLGNOnAfferent',\n",
        "               Collect(SimRef('V1PV.PVLGNOnAfferent'))),\n",
        "            ('Activity.PVLGNOffAfferent',\n",
        "               Collect(SimRef('V1PV.PVLGNOffAfferent'))),\n",
        "            (None,\n",
        "               Collect(measure_or_pref, frequencies=[1.65])),\n",
        "            (None,\n",
        "               Collect(measure_response, durations=[0.0, 0.050000000000000003, 0.10000000000000001, 0.15000000000000002, 0.20000000000000001, 0.25, 0.30000000000000004, 0.35000000000000003, 0.40000000000000002, 0.45000000000000001, 0.5, 0.55000000000000004, 0.60000000000000009, 0.65000000000000002, 0.70000000000000007, 0.75, 0.80000000000000004, 0.85000000000000009, 0.90000000000000002, 0.95000000000000007, 1.0])),\n",
        "            ('Activity.Retina',\n",
        "               Collect(SimRef('Retina'))),\n",
        "            ('Activity.V1Exc',\n",
        "               Collect(SimRef('V1Exc'))),\n",
        "            ('Activity.V1PV',\n",
        "               Collect(SimRef('V1PV'))),\n",
        "            ('CFs.LGNOnAfferent',\n",
        "               Collect(SimRef('V1Exc.LGNOnAfferent'), grid=True)),\n",
        "            ('CFs.LGNOffAfferent',\n",
        "               Collect(SimRef('V1Exc.LGNOffAfferent'), grid=True)),\n",
        "            ('CFs.PVLGNOnAfferent',\n",
        "               Collect(SimRef('V1PV.PVLGNOnAfferent'), grid=True)),\n",
        "            ('CFs.PVLGNOffAfferent',\n",
        "               Collect(SimRef('V1PV.PVLGNOffAfferent'), grid=True)),\n",
        "            ('CFs.PV2Exc',\n",
        "               Collect(SimRef('V1Exc.V1PV2V1Exc'), grid=True)),\n",
        "            ('CFs.Exc2PV',\n",
        "               Collect(SimRef('V1PV.V1Exc2V1PV'), grid=True)),\n",
        "            ('HomeostaticThreshold.V1Exc',\n",
        "               Collect(SimRef(array_ref='V1Exc.output_fns[0].t'), value='Homeostatic Threshold')),\n",
        "            ('FFTPowerSpectrum.V1Exc',\n",
        "               Analyze(ViewRef('OrientationPreference.V1Exc'), fft_power_spectrum)),\n",
        "            ('Pinwheels.V1Exc',\n",
        "               Analyze(ViewRef('OrientationPreference.V1Exc * OrientationSelectivity.V1Exc'), PinwheelAnalysis)),\n",
        "            ('FFTAnalysis.V1Exc',\n",
        "               Analyze(ViewRef('Pinwheels.V1Exc'), PowerSpectrumAnalysis))\n",
        "            ]),\n",
        "      snapshot=False\n",
        "   ),\n",
        "   output_directory='/exports/work/inf_ndtc/s1048519/topographica/work/sepi/data'\n",
        ")\n",
        "\n"
       ]
      },
      {
       "name": "stdout",
       "output_type": "stream",
       "stream": "stdout",
       "text": [
        "Execute? [y, N]: y\n"
       ]
      },
      {
       "output_type": "stream",
       "stream": "stderr",
       "text": [
        "Time: 000000.00 QLauncher: Invoked qsub for 108 commands\n"
       ]
      },
      {
       "output_type": "stream",
       "stream": "stdout",
       "text": [
        "== Launching  sepi ==\n"
       ]
      },
      {
       "metadata": {},
       "output_type": "pyout",
       "prompt_number": 14,
       "text": [
        "True"
       ]
      }
     ],
     "prompt_number": 14
    },
    {
     "cell_type": "code",
     "collapsed": false,
     "input": [
      "metadata.summary()"
     ],
     "language": "python",
     "metadata": {},
     "outputs": [
      {
       "output_type": "stream",
       "stream": "stdout",
       "text": [
        "Topographica version control summary:\n",
        "\n",
        "   Topographica: e1bc3f1 Fixed accidentally inverted condition in lancext\n",
        "                         [3 files have uncommited changes as captured by git diff]\n",
        "   Param:        5ea11fc Fixed pyflakes warning\n",
        "   Imagen:       6662568 Fixed import of dataviews style in analysis\n",
        "                         [1 files have uncommited changes as captured by git diff]\n",
        "   Lancet:       e6c922c Removed superfluous AttrTree instance in ViewFile\n",
        "   Numpy:        62a7575 Version 1.8.1 (release)\n"
       ]
      }
     ],
     "prompt_number": 15
    }
   ],
   "metadata": {}
  }
 ]
}