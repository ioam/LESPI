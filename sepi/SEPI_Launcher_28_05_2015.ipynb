{
 "metadata": {
  "name": "",
  "signature": "sha256:a21feeff19d922aa187b5c6db94f3c8103011dc5b27d6444960ea42f772bb182"
 },
 "nbformat": 3,
 "nbformat_minor": 0,
 "worksheets": [
  {
   "cells": [
    {
     "cell_type": "heading",
     "level": 1,
     "metadata": {},
     "source": [
      "SEPI Launcher - Short-range excitation Parvalbumin inhibition"
     ]
    },
    {
     "cell_type": "markdown",
     "metadata": {},
     "source": [
      "This is the launch notebook for parameter searches on the new SEPI model."
     ]
    },
    {
     "cell_type": "code",
     "collapsed": false,
     "input": [
      "import os\n",
      "import numpy as np\n",
      "\n",
      "import lancet"
     ],
     "language": "python",
     "metadata": {},
     "outputs": [],
     "prompt_number": 1
    },
    {
     "cell_type": "code",
     "collapsed": false,
     "input": [
      "os.environ['OMP_NUM_THREADS'] = '6'"
     ],
     "language": "python",
     "metadata": {},
     "outputs": [],
     "prompt_number": 2
    },
    {
     "cell_type": "code",
     "collapsed": false,
     "input": [
      "cd ../.."
     ],
     "language": "python",
     "metadata": {},
     "outputs": [
      {
       "output_type": "stream",
       "stream": "stdout",
       "text": [
        "/disk/data1/philippjfr/topographica\n"
       ]
      }
     ],
     "prompt_number": 3
    },
    {
     "cell_type": "code",
     "collapsed": false,
     "input": [
      "import external\n",
      "import topo\n",
      "from topo.analysis.command import measure_or_pref, measure_or_tuning_fullfield, measure_position_pref, measure_response\n",
      "from topo.command import runscript  # In order to check the model files load correctly\n",
      "from topo.misc.lancext import RunBatchCommand, topo_metadata"
     ],
     "language": "python",
     "metadata": {},
     "outputs": [
      {
       "output_type": "stream",
       "stream": "stdout",
       "text": [
        "_exec_command_posix failed (status=256)\n"
       ]
      },
      {
       "output_type": "stream",
       "stream": "stdout",
       "text": [
        "\n"
       ]
      }
     ],
     "prompt_number": 4
    },
    {
     "cell_type": "code",
     "collapsed": false,
     "input": [
      "cd work/sepi/"
     ],
     "language": "python",
     "metadata": {},
     "outputs": [
      {
       "output_type": "stream",
       "stream": "stdout",
       "text": [
        "/disk/data1/philippjfr/topographica/work/sepi\n"
       ]
      }
     ],
     "prompt_number": 5
    },
    {
     "cell_type": "code",
     "collapsed": false,
     "input": [
      "metadata = topo_metadata()\n",
      "output_directory = os.path.join(os.getcwd(), 'data')"
     ],
     "language": "python",
     "metadata": {},
     "outputs": [],
     "prompt_number": 6
    },
    {
     "cell_type": "code",
     "collapsed": false,
     "input": [
      "batch_name = 'sepi'"
     ],
     "language": "python",
     "metadata": {},
     "outputs": [],
     "prompt_number": 7
    },
    {
     "cell_type": "code",
     "collapsed": false,
     "input": [
      "import topo\n",
      "from topo.analysis import Collector\n",
      "from components.lespi import ModelLESPI\n",
      "from topo.submodel.gcal import ModelGCAL, ArraySpec\n",
      "\n",
      "from featuremapper.analysis.raster import fft_power\n",
      "from featuremapper.analysis.pinwheels import PinwheelAnalysis\n",
      "from featuremapper.analysis.hypercolumns import PowerSpectrumAnalysis\n",
      "\n",
      "from featuremapper.analysis.pinwheels import PinwheelAnalysis\n",
      "from featuremapper.analysis.hypercolumns import PowerSpectrumAnalysis\n",
      "\n",
      "from analysis import measure_size_tuning, measure_iso_suppression, measure_flanker_ormodulation, \\\n",
      "    measure_flanker_xoffsetmodulation, measure_flanker_yoffsetmodulation, measure_phase_tuning, \\\n",
      "    ComplexityAnalysis\n",
      "\n",
      "from topo.analysis.command import measure_or_pref, measure_or_tuning_fullfield, measure_response, measure_position_pref"
     ],
     "language": "python",
     "metadata": {},
     "outputs": [
      {
       "output_type": "stream",
       "stream": "stderr",
       "text": [
        "WARNING:root:Setting non-Parameter class attribute Model.MultiPortSheet = ComponentDecorator(MultiPortSheet, MultiPortSheet) \n"
       ]
      }
     ],
     "prompt_number": 8
    },
    {
     "cell_type": "code",
     "collapsed": false,
     "input": [
      "topo.sim.model = ModelLESPI(cortex_density=47, area=2.0, laterals=False)\n",
      "sepi = topo.sim.model.specification"
     ],
     "language": "python",
     "metadata": {},
     "outputs": [],
     "prompt_number": 9
    },
    {
     "cell_type": "code",
     "collapsed": false,
     "input": [
      "c = Collector()\n",
      "\n",
      "# Times and coords for further measurements\n",
      "coords=[(0,-0.1),(-0.1,0.0),(0,0),(0,0.1),(0.1,0.0)]\n",
      "times=[20000]\n",
      "frequency=1.65\n",
      "\n",
      "# Sheet activities\n",
      "c.Activity.Retina =         c.collect(sepi.sheets.Retina)\n",
      "c.Activity.V1Exc  =         c.collect(sepi.sheets.V1Exc)\n",
      "c.Activity.V1PV   =         c.collect(sepi.sheets.V1PV)\n",
      "# Connection fields\n",
      "c.CFs.LGNOnAfferent =       c.collect(sepi.projections.V1Exc.LGNOnAfferent,  grid=True)\n",
      "c.CFs.LGNOffAfferent =      c.collect(sepi.projections.V1Exc.LGNOffAfferent, grid=True)\n",
      "c.CFs.PVLGNOnAfferent =       c.collect(sepi.projections.V1PV.LGNOnAfferent,  grid=True)\n",
      "c.CFs.PVLGNOffAfferent =      c.collect(sepi.projections.V1PV.LGNOffAfferent, grid=True)\n",
      "\n",
      "# OR preference measurement\n",
      "c.collect(measure_or_pref, frequencies=[frequency])\n",
      "c.collect(measure_response, durations=list(np.linspace(0,1,21)))\n",
      "\n",
      "# Spatial Tuning Analysis\n",
      "c.collect(measure_position_pref, x_range=(-0.25,0.25), y_range=(-0.25,0.25),\n",
      "          size=0.1, outputs=['V1Exc'], divisions=24, scale=2.0)\n",
      "\n",
      "# Sheet activities\n",
      "c.Activity.Retina =         c.collect(sepi.sheets.Retina)\n",
      "c.Activity.V1Exc =          c.collect(sepi.sheets.V1Exc)\n",
      "c.Activity.V1PV =          c.collect(sepi.sheets.V1PV)\n",
      "\n",
      "# Connection fields\n",
      "c.CFs.LGNOnAfferent =       c.collect(sepi.projections.V1Exc.LGNOnAfferent,  grid=True)\n",
      "c.CFs.LGNOffAfferent =      c.collect(sepi.projections.V1Exc.LGNOffAfferent, grid=True)\n",
      "c.CFs.PVLGNOnAfferent =       c.collect(sepi.projections.V1PV.LGNOnAfferent,  grid=True)\n",
      "c.CFs.PVLGNOffAfferent =      c.collect(sepi.projections.V1PV.LGNOffAfferent, grid=True)\n",
      "c.CFs.PV2Exc =   c.collect(sepi.projections.V1Exc.PVInhibition, grid=True)\n",
      "c.CFs.Exc2PV =   c.collect(sepi.projections.V1PV.LateralPV, grid=True)\n",
      "\n",
      "# Homeostatic threshold\n",
      "c.HomeostaticThreshold.V1Exc = c.collect(ArraySpec('V1Exc.output_fns[0].t'), group='Homeostatic Threshold')\n",
      "\n",
      "# Analysis\n",
      "# Analysis\n",
      "c.Pinwheels.V1Exc =            c.analyze(c.ref.OrientationPreference.V1Exc\n",
      "                                      * c.ref.OrientationSelectivity.V1Exc, PinwheelAnalysis)\n",
      "c.FFTAnalysis.V1Exc =          c.analyze(c.ref.OrientationPreference.V1Exc, PowerSpectrumAnalysis)"
     ],
     "language": "python",
     "metadata": {},
     "outputs": [],
     "prompt_number": 10
    },
    {
     "cell_type": "code",
     "collapsed": false,
     "input": [
      "# Orientation Contrast Suppression\n",
      "c.analyze(c.ref.OrientationPreference.V1Exc, measure_iso_suppression, output='V1Exc',\n",
      "          frequency=frequency, times=times, mode='merge')\n",
      "\n",
      "# Size Tuning Analysis\n",
      "c.analyze(c.ref.OrientationPreference.V1Exc, measure_size_tuning, num_phase=8, output='V1Exc',\n",
      "          coords=coords, frequency=frequency, times=times, mode='merge')\n",
      "\n",
      "# Measure PhaseTuning and Complexity\n",
      "c.analyze(c.ref.OrientationPreference.V1Exc, measure_phase_tuning, outputs=['V1Exc'], frequencies=[frequency],\n",
      "          num_orientation=12, times=times, mode='merge')\n",
      "c.analyze(c.ref.PhaseTuning.V1Exc, ComplexityAnalysis, times=times, mode='merge')\n",
      "\n",
      "# Measure flanker modulation\n",
      "c.collect(measure_flanker_ormodulation, coords=coords, outputs=['V1Exc'], times=times)\n",
      "c.collect(measure_flanker_xoffsetmodulation, coords=coords, outputs=['V1Exc'], times=times)\n",
      "c.collect(measure_flanker_yoffsetmodulation, coords=coords, outputs=['V1Exc'], times=times)"
     ],
     "language": "python",
     "metadata": {},
     "outputs": [],
     "prompt_number": 11
    },
    {
     "cell_type": "code",
     "collapsed": false,
     "input": [
      "# Local or on cluster\n",
      "QSUB = False\n",
      "# Open diff in pager or not\n",
      "SHOW_DIFF = True"
     ],
     "language": "python",
     "metadata": {},
     "outputs": [],
     "prompt_number": 12
    },
    {
     "cell_type": "code",
     "collapsed": false,
     "input": [
      "#reference_file = 'HEAD:../reference/examples_gcal.ty'\n",
      "ty_file = './sepi.ty'\n",
      "\n",
      "#print(\"Running model %r\" % os.path.basename(ty_file))\n",
      "#if SHOW_DIFF: show_diff(reference_file, '8875edf:'+ty_file) # Red are changes relative to the ref\n",
      "#show_history(ty_file)"
     ],
     "language": "python",
     "metadata": {},
     "outputs": [],
     "prompt_number": 13
    },
    {
     "cell_type": "heading",
     "level": 3,
     "metadata": {},
     "source": [
      "Parameters"
     ]
    },
    {
     "cell_type": "code",
     "collapsed": false,
     "input": [
      "times = [1000*i for i in range(21)]\n",
      "print(\"Collection times start at %s and end at %s\" % (min(times), max(times)))"
     ],
     "language": "python",
     "metadata": {},
     "outputs": [
      {
       "output_type": "stream",
       "stream": "stdout",
       "text": [
        "Collection times start at 0 and end at 20000\n"
       ]
      }
     ],
     "prompt_number": 14
    },
    {
     "cell_type": "code",
     "collapsed": false,
     "input": [
      "parameter_space = lancet.Range('lat_loc_strength', 2.75, 3.25, 2) #* lancet.Range('lat_pv_strength', 2.25, 3.0, 4) * lancet.Range('pv_strength', 2.25, 3.0, 4)\n",
      "batch_arguments = parameter_space * lancet.Args(times=times) "
     ],
     "language": "python",
     "metadata": {},
     "outputs": [],
     "prompt_number": 15
    },
    {
     "cell_type": "code",
     "collapsed": false,
     "input": [
      "batch_arguments"
     ],
     "language": "python",
     "metadata": {},
     "outputs": [
      {
       "metadata": {},
       "output_type": "pyout",
       "prompt_number": 16,
       "text": [
        "Range(key='lat_loc_strength',start_value=2.75,end_value=3.25,steps=2,fp_precision=4) * Args(fp_precision=4,times=[0, 1000, 2000, 3000, 4000, 5000, 6000, 7000, 8000, 9000, 10000, 11000, 12000, 13000, 14000, 15000, 16000, 17000, 18000, 19000, 20000])"
       ]
      }
     ],
     "prompt_number": 16
    },
    {
     "cell_type": "code",
     "collapsed": false,
     "input": [
      "lancet.review_and_launch.output_directory = output_directory\n",
      "\n",
      "qsub_options = dict(b='y',\n",
      "                    pe=('memory-2G', '3'),   # Parallel environment allocation\n",
      "                    v='OMP_NUM_THREADS=3',   # Must match slot allocation above.\n",
      "                    l='h_rt=48:00:00',       # Time resource allocation \n",
      "                    P='inf_ndtc')            # Project\n",
      "\n",
      "@lancet.review_and_launch()\n",
      "def launch():\n",
      "    runbatch_cmd = RunBatchCommand(ty_file, c, metadata=batch_arguments.varying_keys)\n",
      "    Launcher = lancet.QLauncher if QSUB else lancet.Launcher\n",
      "    return Launcher(batch_name, batch_arguments, runbatch_cmd,  metadata=metadata(), \n",
      "                    **({'qsub_flag_options':qsub_options} if QSUB else {}))\n",
      "launch()"
     ],
     "language": "python",
     "metadata": {},
     "outputs": [
      {
       "output_type": "stream",
       "stream": "stdout",
       "text": [
        "\n",
        "=====================\n",
        "| Arguments Summary |\n",
        "=====================\n",
        "\n",
        "Items: 2\n",
        "Varying Keys: 'lat_loc_strength'\n",
        "Constant Items: times=[0, 1000, 2000, 3000, 4000, 5000, 6000, 7000, 8000, 9000, 10000, 11000, 12000, 13000, 14000, 15000, 16000, 17000, 18000, 19000, 20000]\n"
       ]
      },
      {
       "ename": "KeyboardInterrupt",
       "evalue": "",
       "output_type": "pyerr",
       "traceback": [
        "\u001b[1;31m---------------------------------------------------------------------------\u001b[0m\n\u001b[1;31mKeyboardInterrupt\u001b[0m                         Traceback (most recent call last)",
        "\u001b[1;32m<ipython-input-17-a51fd834aee1>\u001b[0m in \u001b[0;36m<module>\u001b[1;34m()\u001b[0m\n\u001b[0;32m     13\u001b[0m     return Launcher(batch_name, batch_arguments, runbatch_cmd,  metadata=metadata(), \n\u001b[0;32m     14\u001b[0m                     **({'qsub_flag_options':qsub_options} if QSUB else {}))\n\u001b[1;32m---> 15\u001b[1;33m \u001b[0mlaunch\u001b[0m\u001b[1;33m(\u001b[0m\u001b[1;33m)\u001b[0m\u001b[1;33m\u001b[0m\u001b[0m\n\u001b[0m",
        "\u001b[1;32m/afs/inf.ed.ac.uk/user/s10/s1048519/.virtualenvs/py2.7/lib/python2.7/site-packages/lancet/launch.pyc\u001b[0m in \u001b[0;36m__call__\u001b[1;34m(self, fn)\u001b[0m\n\u001b[0;32m    871\u001b[0m             \u001b[1;32mreturn\u001b[0m \u001b[0mself\u001b[0m\u001b[1;33m.\u001b[0m\u001b[0m_launch_all\u001b[0m\u001b[1;33m(\u001b[0m\u001b[0mlaunchers\u001b[0m\u001b[1;33m)\u001b[0m\u001b[1;33m\u001b[0m\u001b[0m\n\u001b[0;32m    872\u001b[0m         \u001b[1;32melse\u001b[0m\u001b[1;33m:\u001b[0m\u001b[1;33m\u001b[0m\u001b[0m\n\u001b[1;32m--> 873\u001b[1;33m             \u001b[1;32mreturn\u001b[0m \u001b[0mself\u001b[0m\u001b[1;33m.\u001b[0m\u001b[0m_review_all\u001b[0m\u001b[1;33m(\u001b[0m\u001b[0mlaunchers\u001b[0m\u001b[1;33m)\u001b[0m\u001b[1;33m\u001b[0m\u001b[0m\n\u001b[0m\u001b[0;32m    874\u001b[0m \u001b[1;33m\u001b[0m\u001b[0m\n\u001b[0;32m    875\u001b[0m     \u001b[1;32mdef\u001b[0m \u001b[0m_launch_all\u001b[0m\u001b[1;33m(\u001b[0m\u001b[0mself\u001b[0m\u001b[1;33m,\u001b[0m \u001b[0mlaunchers\u001b[0m\u001b[1;33m)\u001b[0m\u001b[1;33m:\u001b[0m\u001b[1;33m\u001b[0m\u001b[0m\n",
        "\u001b[1;32m/afs/inf.ed.ac.uk/user/s10/s1048519/.virtualenvs/py2.7/lib/python2.7/site-packages/lancet/launch.pyc\u001b[0m in \u001b[0;36m_review_all\u001b[1;34m(self, launchers)\u001b[0m\n\u001b[0;32m    900\u001b[0m \u001b[1;33m\u001b[0m\u001b[0m\n\u001b[0;32m    901\u001b[0m             \u001b[1;31m# Run reviews for all launchers if desired...\u001b[0m\u001b[1;33m\u001b[0m\u001b[1;33m\u001b[0m\u001b[0m\n\u001b[1;32m--> 902\u001b[1;33m             \u001b[1;32mif\u001b[0m \u001b[1;32mnot\u001b[0m \u001b[0mall\u001b[0m\u001b[1;33m(\u001b[0m\u001b[0mreviewer\u001b[0m\u001b[1;33m(\u001b[0m\u001b[0mlauncher\u001b[0m\u001b[1;33m)\u001b[0m \u001b[1;32mfor\u001b[0m \u001b[0mreviewer\u001b[0m \u001b[1;32min\u001b[0m \u001b[0mreviewers\u001b[0m\u001b[1;33m)\u001b[0m\u001b[1;33m:\u001b[0m\u001b[1;33m\u001b[0m\u001b[0m\n\u001b[0m\u001b[0;32m    903\u001b[0m                 \u001b[1;32mprint\u001b[0m\u001b[1;33m(\u001b[0m\u001b[1;34m\"\\n == Aborting launch ==\"\u001b[0m\u001b[1;33m)\u001b[0m\u001b[1;33m\u001b[0m\u001b[0m\n\u001b[0;32m    904\u001b[0m                 \u001b[1;32mreturn\u001b[0m \u001b[0mFalse\u001b[0m\u001b[1;33m\u001b[0m\u001b[0m\n",
        "\u001b[1;32m/afs/inf.ed.ac.uk/user/s10/s1048519/.virtualenvs/py2.7/lib/python2.7/site-packages/lancet/launch.pyc\u001b[0m in \u001b[0;36m<genexpr>\u001b[1;34m((reviewer,))\u001b[0m\n\u001b[0;32m    900\u001b[0m \u001b[1;33m\u001b[0m\u001b[0m\n\u001b[0;32m    901\u001b[0m             \u001b[1;31m# Run reviews for all launchers if desired...\u001b[0m\u001b[1;33m\u001b[0m\u001b[1;33m\u001b[0m\u001b[0m\n\u001b[1;32m--> 902\u001b[1;33m             \u001b[1;32mif\u001b[0m \u001b[1;32mnot\u001b[0m \u001b[0mall\u001b[0m\u001b[1;33m(\u001b[0m\u001b[0mreviewer\u001b[0m\u001b[1;33m(\u001b[0m\u001b[0mlauncher\u001b[0m\u001b[1;33m)\u001b[0m \u001b[1;32mfor\u001b[0m \u001b[0mreviewer\u001b[0m \u001b[1;32min\u001b[0m \u001b[0mreviewers\u001b[0m\u001b[1;33m)\u001b[0m\u001b[1;33m:\u001b[0m\u001b[1;33m\u001b[0m\u001b[0m\n\u001b[0m\u001b[0;32m    903\u001b[0m                 \u001b[1;32mprint\u001b[0m\u001b[1;33m(\u001b[0m\u001b[1;34m\"\\n == Aborting launch ==\"\u001b[0m\u001b[1;33m)\u001b[0m\u001b[1;33m\u001b[0m\u001b[0m\n\u001b[0;32m    904\u001b[0m                 \u001b[1;32mreturn\u001b[0m \u001b[0mFalse\u001b[0m\u001b[1;33m\u001b[0m\u001b[0m\n",
        "\u001b[1;32m/afs/inf.ed.ac.uk/user/s10/s1048519/.virtualenvs/py2.7/lib/python2.7/site-packages/lancet/launch.pyc\u001b[0m in \u001b[0;36mreview_args\u001b[1;34m(self, obj, show_repr, heading)\u001b[0m\n\u001b[0;32m    936\u001b[0m         \u001b[1;32mif\u001b[0m \u001b[0mshow_repr\u001b[0m\u001b[1;33m:\u001b[0m \u001b[1;32mprint\u001b[0m\u001b[1;33m(\u001b[0m\u001b[1;34m\"\\n%s\\n\"\u001b[0m \u001b[1;33m%\u001b[0m \u001b[0margs\u001b[0m\u001b[1;33m)\u001b[0m\u001b[1;33m\u001b[0m\u001b[0m\n\u001b[0;32m    937\u001b[0m         response = self.input_options(['y', 'N','quit'],\n\u001b[1;32m--> 938\u001b[1;33m                 '\\nShow available argument specifier entries?', default='n')\n\u001b[0m\u001b[0;32m    939\u001b[0m         \u001b[1;32mif\u001b[0m \u001b[0mresponse\u001b[0m \u001b[1;33m==\u001b[0m \u001b[1;34m'quit'\u001b[0m\u001b[1;33m:\u001b[0m \u001b[1;32mreturn\u001b[0m \u001b[0mFalse\u001b[0m\u001b[1;33m\u001b[0m\u001b[0m\n\u001b[0;32m    940\u001b[0m         \u001b[1;32mif\u001b[0m \u001b[0mresponse\u001b[0m \u001b[1;33m==\u001b[0m \u001b[1;34m'y'\u001b[0m\u001b[1;33m:\u001b[0m  \u001b[0margs\u001b[0m\u001b[1;33m.\u001b[0m\u001b[0mshow\u001b[0m\u001b[1;33m(\u001b[0m\u001b[1;33m)\u001b[0m\u001b[1;33m\u001b[0m\u001b[0m\n",
        "\u001b[1;32m/afs/inf.ed.ac.uk/user/s10/s1048519/.virtualenvs/py2.7/lib/python2.7/site-packages/lancet/launch.pyc\u001b[0m in \u001b[0;36minput_options\u001b[1;34m(self, options, prompt, default)\u001b[0m\n\u001b[0;32m    976\u001b[0m         \u001b[0mcheck_options\u001b[0m \u001b[1;33m=\u001b[0m \u001b[1;33m[\u001b[0m\u001b[0mx\u001b[0m\u001b[1;33m.\u001b[0m\u001b[0mlower\u001b[0m\u001b[1;33m(\u001b[0m\u001b[1;33m)\u001b[0m \u001b[1;32mfor\u001b[0m \u001b[0mx\u001b[0m \u001b[1;32min\u001b[0m \u001b[0moptions\u001b[0m\u001b[1;33m]\u001b[0m\u001b[1;33m\u001b[0m\u001b[0m\n\u001b[0;32m    977\u001b[0m         \u001b[1;32mwhile\u001b[0m \u001b[0mTrue\u001b[0m\u001b[1;33m:\u001b[0m\u001b[1;33m\u001b[0m\u001b[0m\n\u001b[1;32m--> 978\u001b[1;33m             \u001b[0mresponse\u001b[0m \u001b[1;33m=\u001b[0m \u001b[0minput\u001b[0m\u001b[1;33m(\u001b[0m\u001b[1;34m'%s [%s]: '\u001b[0m \u001b[1;33m%\u001b[0m \u001b[1;33m(\u001b[0m\u001b[0mprompt\u001b[0m\u001b[1;33m,\u001b[0m \u001b[1;34m', '\u001b[0m\u001b[1;33m.\u001b[0m\u001b[0mjoin\u001b[0m\u001b[1;33m(\u001b[0m\u001b[0moptions\u001b[0m\u001b[1;33m)\u001b[0m\u001b[1;33m)\u001b[0m\u001b[1;33m)\u001b[0m\u001b[1;33m.\u001b[0m\u001b[0mlower\u001b[0m\u001b[1;33m(\u001b[0m\u001b[1;33m)\u001b[0m\u001b[1;33m\u001b[0m\u001b[0m\n\u001b[0m\u001b[0;32m    979\u001b[0m             \u001b[1;32mif\u001b[0m \u001b[0mresponse\u001b[0m \u001b[1;32min\u001b[0m \u001b[0mcheck_options\u001b[0m\u001b[1;33m:\u001b[0m \u001b[1;32mreturn\u001b[0m \u001b[0mresponse\u001b[0m\u001b[1;33m.\u001b[0m\u001b[0mstrip\u001b[0m\u001b[1;33m(\u001b[0m\u001b[1;33m)\u001b[0m\u001b[1;33m\u001b[0m\u001b[0m\n\u001b[0;32m    980\u001b[0m             \u001b[1;32melif\u001b[0m \u001b[0mresponse\u001b[0m \u001b[1;33m==\u001b[0m \u001b[1;34m''\u001b[0m \u001b[1;32mand\u001b[0m \u001b[0mdefault\u001b[0m \u001b[1;32mis\u001b[0m \u001b[1;32mnot\u001b[0m \u001b[0mNone\u001b[0m\u001b[1;33m:\u001b[0m\u001b[1;33m\u001b[0m\u001b[0m\n",
        "\u001b[1;32m/afs/inf.ed.ac.uk/user/s10/s1048519/.virtualenvs/py2.7/lib/python2.7/site-packages/IPython/kernel/zmq/ipkernel.pyc\u001b[0m in \u001b[0;36m<lambda>\u001b[1;34m(prompt)\u001b[0m\n\u001b[0;32m    361\u001b[0m         \u001b[1;31m# raw_input in the user namespace.\u001b[0m\u001b[1;33m\u001b[0m\u001b[1;33m\u001b[0m\u001b[0m\n\u001b[0;32m    362\u001b[0m         \u001b[1;32mif\u001b[0m \u001b[0mcontent\u001b[0m\u001b[1;33m.\u001b[0m\u001b[0mget\u001b[0m\u001b[1;33m(\u001b[0m\u001b[1;34m'allow_stdin'\u001b[0m\u001b[1;33m,\u001b[0m \u001b[0mFalse\u001b[0m\u001b[1;33m)\u001b[0m\u001b[1;33m:\u001b[0m\u001b[1;33m\u001b[0m\u001b[0m\n\u001b[1;32m--> 363\u001b[1;33m             \u001b[0mraw_input\u001b[0m \u001b[1;33m=\u001b[0m \u001b[1;32mlambda\u001b[0m \u001b[0mprompt\u001b[0m\u001b[1;33m=\u001b[0m\u001b[1;34m''\u001b[0m\u001b[1;33m:\u001b[0m \u001b[0mself\u001b[0m\u001b[1;33m.\u001b[0m\u001b[0m_raw_input\u001b[0m\u001b[1;33m(\u001b[0m\u001b[0mprompt\u001b[0m\u001b[1;33m,\u001b[0m \u001b[0mident\u001b[0m\u001b[1;33m,\u001b[0m \u001b[0mparent\u001b[0m\u001b[1;33m)\u001b[0m\u001b[1;33m\u001b[0m\u001b[0m\n\u001b[0m\u001b[0;32m    364\u001b[0m             \u001b[0minput\u001b[0m \u001b[1;33m=\u001b[0m \u001b[1;32mlambda\u001b[0m \u001b[0mprompt\u001b[0m\u001b[1;33m=\u001b[0m\u001b[1;34m''\u001b[0m\u001b[1;33m:\u001b[0m \u001b[0meval\u001b[0m\u001b[1;33m(\u001b[0m\u001b[0mraw_input\u001b[0m\u001b[1;33m(\u001b[0m\u001b[0mprompt\u001b[0m\u001b[1;33m)\u001b[0m\u001b[1;33m)\u001b[0m\u001b[1;33m\u001b[0m\u001b[0m\n\u001b[0;32m    365\u001b[0m         \u001b[1;32melse\u001b[0m\u001b[1;33m:\u001b[0m\u001b[1;33m\u001b[0m\u001b[0m\n",
        "\u001b[1;32m/afs/inf.ed.ac.uk/user/s10/s1048519/.virtualenvs/py2.7/lib/python2.7/site-packages/IPython/kernel/zmq/ipkernel.pyc\u001b[0m in \u001b[0;36m_raw_input\u001b[1;34m(self, prompt, ident, parent)\u001b[0m\n\u001b[0;32m    763\u001b[0m             \u001b[1;32mexcept\u001b[0m \u001b[0mKeyboardInterrupt\u001b[0m\u001b[1;33m:\u001b[0m\u001b[1;33m\u001b[0m\u001b[0m\n\u001b[0;32m    764\u001b[0m                 \u001b[1;31m# re-raise KeyboardInterrupt, to truncate traceback\u001b[0m\u001b[1;33m\u001b[0m\u001b[1;33m\u001b[0m\u001b[0m\n\u001b[1;32m--> 765\u001b[1;33m                 \u001b[1;32mraise\u001b[0m \u001b[0mKeyboardInterrupt\u001b[0m\u001b[1;33m\u001b[0m\u001b[0m\n\u001b[0m\u001b[0;32m    766\u001b[0m             \u001b[1;32melse\u001b[0m\u001b[1;33m:\u001b[0m\u001b[1;33m\u001b[0m\u001b[0m\n\u001b[0;32m    767\u001b[0m                 \u001b[1;32mbreak\u001b[0m\u001b[1;33m\u001b[0m\u001b[0m\n",
        "\u001b[1;31mKeyboardInterrupt\u001b[0m: "
       ]
      }
     ],
     "prompt_number": 17
    },
    {
     "cell_type": "code",
     "collapsed": false,
     "input": [
      "metadata.summary()"
     ],
     "language": "python",
     "metadata": {},
     "outputs": []
    }
   ],
   "metadata": {}
  }
 ]
}