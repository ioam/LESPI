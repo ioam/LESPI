{
 "cells": [
  {
   "cell_type": "code",
   "execution_count": 1,
   "metadata": {
    "collapsed": true
   },
   "outputs": [],
   "source": [
    "import os\n",
    "import numpy as np\n",
    "import lancet"
   ]
  },
  {
   "cell_type": "code",
   "execution_count": 2,
   "metadata": {
    "collapsed": false
   },
   "outputs": [],
   "source": [
    "from topo.analysis.command import measure_or_pref\n",
    "from featuremapper.analysis.raster import fft_power\n",
    "from featuremapper.analysis.pinwheels import PinwheelAnalysis\n",
    "from featuremapper.analysis.hypercolumns import PowerSpectrumAnalysis\n",
    "from topo.analysis.command import measure_or_pref, measure_size_response, measure_or_tuning_fullfield, measure_position_pref, measure_response, measure_rfs\n",
    "from analysis import measure_size_tuning, measure_iso_suppression, measure_flanker_ormodulation, \\\n",
    "    measure_flanker_xoffsetmodulation, measure_flanker_yoffsetmodulation, measure_phase_tuning, \\\n",
    "    ComplexityAnalysis, similarity_analysis"
   ]
  },
  {
   "cell_type": "code",
   "execution_count": 3,
   "metadata": {
    "collapsed": false
   },
   "outputs": [
    {
     "data": {
      "text/html": [
       "\n",
       "<script src=\"https://code.jquery.com/ui/1.10.4/jquery-ui.min.js\" type=\"text/javascript\"></script>\n",
       "<script type=\"text/javascript\">function HoloViewsWidget(){\n",
       "}\n",
       "\n",
       "HoloViewsWidget.prototype.init_slider = function(init_val){\n",
       "\tif(this.load_json) {\n",
       "\t\tthis.from_json()\n",
       "\t} else {\n",
       "\t\tthis.update_cache();\n",
       "\t}\n",
       "}\n",
       "\n",
       "HoloViewsWidget.prototype.populate_cache = function(idx){\n",
       "    this.cache[idx].html(this.frames[idx]);\n",
       "    if (this.embed) {\n",
       "        delete this.frames[idx];\n",
       "    }\n",
       "}\n",
       "\n",
       "HoloViewsWidget.prototype.process_error = function(msg){\n",
       "\n",
       "}\n",
       "\n",
       "HoloViewsWidget.prototype.from_json = function() {\n",
       "\tvar data_url = this.json_path + this.id + '.json';\n",
       "\t$.getJSON(data_url, $.proxy(function(json_data) {\n",
       "\t\tthis.frames = json_data;\n",
       "\t\tthis.update_cache();\n",
       "\t\tthis.update(0);\n",
       "\t}, this));\n",
       "}\n",
       "\n",
       "HoloViewsWidget.prototype.dynamic_update = function(current){\n",
       "    function callback(msg){\n",
       "        /* This callback receives data from Python as a string\n",
       "         in order to parse it correctly quotes are sliced off*/\n",
       "        var data = msg.content.data['text/plain'].slice(1, -1);\n",
       "        this.frames[current] = data;\n",
       "        this.update_cache();\n",
       "        this.update(current);\n",
       "    }\n",
       "    if(!(current in this.cache)) {\n",
       "        var kernel = IPython.notebook.kernel;\n",
       "        callbacks = {iopub: {output: $.proxy(callback, this)}};\n",
       "        var cmd = \"holoviews.plotting.widgets.NdWidget.widgets['\" + this.id + \"'].update(\" + current + \")\";\n",
       "        kernel.execute(\"import holoviews;\" + cmd, callbacks, {silent : false});\n",
       "    } else {\n",
       "        this.update(current);\n",
       "    }\n",
       "}\n",
       "\n",
       "HoloViewsWidget.prototype.update_cache = function(){\n",
       "    var frame_len = Object.keys(this.frames).length;\n",
       "    for (var i=0; i<frame_len; i++) {\n",
       "        if(!this.load_json || this.dynamic)  {\n",
       "            frame = Object.keys(this.frames)[i];\n",
       "        } else {\n",
       "            frame = i;\n",
       "        }\n",
       "        if(!(frame in this.cache)) {\n",
       "            this.cache[frame] = $('<div />').appendTo(\"#\" + this.img_id).hide();\n",
       "            var cache_id = this.img_id+\"_\"+frame;\n",
       "            this.cache[frame].attr(\"id\", cache_id);\n",
       "            this.populate_cache(frame);\n",
       "        }\n",
       "    }\n",
       "}\n",
       "\n",
       "HoloViewsWidget.prototype.update = function(current){\n",
       "    if(current in this.cache) {\n",
       "        $.each(this.cache, function(index, value) {\n",
       "            value.hide();\n",
       "        });\n",
       "        this.cache[current].show();\n",
       "    }\n",
       "}\n",
       "\n",
       "\n",
       "function SelectionWidget(frames, id, slider_ids, keyMap, dim_vals, notFound, load_json, mode, cached, json_path, dynamic){\n",
       "    this.frames = frames;\n",
       "    this.fig_id = \"fig_\" + id;\n",
       "    this.img_id = \"_anim_img\" + id;\n",
       "    this.id = id;\n",
       "    this.slider_ids = slider_ids;\n",
       "    this.keyMap = keyMap\n",
       "    this.current_frame = 0;\n",
       "    this.current_vals = dim_vals;\n",
       "    this.load_json = load_json;\n",
       "    this.mode = mode;\n",
       "    this.notFound = notFound;\n",
       "    this.cached = cached;\n",
       "    this.dynamic = dynamic;\n",
       "    this.cache = {};\n",
       "\tthis.json_path = json_path;\n",
       "    this.init_slider(this.current_vals[0]);\n",
       "}\n",
       "\n",
       "SelectionWidget.prototype = new HoloViewsWidget;\n",
       "\n",
       "SelectionWidget.prototype.set_frame = function(dim_val, dim_idx){\n",
       "    this.current_vals[dim_idx] = dim_val;\n",
       "    if(this.dynamic) {\n",
       "        this.dynamic_update(this.current_vals)\n",
       "        return;\n",
       "    }\n",
       "    var key = \"(\";\n",
       "    for (var i=0; i<this.slider_ids.length; i++)\n",
       "    {\n",
       "        val = this.current_vals[i];\n",
       "        if (!(_.isString(val))) {\n",
       "            if (val % 1 === 0) { var fixed = 1;}\n",
       "            else { var fixed = 10;}\n",
       "            val = val.toFixed(fixed)\n",
       "        }\n",
       "        key += \"'\" + val + \"'\";\n",
       "        if(i != this.slider_ids.length-1) { key += ', ';}\n",
       "        else if(this.slider_ids.length == 1) { key += ',';}\n",
       "    }\n",
       "    key += \")\";\n",
       "    var current = this.keyMap[key];\n",
       "    this.current_frame = current;\n",
       "    if(this.cached) {\n",
       "        this.update(current)\n",
       "    } else {\n",
       "        this.dynamic_update(current)\n",
       "    }\n",
       "}\n",
       "\n",
       "\n",
       "/* Define the ScrubberWidget class */\n",
       "function ScrubberWidget(frames, num_frames, id, interval, load_json, mode, cached, json_path, dynamic){\n",
       "    this.img_id = \"_anim_img\" + id;\n",
       "    this.slider_id = \"_anim_slider\" + id;\n",
       "    this.loop_select_id = \"_anim_loop_select\" + id;\n",
       "    this.id = id;\n",
       "    this.fig_id = \"fig_\" + id;\n",
       "    this.interval = interval;\n",
       "    this.current_frame = 0;\n",
       "    this.direction = 0;\n",
       "    this.dynamic = dynamic;\n",
       "    this.timer = null;\n",
       "    this.load_json = load_json;\n",
       "    this.mode = mode;\n",
       "    this.cached = cached;\n",
       "    this.frames = frames;\n",
       "    this.cache = {};\n",
       "    this.length = num_frames;\n",
       "\tthis.json_path = json_path;\n",
       "    document.getElementById(this.slider_id).max = this.length - 1;\n",
       "    this.init_slider(0);\n",
       "}\n",
       "\n",
       "ScrubberWidget.prototype = new HoloViewsWidget;\n",
       "\n",
       "ScrubberWidget.prototype.set_frame = function(frame){\n",
       "    this.current_frame = frame;\n",
       "    document.getElementById(this.slider_id).value = this.current_frame;\n",
       "    if(this.cached) {\n",
       "        this.update(frame)\n",
       "    } else {\n",
       "        this.dynamic_update(frame)\n",
       "    }\n",
       "}\n",
       "\n",
       "\n",
       "ScrubberWidget.prototype.process_error = function(msg){\n",
       "\tif (msg.content.ename === 'StopIteration') {\n",
       "\t\tthis.pause_animation();\n",
       "\t\tvar keys = Object.keys(this.frames)\n",
       "\t\tthis.length = keys.length;\n",
       "\t\tdocument.getElementById(this.slider_id).max = this.length-1;\n",
       "\t\tdocument.getElementById(this.slider_id).value = this.length-1;\n",
       "\t\tthis.current_frame = this.length-1;\n",
       "\t}\n",
       "}\n",
       "\n",
       "\n",
       "ScrubberWidget.prototype.get_loop_state = function(){\n",
       "    var button_group = document[this.loop_select_id].state;\n",
       "    for (var i = 0; i < button_group.length; i++) {\n",
       "        var button = button_group[i];\n",
       "        if (button.checked) {\n",
       "            return button.value;\n",
       "        }\n",
       "    }\n",
       "    return undefined;\n",
       "}\n",
       "\n",
       "\n",
       "ScrubberWidget.prototype.next_frame = function() {\n",
       "\tif (this.dynamic && this.current_frame + 1 >= this.length) {\n",
       "\t\tthis.length += 1;\n",
       "        document.getElementById(this.slider_id).max = this.length-1;\n",
       "\t}\n",
       "    this.set_frame(Math.min(this.length - 1, this.current_frame + 1));\n",
       "}\n",
       "\n",
       "ScrubberWidget.prototype.previous_frame = function() {\n",
       "    this.set_frame(Math.max(0, this.current_frame - 1));\n",
       "}\n",
       "\n",
       "ScrubberWidget.prototype.first_frame = function() {\n",
       "    this.set_frame(0);\n",
       "}\n",
       "\n",
       "ScrubberWidget.prototype.last_frame = function() {\n",
       "    this.set_frame(this.length - 1);\n",
       "}\n",
       "\n",
       "ScrubberWidget.prototype.slower = function() {\n",
       "    this.interval /= 0.7;\n",
       "    if(this.direction > 0){this.play_animation();}\n",
       "    else if(this.direction < 0){this.reverse_animation();}\n",
       "}\n",
       "\n",
       "ScrubberWidget.prototype.faster = function() {\n",
       "    this.interval *= 0.7;\n",
       "    if(this.direction > 0){this.play_animation();}\n",
       "    else if(this.direction < 0){this.reverse_animation();}\n",
       "}\n",
       "\n",
       "ScrubberWidget.prototype.anim_step_forward = function() {\n",
       "    if(this.current_frame < this.length || this.dynamic){\n",
       "        this.next_frame();\n",
       "    }else{\n",
       "        var loop_state = this.get_loop_state();\n",
       "        if(loop_state == \"loop\"){\n",
       "            this.first_frame();\n",
       "        }else if(loop_state == \"reflect\"){\n",
       "            this.last_frame();\n",
       "            this.reverse_animation();\n",
       "        }else{\n",
       "            this.pause_animation();\n",
       "            this.last_frame();\n",
       "        }\n",
       "    }\n",
       "}\n",
       "\n",
       "ScrubberWidget.prototype.anim_step_reverse = function() {\n",
       "    this.current_frame -= 1;\n",
       "    if(this.current_frame >= 0){\n",
       "        this.set_frame(this.current_frame);\n",
       "    } else {\n",
       "        var loop_state = this.get_loop_state();\n",
       "        if(loop_state == \"loop\"){\n",
       "            this.last_frame();\n",
       "        }else if(loop_state == \"reflect\"){\n",
       "            this.first_frame();\n",
       "            this.play_animation();\n",
       "        }else{\n",
       "            this.pause_animation();\n",
       "            this.first_frame();\n",
       "        }\n",
       "    }\n",
       "}\n",
       "\n",
       "ScrubberWidget.prototype.pause_animation = function() {\n",
       "    this.direction = 0;\n",
       "    if (this.timer){\n",
       "        clearInterval(this.timer);\n",
       "        this.timer = null;\n",
       "    }\n",
       "}\n",
       "\n",
       "ScrubberWidget.prototype.play_animation = function() {\n",
       "    this.pause_animation();\n",
       "    this.direction = 1;\n",
       "    var t = this;\n",
       "    if (!this.timer) this.timer = setInterval(function(){t.anim_step_forward();}, this.interval);\n",
       "}\n",
       "\n",
       "ScrubberWidget.prototype.reverse_animation = function() {\n",
       "    this.pause_animation();\n",
       "    this.direction = -1;\n",
       "    var t = this;\n",
       "    if (!this.timer) this.timer = setInterval(function(){t.anim_step_reverse();}, this.interval);\n",
       "}\n",
       "\n",
       "function extend(destination, source) {\n",
       "    for (var k in source) {\n",
       "        if (source.hasOwnProperty(k)) {\n",
       "            destination[k] = source[k];\n",
       "        }\n",
       "    }\n",
       "    return destination;\n",
       "}\n",
       "\n",
       "function update_widget(widget, values) {\n",
       "\tif (widget.hasClass(\"ui-slider\")) {\n",
       "\t\twidget.slider('option',\n",
       "\t\t\t\t\t  {'min': 0, 'max': values.length-1,\n",
       "\t\t\t\t\t   'dim_vals': values, 'value': 0})\n",
       "\t\twidget.slider('option', 'slide').call(widget, event, {'value': 0})\n",
       "\t} else {\n",
       "\t\twidget.empty();\n",
       "\t\tfor (var i=0; i<values.length; i++){\n",
       "\t\t\twidget.append($(\"<option>\", {\n",
       "\t\t\t\tvalue: i,\n",
       "\t\t\t\ttext: values[i]\n",
       "\t\t\t}))};\n",
       "\t\twidget.trigger(\"change\");\n",
       "\t};\n",
       "}\n",
       "\n",
       "// Define Bokeh specific subclasses\n",
       "function BokehSelectionWidget() {\n",
       "\tSelectionWidget.apply(this, arguments);\n",
       "}\n",
       "\n",
       "function BokehScrubberWidget() {\n",
       "\tScrubberWidget.apply(this, arguments);\n",
       "}\n",
       "\n",
       "// Let them inherit from the baseclasses\n",
       "BokehSelectionWidget.prototype = Object.create(SelectionWidget.prototype);\n",
       "BokehScrubberWidget.prototype = Object.create(ScrubberWidget.prototype);\n",
       "\n",
       "// Define methods to override on widgets\n",
       "var BokehMethods = {\n",
       "\tupdate_cache : function(){\n",
       "\t\t$.each(this.frames, $.proxy(function(index, frame) {\n",
       "\t\t\tthis.frames[index] = JSON.parse(frame);\n",
       "\t\t}, this));\n",
       "\t},\n",
       "\tupdate : function(current){\n",
       "\t\tif (current === undefined) {\n",
       "\t\t\tvar data = undefined;\n",
       "\t\t} else {\n",
       "\t\t\tvar data = this.frames[current];\n",
       "\t\t}\n",
       "\t\tif (data !== undefined) {\n",
       "\t\t\tif (data.root !== undefined) {\n",
       "\t\t\t\tvar doc = Bokeh.index[data.root].model.document;\n",
       "\t\t\t}\n",
       "\t\t\t$.each(data.data, function(i, value) {\n",
       "\t\t\t\tif (data.root !== undefined) {\n",
       "\t\t\t\t\tvar ds = doc.get_model_by_id(value.id);\n",
       "\t\t\t\t} else {\n",
       "\t\t\t\t\tvar ds = Bokeh.Collections(value.type).get(value.id);\n",
       "\t\t\t\t}\n",
       "\t\t\t\tif (ds != undefined) {\n",
       "\t\t\t\t\tds.set(value.data);\n",
       "\t\t\t\t\tds.trigger('change');\n",
       "\t\t\t\t}\n",
       "\t\t\t});\n",
       "\t\t}\n",
       "\t},\n",
       "\tdynamic_update : function(current){\n",
       "\t\tif (current === undefined) {\n",
       "\t\t\treturn\n",
       "\t\t}\n",
       "\t\tif(this.dynamic) {\n",
       "\t\t\tcurrent = JSON.stringify(current);\n",
       "\t\t}\n",
       "\t\tfunction callback(initialized, msg){\n",
       "\t\t\t/* This callback receives data from Python as a string\n",
       "\t\t\t in order to parse it correctly quotes are sliced off*/\n",
       "\t\t\tif (msg.content.ename != undefined) {\n",
       "\t\t\t\tthis.process_error(msg);\n",
       "\t\t\t}\n",
       "\t\t\tif (msg.msg_type != \"execute_result\") {\n",
       "\t\t\t\tconsole.log(\"Warning: HoloViews callback returned unexpected data for key: (\", current, \") with the following content:\", msg.content)\n",
       "\t\t\t\treturn\n",
       "\t\t\t}\n",
       "\t\t\tif (msg.msg_type == \"execute_result\") {\n",
       "\t\t\t\tvar data = msg.content.data['text/plain'].slice(1, -1);\n",
       "\t\t\t\tthis.frames[current] = JSON.parse(data);\n",
       "\t\t\t\tthis.update(current);\n",
       "\t\t\t}\n",
       "\t\t}\n",
       "\t\tvar kernel = IPython.notebook.kernel;\n",
       "\t\tcallbacks = {iopub: {output: $.proxy(callback, this, this.initialized)}};\n",
       "\t\tvar cmd = \"holoviews.plotting.widgets.NdWidget.widgets['\" + this.id + \"'].update(\" + current + \")\";\n",
       "\t\tkernel.execute(\"import holoviews;\" + cmd, callbacks, {silent : false});\n",
       "\t}\n",
       "}\n",
       "\n",
       "// Extend Bokeh widgets with backend specific methods\n",
       "extend(BokehSelectionWidget.prototype, BokehMethods);\n",
       "extend(BokehScrubberWidget.prototype, BokehMethods);\n",
       "\n",
       "// Define MPL specific subclasses\n",
       "function MPLSelectionWidget() {\n",
       "\tSelectionWidget.apply(this, arguments);\n",
       "}\n",
       "\n",
       "function MPLScrubberWidget() {\n",
       "\tScrubberWidget.apply(this, arguments);\n",
       "}\n",
       "\n",
       "// Let them inherit from the baseclasses\n",
       "MPLSelectionWidget.prototype = Object.create(SelectionWidget.prototype);\n",
       "MPLScrubberWidget.prototype = Object.create(ScrubberWidget.prototype);\n",
       "\n",
       "// Define methods to override on widgets\n",
       "var MPLMethods = {\n",
       "\tinit_slider : function(init_val){\n",
       "\t\tif(this.load_json) {\n",
       "\t\t\tthis.from_json()\n",
       "\t\t} else {\n",
       "\t\t\tthis.update_cache();\n",
       "\t\t}\n",
       "\t\tthis.update(0);\n",
       "\t\tif(this.mode == 'nbagg') {\n",
       "\t\t\tthis.set_frame(init_val, 0);\n",
       "\t\t}\n",
       "\t},\n",
       "\tpopulate_cache : function(idx){\n",
       "\t\tvar cache_id = this.img_id+\"_\"+idx;\n",
       "\t\tif(this.mode == 'mpld3') {\n",
       "\t\t\tmpld3.draw_figure(cache_id, this.frames[idx]);\n",
       "\t\t} else {\n",
       "\t\t\tthis.cache[idx].html(this.frames[idx]);\n",
       "\t\t}\n",
       "\t\tif (this.embed) {\n",
       "\t\t\tdelete this.frames[idx];\n",
       "\t\t}\n",
       "\t},\n",
       "\tdynamic_update : function(current){\n",
       "\t\tif (this.dynamic) {\n",
       "\t\t\tcurrent = JSON.stringify(current);\n",
       "\t\t}\n",
       "\t\tfunction callback(msg){\n",
       "\t\t\t/* This callback receives data from Python as a string\n",
       "\t\t\t in order to parse it correctly quotes are sliced off*/\n",
       "\t\t\tif (msg.content.ename != undefined) {\n",
       "\t\t\t\tthis.process_error(msg);\n",
       "\t\t\t}\n",
       "\t\t\tif (msg.msg_type != \"execute_result\") {\n",
       "\t\t\t\tconsole.log(\"Warning: HoloViews callback returned unexpected data for key: (\", current, \") with the following content:\", msg.content)\n",
       "\t\t\t\treturn\n",
       "\t\t\t}\n",
       "\t\t\tif (!(this.mode == 'nbagg')) {\n",
       "\t\t\t\tif(!(current in this.cache)) {\n",
       "\t\t\t\t\tvar data = msg.content.data['text/plain'].slice(1, -1);\n",
       "\t\t\t\t\tif(this.mode == 'mpld3'){\n",
       "\t\t\t\t\t\tdata = JSON.parse(data)[0];\n",
       "\t\t\t\t\t}\n",
       "\t\t\t\t\tthis.frames[current] = data;\n",
       "\t\t\t\t\tthis.update_cache();\n",
       "\t\t\t\t}\n",
       "\t\t\t\tthis.update(current);\n",
       "\t\t\t}\n",
       "\t\t}\n",
       "\t\tvar kernel = IPython.notebook.kernel;\n",
       "\t\tcallbacks = {iopub: {output: $.proxy(callback, this)}};\n",
       "\t\tvar cmd = \"holoviews.plotting.widgets.NdWidget.widgets['\" + this.id + \"'].update(\" + current + \")\";\n",
       "\t\tkernel.execute(\"import holoviews;\" + cmd, callbacks, {silent : false});\n",
       "\t}\n",
       "}\n",
       "\n",
       "// Extend MPL widgets with backend specific methods\n",
       "extend(MPLSelectionWidget.prototype, MPLMethods);\n",
       "extend(MPLScrubberWidget.prototype, MPLMethods);\n",
       "</script>\n",
       "\n",
       "\n",
       "<link rel=\"stylesheet\" href=\"https://code.jquery.com/ui/1.10.4/themes/smoothness/jquery-ui.css\">\n",
       "<style>div.hololayout {\n",
       "    display: flex;\n",
       "    align-items: center;\n",
       "    margin: 0;\n",
       "}\n",
       "\n",
       "div.holowell {\n",
       "    display: flex;\n",
       "    align-items: center;\n",
       "    margin: 0;\n",
       "}\n",
       "\n",
       "form.holoform {\n",
       "    background-color: #fafafa;\n",
       "    border-radius: 5px;\n",
       "    overflow: hidden;\n",
       "    padding: 0.8em;\n",
       "}\n",
       "\n",
       "div.holowidgets {\n",
       "    padding-right: 0;\n",
       "}\n",
       "\n",
       "div.holoslider {\n",
       "    min-height: 0 !important;\n",
       "    height: 0.8em;\n",
       "}\n",
       "\n",
       "div.holoformgroup {\n",
       "    padding-right: 0.5em;\n",
       "    padding-top: 0.5em;\n",
       "    margin-bottom: 0.5em;\n",
       "}\n",
       "\n",
       "div.hologroup {\n",
       "    padding-left: 0;\n",
       "    padding-right: 0;\n",
       "}\n",
       "\n",
       ".holoselect {\n",
       "    width: 92%;\n",
       "    margin-left: 0;\n",
       "    margin-right: 0;\n",
       "}\n",
       "\n",
       ".holotext {\n",
       "    width: 100%;\n",
       "    padding-left:  0.5em;\n",
       "    padding-right: 0;\n",
       "}\n",
       "\n",
       "div.bk-hbox {\n",
       "    display: flex;\n",
       "    justify-content: center;\n",
       "}\n",
       "\n",
       "div.bk-hbox div.bk-plot {\n",
       "    padding: 8px;\n",
       "}\n",
       "\n",
       "div.bk-hbox div.bk-data-table {\n",
       "    padding: 20px;\n",
       "}\n",
       "</style>\n",
       "\n",
       "\n",
       "<div>\n",
       "<img src='data:image/png;base64,iVBORw0KGgoAAAANSUhEUgAAABkAAAAZCAIAAABLixI0AAAACXBIWXMAAAsTAAALEwEAmpwYAAAAB3RJTUUH3wkCDDIOi3cusgAABT1JREFUOMtVlclvG2UYh3/fMovHe53FThySNHZomrRJl6QR0AJdpVblQBEHJC4ciipxAgmO3PgPEP8BQkIsRUJUSF1oqGih0JY2CtnjOLGz2Em8xPbMeL6Pw9RJOprLjPT+5tH7Pu83JE7pqeHh8wMD2evfyXMXf/nxB2FZo6dPNzVHvvr6GxMQeOEigARswNzzUgK6x8NagPzS0nqxODQ62nLn1xMnX99/eLC3sGVROj2/IBxHABKgANlzM4ACTuMRAOecNREiAWtzc0NIEu/M37zVMTWeqlrpUDg1M7NTVgdkowwvxqGRRV1CE8jOznq7uhYAi2CpXtdVVQE4QAAdCAAGwAAJyEa9Amh7PsAihBBAABrg1XUfpe3bxTXb8XR0WJa1VSzWGyAcUAEVoIAARIMOQH2HC4AA6lKW8/n9Pm/Ahl4zV8fGTg0PtzQ3K3tA3GId8AO+BqZLt8sFQKE0GouRSkWtFM63KV0Vy1rJhN44k56cFFI6exJ3MBWANACVHS63aw5QtutVVT/4xWfHv/0ylytmHvx56sIFLxACfIABGIAf8ANRn++9y5evXrkS0XWXd5dLJWRfOHwspA1tr4iFtP3gD8/apjCtSDiyQYhZKNA94wOQTCQPhfzm9FTJH8jn84Tz3SyPlEQ4vf0Dt5/MPE5vpVObzQbxqvaDdL731MnWnh5pmsxxdE3rTCZfO3u2FbL6+2+hzpcKwXA2ldrNUgAVII7TMXhkZnzcAQTgAWI6sgV7YmKivLra1tFxMJk4Ho/r5fLy3btsYS7JHL1YoeHQKldKhcLzLNcdlRDOWDgczuVyOtDt4yN9gRYVmc161TTLmYw9P9e8OHcU5dG2fa3EmhNyKjGwROmzZ8+YqlIAKsDd9jtOenIy1t8vgDJQtuvYrjRT0kMQBRIUQxqSXkSDUIO0YAulvdfxGk/u33eVZs2EeBvu6gCjtKW7Oz81xQBhI73mtATQn/BuZ6wTrezsYX+1Jn+aNR8sl9Zb47l4/O+HD2u27QDgnHUQwhvKuFmRaLS2tkZsmwJSQpqIUzHYyynndx5t/1Vy5gXyhMhorEJIKpViQB0QnFNlZzkbdExRhBAckIAFbFXFetkpg94er004WK6jCniamrRAYHlmxhXFtWTXVfW50SQYDjvVKm+YHVMR10G5VAGrcWAohkEVpbC1RRo7QN2mS0BzuQiJHziwMTurAwrgBTo95NVjnshb3XaF9q1MTM7VeWNv6kJQgAISYAAHuARUQAHA2NCZM35KJ27c6KA4YiBXJlpVro5bkaGN2mStsCy8gAXobpyU7iFhAgxQAB40jMHh4WhnJ6nVpsfGVjOZUQMhi40k9K1FqQZI4ogffd3k33GPobTb5kCIFmriEYjgnABao60KwD68eCnz5PH0vXsr4+OsVIpRvNmpnLvQEozRpm5vxAP107dx+RMlvGTcmw7Xle6DwZlsdbZY05qbAq2ta9msCkhAcM4+yv+3uFZWAA+gA5pEaUOUnpaMohb+/BK7+j76r4IliFoyAv9EjsZ4ZbMmyOKqmdvciiWTL4+OUsY8mkY554d7okGyciuHqgQFVIABlkJ9fV44FLFrz8ecuIZ3u6offzD1fSnFmJSgle35mzcdVQ1Eo23B4Eh7lJdWNgZGohM/r5QAjZEoaDzi0TfKPlFDV/KF35mqs0NN1v3iRrqqAT7Xbdti6UXPImKZaf5SQiUBtAIG0OVXXnmnDUJWb9nET7D8VPba7pAJTKRnxPUpI+v0BXlApZPrlgDaCTke1VqaaLZC/wesjSVVF5Ac7QAAAABJRU5ErkJggg=='\n",
       "     style='width:25px;height:25px; border-radius:12px;'/>\n",
       "\n",
       "HoloViewsJS successfully loaded in this cell.\n",
       "</div>\n"
      ],
      "text/plain": [
       "<IPython.core.display.HTML object>"
      ]
     },
     "metadata": {},
     "output_type": "display_data"
    }
   ],
   "source": [
    "%load_ext holoviews.ipython"
   ]
  },
  {
   "cell_type": "code",
   "execution_count": 4,
   "metadata": {
    "collapsed": true
   },
   "outputs": [],
   "source": [
    "import topo\n",
    "from topo.analysis import Collector\n",
    "from topo.submodel.scal import ModelSCAL\n",
    "from topo.submodel.gcal import ArraySpec\n",
    "\n",
    "from topo.command import runscript  # In order to check the model files load correctly\n",
    "from topo.misc.lancext import RunBatchCommand, topo_metadata"
   ]
  },
  {
   "cell_type": "markdown",
   "metadata": {},
   "source": [
    "# Experimental Setup"
   ]
  },
  {
   "cell_type": "code",
   "execution_count": 5,
   "metadata": {
    "collapsed": false
   },
   "outputs": [
    {
     "name": "stdout",
     "output_type": "stream",
     "text": [
      "Collection times start at 0 and end at 20000\n"
     ]
    }
   ],
   "source": [
    "batch_name = 'SCAL_spatial'\n",
    "\n",
    "# Model options\n",
    "laterals = False\n",
    "\n",
    "# Measurements\n",
    "rfs = True\n",
    "isosuppression = True\n",
    "sizetuning = True\n",
    "frequencytuning = True\n",
    "complexity = False\n",
    "flankers = True\n",
    "\n",
    "# Define times\n",
    "times = [1000*i for i in range(21)]\n",
    "print(\"Collection times start at %s and end at %s\" % (min(times), max(times)))\n",
    "\n",
    "# Define Args\n",
    "constants = lancet.Args(area=4.0, aff_strength=2.4, exc_strength=1.6, inh_strength=1.8,\n",
    "                        cortex_density=47, lgn_density=16, laterals=laterals, t_settle=16,)\n",
    "batch_arguments =  constants * lancet.Args(times=times) * lancet.List('dataset', ['Gaussian', 'natural', 'treeshrew'])"
   ]
  },
  {
   "cell_type": "code",
   "execution_count": 6,
   "metadata": {
    "collapsed": false
   },
   "outputs": [],
   "source": [
    "topo.sim.model = ModelSCAL(laterals=laterals, area=2.0)\n",
    "scal = topo.sim.model.specification"
   ]
  },
  {
   "cell_type": "code",
   "execution_count": 7,
   "metadata": {
    "collapsed": false
   },
   "outputs": [
    {
     "data": {
      "text/plain": [
       "=========\n",
       "ModelSCAL\n",
       "=========\n",
       "\n",
       "Retina : GeneratorSheet\n",
       "\n",
       "LGNOn : SettlingCFSheet\n",
       "   LGNOn.Afferent [Retina -> LGNOn] : SharedWeightCFProjection\n",
       "   LGNOn.LateralGC [LGNOn -> LGNOn] : SharedWeightCFProjection\n",
       "\n",
       "LGNOff : SettlingCFSheet\n",
       "   LGNOff.Afferent [Retina -> LGNOff] : SharedWeightCFProjection\n",
       "   LGNOff.LateralGC [LGNOff -> LGNOff] : SharedWeightCFProjection\n",
       "\n",
       "V1 : SettlingCFSheet\n",
       "   V1.LGNOffAfferent [LGNOff -> V1] : CFProjection\n",
       "   V1.LGNOnAfferent [LGNOn -> V1] : CFProjection\n",
       "   V1.LateralExcitatory [V1 -> V1] : CFProjection\n",
       "   V1.LateralInhibitory [V1 -> V1] : CFProjection\n"
      ]
     },
     "execution_count": 7,
     "metadata": {},
     "output_type": "execute_result"
    }
   ],
   "source": [
    "topo.sim.model()"
   ]
  },
  {
   "cell_type": "code",
   "execution_count": null,
   "metadata": {
    "collapsed": false
   },
   "outputs": [
    {
     "name": "stdout",
     "output_type": "stream",
     "text": [
      "Measurement Progress:\n",
      "[########################################                              ] 57.3%"
     ]
    }
   ],
   "source": [
    "rfs = measure_rfs(roi=(-.25, -.25, .25, .25), presentations=500, scale=100, outputs=['V1'], durations=[0.2, 0.8],\n",
    "                 store_responses=False)"
   ]
  },
  {
   "cell_type": "code",
   "execution_count": null,
   "metadata": {
    "collapsed": true
   },
   "outputs": [],
   "source": [
    "rfs.Retina_Reverse_Correlation.V1[0,0]"
   ]
  },
  {
   "cell_type": "code",
   "execution_count": null,
   "metadata": {
    "collapsed": false
   },
   "outputs": [],
   "source": [
    "c = Collector()\n",
    "\n",
    "# Projection activities\n",
    "c.Activity.LGNOnAfferent =  c.collect(scal.projections.V1.LGNOnAfferent)\n",
    "c.Activity.LGNOffAfferent = c.collect(scal.projections.V1.LGNOffAfferent)\n",
    "\n",
    "# OR preference measurement\n",
    "c.collect(measure_or_pref)\n",
    "# Sheet activities\n",
    "c.Activity.Retina =         c.collect(scal.sheets.Retina)\n",
    "c.Activity.V1 =             c.collect(scal.sheets.V1)\n",
    "# Connection fields\n",
    "c.CFs.LGNOnAfferent =       c.collect(scal.projections.V1.LGNOnAfferent,  grid=True)\n",
    "c.CFs.LGNOffAfferent =      c.collect(scal.projections.V1.LGNOffAfferent, grid=True)\n",
    "c.CFs.LateralInhibitory =   c.collect(scal.projections.V1.LateralInhibitory, grid=True)\n",
    "c.CFs.LateralExcitatory =   c.collect(scal.projections.V1.LateralExcitatory, grid=True)\n",
    "if laterals:\n",
    "    c.CFs.LRExcitatory =   c.collect(scal.projections.V1.LRExcitatory, grid=True)\n",
    "\n",
    "# Homeostatic threshold\n",
    "c.HomeostaticThreshold.V1 = c.collect(ArraySpec('V1.output_fns[0].t'), \n",
    "                                                group='Homeostatic Threshold')\n",
    "\n",
    "# OR preference measurement\n",
    "c.collect(measure_or_pref, frequencies=[1.4, 1.6, 1.8])\n",
    "c.collect(measure_response, durations=list(np.linspace(0,1,21)))\n",
    "c.collect(measure_or_tuning_fullfield, contrasts=[5, 10, 20 30, 50, 70, 100],\n",
    "          frequencies=[1.4, 1.6, 1.8], times=[times[-1]])\n",
    "\n",
    "if rfs:\n",
    "    c.collect(measure_rfs, roi=(-.25, -.25, .25, .25), presentations=5000, scale=100, outputs=['V1'], times=[times[-1]])\n",
    "\n",
    "# Times and coords for further measurements\n",
    "coords=[(0,-0.1),(-0.1,0.0),(0,0),(0,0.1),(0.1,0.0)]\n",
    "frequency=1.5\n",
    "\n",
    "# Analysis\n",
    "c.Pinwheels.V1   = c.analyze(c.ref.OrientationPreference.V1[:, -1.5:1.5, -1.5:1.5]\n",
    "                             * c.ref.OrientationSelectivity.V1[:, -1.5:1.5, -1.5:1.5], PinwheelAnalysis)\n",
    "c.FFTAnalysis.V1 = c.analyze(c.ref.OrientationPreference.V1[:, -1.5:1.5, -1.5:1.5], PowerSpectrumAnalysis)\n",
    "\n",
    "# Measure position preference, requisite for other measurements\n",
    "if sizetuning or frequencytuning or flankers or complexity or isosuppression:\n",
    "    c.collect(measure_position_pref, x_range=(-0.4,0.4), y_range=(-0.4,0.4),\n",
    "              size=0.1, outputs=['V1'], divisions=36, scale=2.0)\n",
    "\n",
    "# Orientation Contrast Suppression\n",
    "if isosuppression:\n",
    "    c.analyze(c.ref.OrientationPreference.V1, measure_iso_suppression, output='V1',\n",
    "              frequency=frequency, contrastcenter=50, contrastsurround=[10, 100], times=[times[-1]], mode='merge')\n",
    "\n",
    "# Size Tuning Analysis\n",
    "if sizetuning:\n",
    "    c.analyze(c.ref.OrientationPreference.V1, measure_size_tuning, num_phase=8, outputs=['V1'],\n",
    "              coords=coords, frequency=frequency, contrasts=[10, 100], times=[times[-1]], mode='merge')\n",
    "\n",
    "# Measure PhaseTuning and Complexity\n",
    "if complexity:\n",
    "    c.analyze(c.ref.OrientationPreference.V1, measure_phase_tuning, outputs=['V1'], frequencies=[frequency],\n",
    "              num_orientation=12, times=times, mode='merge')\n",
    "    c.analyze(c.ref.PhaseTuning.V1, ComplexityAnalysis, times=[times[-1]], mode='merge')\n",
    "\n",
    "# Measure flanker modulation\n",
    "if flankers:\n",
    "    c.collect(measure_flanker_ormodulation, coords=coords, outputs=['V1'], times=[times[-1]])\n",
    "    c.collect(measure_flanker_xoffsetmodulation, coords=coords, outputs=['V1'], times=[times[-1]])\n",
    "    c.collect(measure_flanker_yoffsetmodulation, coords=coords, outputs=['V1'], times=[times[-1]])"
   ]
  },
  {
   "cell_type": "code",
   "execution_count": null,
   "metadata": {
    "collapsed": false
   },
   "outputs": [],
   "source": [
    "# Local or on cluster\n",
    "QSUB = True\n",
    "# Open diff in pager or not\n",
    "SHOW_DIFF = True\n",
    "\n",
    "ty_file = './scal_divisive.ty'\n",
    "metadata = topo_metadata()\n",
    "output_directory = os.path.join(os.getcwd(), 'data')\n",
    "\n",
    "lancet.review_and_launch.output_directory = output_directory\n",
    "\n",
    "qsub_options = dict(b='y',\n",
    "                    pe=('memory-2G', '4'),   # Parallel environment allocation\n",
    "                    v='OMP_NUM_THREADS=4',   # Must match slot allocation above.\n",
    "                    #l='h_rt=05:59:00',       # Time resource allocation \n",
    "                    P='inf_ndtc')            # Project\n",
    "\n",
    "@lancet.review_and_launch()\n",
    "def launch():\n",
    "    runbatch_cmd = RunBatchCommand(ty_file, c, metadata=batch_arguments.varying_keys)\n",
    "    Launcher = lancet.QLauncher if QSUB else lancet.Launcher\n",
    "    return Launcher(batch_name, batch_arguments, runbatch_cmd,  metadata=metadata(), \n",
    "                    **({'qsub_flag_options':qsub_options} if QSUB else {}))\n",
    "launch()"
   ]
  },
  {
   "cell_type": "markdown",
   "metadata": {},
   "source": [
    "# Results and Analysis"
   ]
  },
  {
   "cell_type": "code",
   "execution_count": null,
   "metadata": {
    "collapsed": true
   },
   "outputs": [],
   "source": [
    "import lancet\n",
    "from lancet.filetypes import FileType, CustomFile\n",
    "from holoviews.core.io import Unpickler\n",
    "import holoviews as hv\n",
    "\n",
    "custom=CustomFile(metadata_fn=lambda f: Unpickler.key(f),\n",
    "                  data_fn = lambda f: {e: Unpickler.load(f, [e])\n",
    "                                       for e in Unpickler.entries(f)})"
   ]
  },
  {
   "cell_type": "code",
   "execution_count": null,
   "metadata": {
    "collapsed": false
   },
   "outputs": [],
   "source": [
    "path = './data/2016-01-11_1854-SCAL_spatial'\n",
    "log=lancet.Log(path+'/SCAL_spatial.log')\n",
    "viewfnames = lancet.FilePattern('filename', path+'/*_scal_divisive_t{tid:d}_*/*.hvz')\n",
    "filedata = lancet.FileInfo(viewfnames, 'filename', custom)"
   ]
  },
  {
   "cell_type": "code",
   "execution_count": null,
   "metadata": {
    "collapsed": false
   },
   "outputs": [],
   "source": [
    "%%output size=200\n",
    "filetable = filedata.table()\n",
    "filetable"
   ]
  },
  {
   "cell_type": "code",
   "execution_count": null,
   "metadata": {
    "collapsed": false,
    "scrolled": true
   },
   "outputs": [],
   "source": [
    "collator = hv.Collator(filetable.clone(datatype=['ndelement']).data, kdims=filetable.clone(datatype=['ndelement']).data.kdims)\n",
    "data = Unpickler.collect(collator, drop=['time', 'tid', 'Index'])"
   ]
  },
  {
   "cell_type": "code",
   "execution_count": null,
   "metadata": {
    "collapsed": true
   },
   "outputs": [],
   "source": [
    "snapshot = 'data/2016-01-11_1854-SCAL_spatial/2016-01-11_1854_scal_divisive_t0_/2016-01-11_1854_scal_divisive_t0__020000.00.typ'"
   ]
  },
  {
   "cell_type": "code",
   "execution_count": null,
   "metadata": {
    "collapsed": false
   },
   "outputs": [],
   "source": [
    "topo.command.load_snapshot(snapshot)"
   ]
  },
  {
   "cell_type": "markdown",
   "metadata": {},
   "source": [
    "### LGN Size Tuning"
   ]
  },
  {
   "cell_type": "code",
   "execution_count": null,
   "metadata": {
    "collapsed": true
   },
   "outputs": [],
   "source": [
    "from topo.analysis.command import measure_frequency_response, measure_size_response\n",
    "from featuremapper.analysis.spatialtuning import Size_DivDoGModel, FrequencyTuningAnalysis, SF_DoGModel, Size_iDoGModel, SizeTuningShift, SizeTuningPeaks, DoGModelFit"
   ]
  },
  {
   "cell_type": "code",
   "execution_count": null,
   "metadata": {
    "collapsed": false
   },
   "outputs": [],
   "source": [
    "lgn_size_response = measure_size_response(outputs=['LGNOn'],num_sizes=21,\n",
    "                                          contrasts=range(10, 110, 10), max_size=2,\n",
    "                                          durations=[0.15])"
   ]
  },
  {
   "cell_type": "code",
   "execution_count": null,
   "metadata": {
    "collapsed": true
   },
   "outputs": [],
   "source": [
    "lgn_size_tuning = lgn_size_response.SizeTuning.LGNOn.reindex().sample([(0,0)]).to.curve(['Size'], ['Response'])"
   ]
  },
  {
   "cell_type": "code",
   "execution_count": null,
   "metadata": {
    "collapsed": false
   },
   "outputs": [],
   "source": [
    "lgn_size_tuning.reindex().overlay('Contrast')"
   ]
  },
  {
   "cell_type": "code",
   "execution_count": null,
   "metadata": {
    "collapsed": false
   },
   "outputs": [],
   "source": [
    "lgn_size_tuning = lgn_size_response.SizeTuning.LGNOn.reindex().sample([(0,0)]).to.curve(['Size'], ['Response'])\n",
    "\n",
    "div_size_fit = Size_DivDoGModel(lgn_size_tuning, max_iterations=10**7).collate()\n",
    "div_lgn_size_fit = div_size_fit.ItemTable.IDoG_Model_Fit.dframe()\n",
    "\n",
    "size_fit = Size_iDoGModel(lgn_size_tuning).collate()\n",
    "lgn_size_fit = size_fit.ItemTable.IDoG_Model_Fit.dframe()\n",
    "\n",
    "size_est = SizeTuningPeaks(lgn_size_tuning)\n",
    "lgn_size_est = size_est.dframe()"
   ]
  },
  {
   "cell_type": "code",
   "execution_count": null,
   "metadata": {
    "collapsed": true
   },
   "outputs": [],
   "source": [
    "def twinx(plot, element):\n",
    "    ax = plot.handles['axis']\n",
    "    twinax = ax.twinx()\n",
    "    twinax.set_ylabel(str(element.last.get_dimension(1)))\n",
    "    plot.handles['axis'] = twinax"
   ]
  },
  {
   "cell_type": "code",
   "execution_count": null,
   "metadata": {
    "collapsed": false
   },
   "outputs": [],
   "source": [
    "%%opts Curve [apply_ranges=False]\n",
    "hv.Curve(lgn_size_fit, vdims=['a'], label='Center size') *\\\n",
    "(hv.Curve(lgn_size_fit, vdims=['b'], label='Surround size')(plot=dict(initial_hooks=[twinx])))"
   ]
  },
  {
   "cell_type": "code",
   "execution_count": null,
   "metadata": {
    "collapsed": false
   },
   "outputs": [],
   "source": [
    "freq_response = measure_frequency_response(outputs=['LGNOn'],num_freq=21, max_freq=5,\n",
    "                                           contrasts=range(10, 110, 10), size=0.5, durations=[0.15])"
   ]
  },
  {
   "cell_type": "code",
   "execution_count": null,
   "metadata": {
    "collapsed": false
   },
   "outputs": [],
   "source": [
    "freq_tuning = freq_response.FrequencyTuning.LGNOn.reindex().sample([(0,0)]).to.curve(['Frequency'], ['Response'])"
   ]
  },
  {
   "cell_type": "code",
   "execution_count": null,
   "metadata": {
    "collapsed": false
   },
   "outputs": [],
   "source": [
    "%%opts NdOverlay [show_legend=False aspect=2 fig_size=250] Curve (color=Palette('gray', reverse=True)[:.7])\n",
    "freq_tuning.overlay().relabel(group='Frequency Tuning')"
   ]
  },
  {
   "cell_type": "code",
   "execution_count": null,
   "metadata": {
    "collapsed": false
   },
   "outputs": [],
   "source": [
    "FrequencyTuningAnalysis(freq_tuning)"
   ]
  },
  {
   "cell_type": "markdown",
   "metadata": {},
   "source": [
    "## Pinwheel Analysis"
   ]
  },
  {
   "cell_type": "code",
   "execution_count": null,
   "metadata": {
    "collapsed": false
   },
   "outputs": [],
   "source": [
    "PowerSpectrumAnalysis(data.OrientationPreference.V1.select(time=20000)().select(x=(-1.5, 1.5), y=(-1.5, 1.5))).display('all').cols(2)"
   ]
  },
  {
   "cell_type": "markdown",
   "metadata": {},
   "source": [
    "## DoG Size Tuning Fits"
   ]
  },
  {
   "cell_type": "code",
   "execution_count": null,
   "metadata": {
    "collapsed": false
   },
   "outputs": [],
   "source": [
    "%%output size=150 dpi=300 fig='svg'\n",
    "%%opts Histogram (edgecolor='k' facecolor='white') Overlay [yaxis=None show_frame=False aspect=1.5]\n",
    "%%opts Layout [sublabel_position=(-0.2, 0.8) aspect_weight=1 hspace=0]\n",
    "sizetuning = data.SizeTuning.V1()\n",
    "df = sizetuning.last.data\n",
    "peak_mean = df['Peak Size'].mean()\n",
    "peak_median = df['Peak Size'].median()\n",
    "surr_mean = df['Suppression Size'].mean()\n",
    "surr_median = df['Suppression Size'].median()\n",
    "peak_arrow = hv.Arrow(peak_median, 0, '', 'v')\n",
    "surr_arrow = hv.Arrow(surr_median, 0, '', 'v')\n",
    "size_tuning = ((hv.DFrame(df).hist(dimension='Peak Size', adjoin=False, num_bins=11)\\\n",
    " .clone(kdims=[hv.Dimension('$r_c$', unit='$\\circ$')]) * peak_arrow).relabel('Size tuning center') +\n",
    "(hv.DFrame(df).hist(dimension='Suppression Size', adjoin=False, num_bins=11)\\\n",
    " .clone(kdims=[hv.Dimension('$r_s$', unit='$\\circ$')]) * surr_arrow).relabel('Size tuning surround'))\n",
    "size_tuning"
   ]
  },
  {
   "cell_type": "code",
   "execution_count": null,
   "metadata": {
    "collapsed": false
   },
   "outputs": [],
   "source": [
    "hv.Store.dump(size_tuning, open('SCAL_SizeTuning.pkl', 'wb'))"
   ]
  },
  {
   "cell_type": "markdown",
   "metadata": {},
   "source": [
    "## Suppression Index"
   ]
  },
  {
   "cell_type": "code",
   "execution_count": null,
   "metadata": {
    "collapsed": true
   },
   "outputs": [],
   "source": [
    "import scipy.stats as ss"
   ]
  },
  {
   "cell_type": "code",
   "execution_count": null,
   "metadata": {
    "collapsed": false
   },
   "outputs": [],
   "source": [
    "%%output dpi=120 size=120\n",
    "%%opts Overlay [aspect=1.5 show_frame=False]\n",
    "si_dist = (hv.DFrame(df.SI).hist(adjoin=False).relabel(group='Suppression Index') *\n",
    "           hv.Text(0.6, 3, 'Mean SI: $%.3f \\pm %.3f$' % (df.SI.mean(), ss.sem(df.SI)), fontsize=10))\n",
    "si_dist"
   ]
  },
  {
   "cell_type": "markdown",
   "metadata": {},
   "source": [
    "## Area summation/size tuning curves"
   ]
  },
  {
   "cell_type": "code",
   "execution_count": null,
   "metadata": {
    "collapsed": true
   },
   "outputs": [],
   "source": [
    "sizeresponse = data.SizeResponse.V1()\n",
    "size_curves = hv.GridSpace(kdims=['X', 'Y'])\n",
    "for (x, y), responses in sizeresponse.groupby(['X', 'Y']).items():\n",
    "    size_curves[x, y] = responses.sample((5, 5), bounds=(x-0.05, y-0.05, x+0.05, y+0.05)).to.curve(['Size'], ['Response']).overlay('Contrast').grid(['x', 'y'])\n",
    "size_grid = size_curves.values()[1]"
   ]
  },
  {
   "cell_type": "code",
   "execution_count": null,
   "metadata": {
    "collapsed": false
   },
   "outputs": [],
   "source": [
    "%%opts GridSpace [fig_size=200]\n",
    "size_grid"
   ]
  },
  {
   "cell_type": "code",
   "execution_count": null,
   "metadata": {
    "collapsed": false
   },
   "outputs": [],
   "source": [
    "%%output dpi=120 size=120\n",
    "%%opts NdOverlay [aspect=1.5] Layout [aspect_weight=0.5]\n",
    "size_grid[0.03, -.1].relabel(group='Size Tuning') + size_grid[0.01, -.14].relabel(group='Size Tuning')"
   ]
  },
  {
   "cell_type": "markdown",
   "metadata": {},
   "source": [
    "## Contrast dependent size tuning shift"
   ]
  },
  {
   "cell_type": "code",
   "execution_count": null,
   "metadata": {
    "collapsed": false
   },
   "outputs": [],
   "source": [
    "import scipy.stats as ss\n",
    "contrast_shift = data.ContrastShift.V1()"
   ]
  },
  {
   "cell_type": "code",
   "execution_count": null,
   "metadata": {
    "collapsed": false
   },
   "outputs": [],
   "source": [
    "test = contrast_shift.hist(dimension='CSS', adjoin=False, bin_range=(0.8, 1.5))"
   ]
  },
  {
   "cell_type": "code",
   "execution_count": null,
   "metadata": {
    "collapsed": false,
    "scrolled": true
   },
   "outputs": [],
   "source": [
    "%%output dpi=120 size=120\n",
    "%%opts Overlay [aspect=1.5 show_frame=False]\n",
    "css_dist = (contrast_shift.hist(dimension='CSS', adjoin=False, bin_range=(0.8, 1.5)).values()[0] *\n",
    "            hv.Text(1.3, 8, 'Mean CSS: $%.3f \\pm %.3f$' % (contrast_shift.last.data.CSS.mean(),\n",
    "                                            ss.sem(contrast_shift.last.data.CSS)), fontsize=10))\n",
    "css_dist"
   ]
  },
  {
   "cell_type": "markdown",
   "metadata": {},
   "source": [
    "## Orientation contrast suppression index"
   ]
  },
  {
   "cell_type": "code",
   "execution_count": null,
   "metadata": {
    "collapsed": true
   },
   "outputs": [],
   "source": [
    "ocsi = data.OCSI_Analysis.V1()"
   ]
  },
  {
   "cell_type": "code",
   "execution_count": null,
   "metadata": {
    "collapsed": false,
    "scrolled": true
   },
   "outputs": [],
   "source": [
    "%%output dpi=120 size=120\n",
    "%%opts Overlay [aspect=1.5 show_frame=False]\n",
    "ocsi_high = ocsi[20000, 100]\n",
    "ocsi_high_df = ocsi_high.data.dropna()\n",
    "ocsi_dist = (ocsi_high.hist(adjoin=False, bin_range=(0, 1.2), normed=False) *\n",
    "             hv.Text(0.5, 20, 'Mean OCSI: $%.3f \\pm %.3f$' % (ocsi_high_df[ocsi_high_df.OCSI > -6].OCSI.mean(),\n",
    "                                                             ss.sem(ocsi_high_df[ocsi_high_df.OCSI > -6].OCSI)),\n",
    "                     fontsize=10))\n",
    "ocsi_dist"
   ]
  },
  {
   "cell_type": "code",
   "execution_count": null,
   "metadata": {
    "collapsed": true
   },
   "outputs": [],
   "source": [
    "orcontrast = data.OrientationContrastResponse.V1()\n",
    "ocsi_curves = hv.GridSpace(kdims=['X', 'Y'])\n",
    "for (x, y), responses in orcontrast.groupby(['X', 'Y']).items():\n",
    "    ocsi_curves[x, y] = responses.sample((5, 5), bounds=(x-0.05, y-0.05, x+0.05, y+0.05)).to.curve(['OrientationSurround'], ['Response']).overlay('ContrastSurround').grid(['x', 'y'])\n",
    "ocsi_grid = ocsi_curves.values()[0]"
   ]
  },
  {
   "cell_type": "code",
   "execution_count": null,
   "metadata": {
    "collapsed": false
   },
   "outputs": [],
   "source": [
    "%%opts Curve [xticks=4]\n",
    "ocsi_grid"
   ]
  },
  {
   "cell_type": "code",
   "execution_count": null,
   "metadata": {
    "collapsed": false
   },
   "outputs": [],
   "source": [
    "%%opts Curve [xticks=5 cen]\n",
    "ocsi_grid[0.01, 0.01].last.last"
   ]
  },
  {
   "cell_type": "code",
   "execution_count": null,
   "metadata": {
    "collapsed": false
   },
   "outputs": [],
   "source": [
    "%%output dpi=120 size=120\n",
    "%%opts Histogram {+axiswise} (facecolor='white') Text {+axiswise}\n",
    "surround_tuning = si_dist + css_dist + ocsi_dist\n",
    "surround_tuning"
   ]
  },
  {
   "cell_type": "code",
   "execution_count": null,
   "metadata": {
    "collapsed": false
   },
   "outputs": [],
   "source": [
    "hv.Store.dump(surround_tuning, open('SCAL_Surround.pkl', 'wb'))"
   ]
  },
  {
   "cell_type": "markdown",
   "metadata": {},
   "source": [
    "### Orientation Tuning"
   ]
  },
  {
   "cell_type": "code",
   "execution_count": null,
   "metadata": {
    "collapsed": false
   },
   "outputs": [],
   "source": [
    "%%output size=150\n",
    "ortuning = data.OrientationTuning.V1()\n",
    "ortuning_samples = ortuning.sample((8, 8))\n",
    "tuning_grid = ortuning_samples.to.curve('Orientation', 'Response').overlay('Contrast').grid(['x', 'y'])\n",
    "tuning_grid"
   ]
  },
  {
   "cell_type": "code",
   "execution_count": null,
   "metadata": {
    "collapsed": false
   },
   "outputs": [],
   "source": [
    "tuning_overlay = tuning_grid[0.24, -0.24].last"
   ]
  },
  {
   "cell_type": "code",
   "execution_count": null,
   "metadata": {
    "collapsed": false
   },
   "outputs": [],
   "source": [
    "normalized_tuning = tuning_overlay.clone(shared_data=False)\n",
    "for key, curve in tuning_overlay.items():\n",
    "    curve_data = curve.columns()\n",
    "    max_r = curve.range('Response')[1]\n",
    "    max_r = max_r if max_r else 1\n",
    "    curve_data['Normalized Response'] = curve_data['Response']/max_r\n",
    "    normalized_tuning[key] = curve.clone(curve_data, vdims=['Normalized Response'])"
   ]
  },
  {
   "cell_type": "code",
   "execution_count": null,
   "metadata": {
    "collapsed": false
   },
   "outputs": [],
   "source": [
    "%%opts NdOverlay [aspect=1.5] Layout [fig_size=150]\n",
    "tuning_overlay + normalized_tuning(style={'Curve': dict(color=hv.core.options.Palette('gray', reverse=True))})"
   ]
  },
  {
   "cell_type": "markdown",
   "metadata": {},
   "source": [
    "## Weight Distrubtion Plots"
   ]
  },
  {
   "cell_type": "code",
   "execution_count": null,
   "metadata": {
    "collapsed": false
   },
   "outputs": [],
   "source": [
    "from topo.analysis.weights import WeightDistribution, WeightIsotropy\n",
    "\n",
    "latinh = data.CFs.LateralInhibitory.select(time=20000)()\n",
    "orpref = data.OrientationPreference.V1.select(time=20000)()\n",
    "xpref = data.XPreference.V1.select(time=20000)()\n",
    "ypref = data.YPreference.V1.select(time=20000)()\n",
    "\n",
    "tree = hv.Layout()\n",
    "tree.OrientationPreference.V1 = orpref.last\n",
    "tree.XPreference.V1 = xpref.last\n",
    "tree.YPreference.V1 = ypref.last\n",
    "tree.CFs.LateralInhibitory = latinh\n",
    "\n",
    "weight_orientation = WeightDistribution(tree, projections=[('V1', 'LateralInhibitory')])\n",
    "weight_isotropy = WeightIsotropy(tree, projections=[('V1', 'LateralInhibitory')], num_bins=10)\n",
    "weight_orientation + weight_isotropy"
   ]
  }
 ],
 "metadata": {
  "kernelspec": {
   "display_name": "Python 2",
   "language": "python",
   "name": "python2"
  },
  "language_info": {
   "codemirror_mode": {
    "name": "ipython",
    "version": 2
   },
   "file_extension": ".py",
   "mimetype": "text/x-python",
   "name": "python",
   "nbconvert_exporter": "python",
   "pygments_lexer": "ipython2",
   "version": "2.7.11"
  }
 },
 "nbformat": 4,
 "nbformat_minor": 0
}
