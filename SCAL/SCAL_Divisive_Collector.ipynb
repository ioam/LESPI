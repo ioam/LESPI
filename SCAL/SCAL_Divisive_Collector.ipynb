{
 "metadata": {
  "name": "",
  "signature": "sha256:42eff7fe2ef08065b9ef0249cf8f5e2bd5d4b8f34a80dec668f11b6dd1dfc95a"
 },
 "nbformat": 3,
 "nbformat_minor": 0,
 "worksheets": [
  {
   "cells": [
    {
     "cell_type": "heading",
     "level": 1,
     "metadata": {
      "run_control": {
       "marked": false
      }
     },
     "source": [
      "SCAL Collector"
     ]
    },
    {
     "cell_type": "markdown",
     "metadata": {
      "run_control": {
       "marked": false
      }
     },
     "source": [
      "This notebook demonstrates how you can collect measurements and analyze data over development using the ``Collector`` class."
     ]
    },
    {
     "cell_type": "code",
     "collapsed": false,
     "input": [
      "%reload_ext topo.misc.ipython"
     ],
     "language": "python",
     "metadata": {
      "run_control": {
       "marked": false
      }
     },
     "outputs": []
    },
    {
     "cell_type": "heading",
     "level": 2,
     "metadata": {
      "run_control": {
       "marked": false
      }
     },
     "source": [
      "Defining the data to be collected"
     ]
    },
    {
     "cell_type": "code",
     "collapsed": false,
     "input": [
      "import topo\n",
      "from topo.analysis import Collector\n",
      "from topo.submodel.scal import ModelSCAL\n",
      "from topo.submodel.gcal import ArraySpec\n",
      "from topo.command import runscript"
     ],
     "language": "python",
     "metadata": {
      "run_control": {
       "marked": false
      }
     },
     "outputs": []
    },
    {
     "cell_type": "markdown",
     "metadata": {
      "run_control": {
       "marked": false
      }
     },
     "source": [
      "<center><h3 class='alert alert-info'>Hypercolumn distance estimation requires ``scipy.optimize``</h3></center>"
     ]
    },
    {
     "cell_type": "code",
     "collapsed": false,
     "input": [
      "import numpy as np\n",
      "\n",
      "import pandas\n",
      "from matplotlib import pyplot as plt\n",
      "from pandas.tools.plotting import scatter_matrix\n",
      "\n",
      "import imagen\n",
      "\n",
      "from topo.analysis.command import measure_or_pref\n",
      "from featuremapper.analysis.raster import fft_power\n",
      "from featuremapper.analysis.pinwheels import PinwheelAnalysis\n",
      "from featuremapper.analysis.hypercolumns import PowerSpectrumAnalysis\n",
      "\n",
      "from topo.analysis.command import measure_or_pref, measure_or_tuning_fullfield, measure_position_pref, measure_response\n",
      "from topo.command import save_snapshot, load_snapshot"
     ],
     "language": "python",
     "metadata": {
      "run_control": {
       "marked": false
      }
     },
     "outputs": []
    },
    {
     "cell_type": "markdown",
     "metadata": {
      "run_control": {
       "marked": false
      }
     },
     "source": [
      "Collector can be configured to collect ``Sheet`` and ``Projection`` activities, ``Projection`` weights, the output of ``featuremapper`` measurements, array data (here the V1 homeostatic threshold) and can be instructed to analyze any of these sources with the ``analyze`` method:"
     ]
    },
    {
     "cell_type": "code",
     "collapsed": false,
     "input": [
      "cd .."
     ],
     "language": "python",
     "metadata": {},
     "outputs": []
    },
    {
     "cell_type": "code",
     "collapsed": false,
     "input": [
      "from analysis import measure_size_tuning, measure_iso_suppression, measure_flanker_ormodulation, \\\n",
      "    measure_flanker_xoffsetmodulation, measure_flanker_yoffsetmodulation, measure_phase_tuning, \\\n",
      "    ComplexityAnalysis"
     ],
     "language": "python",
     "metadata": {},
     "outputs": []
    },
    {
     "cell_type": "code",
     "collapsed": false,
     "input": [
      "topo.sim.model = ModelSCAL(cortex_density=47, laterals=True, latexc_strength=0, area=3)\n",
      "scal = topo.sim.model.specification\n",
      "scal()"
     ],
     "language": "python",
     "metadata": {},
     "outputs": []
    },
    {
     "cell_type": "code",
     "collapsed": false,
     "input": [
      "c = Collector()\n",
      "\n",
      "# Projection activities\n",
      "c.Activity.LGNOnAfferent =  c.collect(scal.projections.V1.LGNOnAfferent)\n",
      "c.Activity.LGNOffAfferent = c.collect(scal.projections.V1.LGNOffAfferent)\n",
      "\n",
      "# OR preference measurement\n",
      "c.collect(measure_or_pref)\n",
      "# Sheet activities\n",
      "c.Activity.Retina =         c.collect(scal.sheets.Retina)\n",
      "c.Activity.V1 =             c.collect(scal.sheets.V1)\n",
      "# Connection fields\n",
      "c.CFs.LGNOnAfferent =       c.collect(scal.projections.V1.LGNOnAfferent,  grid=True)\n",
      "c.CFs.LGNOffAfferent =      c.collect(scal.projections.V1.LGNOffAfferent, grid=True)\n",
      "c.CFs.LateralInhibitory =   c.collect(scal.projections.V1.LateralInhibitory, grid=True)\n",
      "c.CFs.LateralExcitatory =   c.collect(scal.projections.V1.LateralExcitatory, grid=True)\n",
      "\n",
      "# Homeostatic threshold\n",
      "c.HomeostaticThreshold.V1 = c.collect(ArraySpec('V1.output_fns[0].t'), \n",
      "                                                group='Homeostatic Threshold')\n",
      "\n",
      "# OR preference measurement\n",
      "c.collect(measure_or_pref, frequencies=[1.6])\n",
      "c.collect(measure_response, durations=list(np.linspace(0,1,21)))\n",
      "\n",
      "# Spatial Tuning Analysis\n",
      "c.collect(measure_position_pref, x_range=(-0.25,0.25), y_range=(-0.25,0.25),\n",
      "          size=0.1, outputs=['V1'], divisions=24, scale=2.0)\n",
      "\n",
      "# Times and coords for further measurements\n",
      "coords=[(0,-0.1),(-0.1,0.0),(0,0),(0,0.1),(0.1,0.0)]\n",
      "times=[20000]\n",
      "frequency=1.6\n",
      "\n",
      "# Analysis\n",
      "c.Pinwheels.V1Exc =            c.analyze(c.ref.OrientationPreference.V1\n",
      "                                         * c.ref.OrientationSelectivity.V1, PinwheelAnalysis)\n",
      "c.FFTAnalysis.V1Exc =          c.analyze(c.ref.OrientationPreference.V1, PowerSpectrumAnalysis)"
     ],
     "language": "python",
     "metadata": {
      "run_control": {
       "marked": false
      }
     },
     "outputs": []
    },
    {
     "cell_type": "markdown",
     "metadata": {
      "run_control": {
       "marked": false
      }
     },
     "source": [
      "We will now load the GCAL model:"
     ]
    },
    {
     "cell_type": "code",
     "collapsed": false,
     "input": [
      "topo.sim.Retina.input_generator.anim(11)"
     ],
     "language": "python",
     "metadata": {},
     "outputs": []
    },
    {
     "cell_type": "markdown",
     "metadata": {
      "run_control": {
       "marked": false
      }
     },
     "source": [
      "We will run the GCAL model for 15000 iterations, collecting the data defined above every 500 steps:"
     ]
    },
    {
     "cell_type": "code",
     "collapsed": false,
     "input": [
      "times = [1000*i for i in range(2)]\n",
      "print(\"Collection will start at iteration %d and end on iteration %d\" % (min(times), max(times)))"
     ],
     "language": "python",
     "metadata": {
      "run_control": {
       "marked": false
      }
     },
     "outputs": []
    },
    {
     "cell_type": "code",
     "collapsed": false,
     "input": [
      "data = c(times=times)"
     ],
     "language": "python",
     "metadata": {
      "run_control": {
       "marked": false
      }
     },
     "outputs": []
    },
    {
     "cell_type": "markdown",
     "metadata": {},
     "source": [
      "## Complexity Analysis"
     ]
    },
    {
     "cell_type": "code",
     "collapsed": false,
     "input": [
      "cropped_complexity = data.Complexity.V1[:,:,-0.5:0.5,-0.5:0.5]\n",
      "cropped_selectivity = data.OrientationSelectivity.V1[:,:,-0.5:0.5,-0.5:0.5]\n",
      "cropped_phaseselectivity = data.PhaseSelectivity.V1[:,:,-0.5:0.5,-0.5:0.5]\n",
      "cropped_orpref = data.OrientationPreference.V1[:,:,-0.5:0.5,-0.5:0.5]\n",
      "cropped_phasepref = data.PhasePreference.V1[:,:,-0.5:0.5,-0.5:0.5]"
     ],
     "language": "python",
     "metadata": {},
     "outputs": []
    },
    {
     "cell_type": "code",
     "collapsed": false,
     "input": [
      "%%view png 120\n",
      "%%opts Complexity_Analysis edgecolor='k'\n",
      "cropped_complexity + cropped_complexity.hist(bin_range=(0,2.), num_bins=11, adjoin=False)"
     ],
     "language": "python",
     "metadata": {},
     "outputs": []
    },
    {
     "cell_type": "code",
     "collapsed": false,
     "input": [
      "data.OrientationPreference.V1.hist()"
     ],
     "language": "python",
     "metadata": {},
     "outputs": []
    },
    {
     "cell_type": "code",
     "collapsed": false,
     "input": [
      "print topo.sim.V1.LateralInhibitory.nominal_bounds_template\n",
      "topo.sim.V1.LateralInhibitory.weights_generator"
     ],
     "language": "python",
     "metadata": {},
     "outputs": []
    },
    {
     "cell_type": "code",
     "collapsed": false,
     "input": [
      "topo.sim.V1.LGNOnAfferent.weights_generator"
     ],
     "language": "python",
     "metadata": {},
     "outputs": []
    },
    {
     "cell_type": "code",
     "collapsed": false,
     "input": [
      "data.CFs.LateralInhibitory"
     ],
     "language": "python",
     "metadata": {},
     "outputs": []
    },
    {
     "cell_type": "code",
     "collapsed": false,
     "input": [
      "data.CFs.LGNOnAfferent"
     ],
     "language": "python",
     "metadata": {},
     "outputs": []
    },
    {
     "cell_type": "code",
     "collapsed": false,
     "input": [
      "%%opts Complexity_Analysis [num_ticks=11]\n",
      "cropped_orpref * cropped_selectivity + \\\n",
      "cropped_phasepref * cropped_phaseselectivity + \\\n",
      "(cropped_complexity.hist(bin_range=(0,2.), num_bins=10))"
     ],
     "language": "python",
     "metadata": {},
     "outputs": []
    },
    {
     "cell_type": "code",
     "collapsed": false,
     "input": [
      "cmplx_df = cropped_complexity.grid_sample(48,48).dframe()\n",
      "sel_df = cropped_selectivity.grid_sample(48,48).dframe()\n",
      "phasesel_df = cropped_phaseselectivity.grid_sample(48,48).dframe()\n",
      "complexsel_df = DFrame(sel_df.merge(cmplx_df, on=['Time','Duration','X', 'Y']).merge(phasesel_df, on=['Time','Duration','X', 'Y']))"
     ],
     "language": "python",
     "metadata": {},
     "outputs": []
    },
    {
     "cell_type": "code",
     "collapsed": false,
     "input": [
      "%%opts DFrame [plot_type='boxplot']\n",
      "complexsel_df"
     ],
     "language": "python",
     "metadata": {},
     "outputs": []
    },
    {
     "cell_type": "code",
     "collapsed": false,
     "input": [
      "%%view 250\n",
      "%%opts DFrame [plot_type='scatter_matrix']\n",
      "complexsel_df"
     ],
     "language": "python",
     "metadata": {},
     "outputs": []
    },
    {
     "cell_type": "markdown",
     "metadata": {},
     "source": [
      "## Flanker modulation analysis"
     ]
    },
    {
     "cell_type": "code",
     "collapsed": false,
     "input": [
      "data.OrientationoffsetTuning.V1"
     ],
     "language": "python",
     "metadata": {},
     "outputs": []
    },
    {
     "cell_type": "code",
     "collapsed": false,
     "input": [
      "data.YoffsetTuning.grid()"
     ],
     "language": "python",
     "metadata": {},
     "outputs": []
    },
    {
     "cell_type": "code",
     "collapsed": false,
     "input": [
      "data.XoffsetTuning.grid()"
     ],
     "language": "python",
     "metadata": {},
     "outputs": []
    },
    {
     "cell_type": "code",
     "collapsed": false,
     "input": [
      "fxm.XoffsetTuning.V1.sample([(0,0)]).collate('XOffset')"
     ],
     "language": "python",
     "metadata": {},
     "outputs": []
    },
    {
     "cell_type": "code",
     "collapsed": false,
     "input": [
      "fxm.XoffsetTuning.V1.grid_sample(12,12,lbrt=(-0.125,-0.125,0.125,0.125), collate='XOffset')"
     ],
     "language": "python",
     "metadata": {},
     "outputs": []
    },
    {
     "cell_type": "code",
     "collapsed": false,
     "input": [
      "form.OrientationoffsetTuning.V1.grid_sample(12,12,lbrt=(-0.125,-0.125,0.125,0.125), collate='OrientationOffset')"
     ],
     "language": "python",
     "metadata": {},
     "outputs": []
    },
    {
     "cell_type": "markdown",
     "metadata": {},
     "source": [
      "## Orientation Contrast Analysis"
     ]
    },
    {
     "cell_type": "code",
     "collapsed": false,
     "input": [
      "%%opts DFrame [plot_type='hist'] bins=20\n",
      "data.OCSI_Analysis.V1[:,:,-2:2]"
     ],
     "language": "python",
     "metadata": {},
     "outputs": []
    },
    {
     "cell_type": "code",
     "collapsed": false,
     "input": [
      "ocsi_dfv=DFrame(data.OCSI_Analysis.V1.map(lambda v, k: v.apply('describe')).dframe())"
     ],
     "language": "python",
     "metadata": {},
     "outputs": []
    },
    {
     "cell_type": "code",
     "collapsed": false,
     "input": [
      "ocsi_dfv.table('OCSI', indices=['mean', 'std'], stack_dims=['Time', 'ContrastSurround'])"
     ],
     "language": "python",
     "metadata": {},
     "outputs": []
    },
    {
     "cell_type": "code",
     "collapsed": false,
     "input": [
      "from featuremapper.command import measure_or_tuning"
     ],
     "language": "python",
     "metadata": {},
     "outputs": []
    },
    {
     "cell_type": "code",
     "collapsed": false,
     "input": [
      "ortc = measure_or_tuning(outputs=['V1'], size=1.0)"
     ],
     "language": "python",
     "metadata": {},
     "outputs": []
    },
    {
     "cell_type": "code",
     "collapsed": false,
     "input": [
      "%%view \n",
      "ortc.OrientationTuning.V1.grid_sample(12,12, lbrt=(-0.125,-0.125,0.125,0.125), collate='Orientation')"
     ],
     "language": "python",
     "metadata": {},
     "outputs": []
    },
    {
     "cell_type": "code",
     "collapsed": false,
     "input": [
      "data.OrientationContrastResponse.V1"
     ],
     "language": "python",
     "metadata": {},
     "outputs": []
    },
    {
     "cell_type": "code",
     "collapsed": false,
     "input": [
      "DFrame(data.OCSI_Analysis.V1.map(lambda v, k: v.apply('describe')).dframe()).table"
     ],
     "language": "python",
     "metadata": {},
     "outputs": []
    },
    {
     "cell_type": "code",
     "collapsed": false,
     "input": [
      "%%opts DFrame [plot_type='plot'] style='.' \n",
      "data.OCSI_Analysis.V1"
     ],
     "language": "python",
     "metadata": {},
     "outputs": []
    },
    {
     "cell_type": "markdown",
     "metadata": {},
     "source": [
      "## Size Tuning Analysis"
     ]
    },
    {
     "cell_type": "code",
     "collapsed": false,
     "input": [
      "%%view 200\n",
      "%%opts DFrame [plot_type='scatter_matrix'] diagonal='kde'\n",
      "data.SizeTuning.V1"
     ],
     "language": "python",
     "metadata": {},
     "outputs": []
    },
    {
     "cell_type": "code",
     "collapsed": false,
     "input": [
      "%%view 150\n",
      "data.SizeTuning.V1.dfview().heatmap(value_dim='Peak_Size', dims=['Time','Contrast'], reduce_fn=np.mean)"
     ],
     "language": "python",
     "metadata": {},
     "outputs": []
    },
    {
     "cell_type": "code",
     "collapsed": false,
     "input": [
      "from dataviews.options import options, PlotOpts"
     ],
     "language": "python",
     "metadata": {},
     "outputs": []
    },
    {
     "cell_type": "code",
     "collapsed": false,
     "input": [
      "options.Peak_Size_DFrameView = PlotOpts(plot_type='plot')\n",
      "options.Suppression_Size_DFrameView = PlotOpts(plot_type='plot')\n",
      "peak_kde = data.SizeTuning.V1.map(lambda v, k: v.clone(v.apply('filter',['Peak_Size']).data, label='Peak_Size'))\n",
      "supp_kde = data.SizeTuning.V1.map(lambda v, k: v.clone(v.apply('filter',['Suppression_Size']).data, label='Suppression_Size'))"
     ],
     "language": "python",
     "metadata": {},
     "outputs": []
    },
    {
     "cell_type": "code",
     "collapsed": false,
     "input": [
      "peak_kde.overlay_dimensions(['Contrast']) + supp_kde.overlay_dimensions(['Contrast'])"
     ],
     "language": "python",
     "metadata": {},
     "outputs": []
    },
    {
     "cell_type": "code",
     "collapsed": false,
     "input": [
      "%%opts Peak_Size_DFrame kind='kde' style='r-' Suppression_Size_DFrame kind='kde' style='b--'\n",
      "peak_kde * supp_kde"
     ],
     "language": "python",
     "metadata": {},
     "outputs": []
    },
    {
     "cell_type": "code",
     "collapsed": false,
     "input": [
      "peak_box = data.SizeTuning.V1.map(lambda v,k: v.apply('filter', ['Peak_Size', 'Suppression_Size']))\n",
      "peak_describe = data.SizeTuning.V1.map(lambda v, k: v.apply('describe')).dfview().table(value_dim='Peak_Size', stack_dims=['Time','Contrast'])\n",
      "suppression_describe = data.SizeTuning.V1.map(lambda v, k: v.apply('describe')).dfview().table(value_dim='Suppression_Size', stack_dims=['Time','Contrast'])\n",
      "peak_box + peak_describe + suppression_describe"
     ],
     "language": "python",
     "metadata": {},
     "outputs": []
    },
    {
     "cell_type": "code",
     "collapsed": false,
     "input": [
      "%%view 150\n",
      "%%opts DFrame [plot_type='boxplot' size=(9,9)]\n",
      "data.SizeTuning.V1 + data.ContrastShift.V1"
     ],
     "language": "python",
     "metadata": {},
     "outputs": []
    },
    {
     "cell_type": "code",
     "collapsed": false,
     "input": [
      "topo.sim.data = data\n",
      "save_snapshot('/home/philippjfr/topographica/work/SCAL/Pandas_Test.typ')"
     ],
     "language": "python",
     "metadata": {
      "run_control": {
       "marked": false
      }
     },
     "outputs": []
    },
    {
     "cell_type": "heading",
     "level": 3,
     "metadata": {
      "run_control": {
       "marked": false
      }
     },
     "source": [
      "Sheet and projection activities"
     ]
    },
    {
     "cell_type": "markdown",
     "metadata": {
      "run_control": {
       "marked": false
      }
     },
     "source": [
      "Here are both the projection activities (top row) and sheet activies (bottom row)"
     ]
    },
    {
     "cell_type": "code",
     "collapsed": false,
     "input": [
      "data.Activity.V1.reduce(X=np.max, Y=np.max).collate('Time')"
     ],
     "language": "python",
     "metadata": {
      "run_control": {
       "marked": false
      }
     },
     "outputs": []
    },
    {
     "cell_type": "code",
     "collapsed": false,
     "input": [
      "data.Activity.grid().cols(2)"
     ],
     "language": "python",
     "metadata": {
      "run_control": {
       "marked": false
      }
     },
     "outputs": []
    },
    {
     "cell_type": "code",
     "collapsed": false,
     "input": [
      "data.GaussianResponse.V1.grid(['Duration','Time'])"
     ],
     "language": "python",
     "metadata": {
      "run_control": {
       "marked": false
      }
     },
     "outputs": []
    },
    {
     "cell_type": "code",
     "collapsed": false,
     "input": [
      "grid=data.GaussianResponse.V1.grid_sample(5,5, 'Duration', lbrt=(-0.1,-0.1,0.1,0.1))\n",
      "grid"
     ],
     "language": "python",
     "metadata": {
      "run_control": {
       "marked": false
      }
     },
     "outputs": []
    },
    {
     "cell_type": "code",
     "collapsed": false,
     "input": [
      "data.GaussianResponse.V1[:,:].sample(X=0,Y=0).collate('Duration').overlay_dimensions(['Time'])"
     ],
     "language": "python",
     "metadata": {
      "run_control": {
       "marked": false
      }
     },
     "outputs": []
    },
    {
     "cell_type": "heading",
     "level": 3,
     "metadata": {
      "run_control": {
       "marked": false
      }
     },
     "source": [
      "Connection fields (weights)"
     ]
    },
    {
     "cell_type": "markdown",
     "metadata": {
      "run_control": {
       "marked": false
      }
     },
     "source": [
      "Here are the weights on the ON surround and OFF surround RGC+LGN projections:"
     ]
    },
    {
     "cell_type": "code",
     "collapsed": false,
     "input": [
      "%%view scrubber\n",
      "data.CFs.LGNOnAfferent + data.CFs.LGNOffAfferent + data.CFs.LateralInhibitory"
     ],
     "language": "python",
     "metadata": {
      "run_control": {
       "marked": false
      }
     },
     "outputs": []
    },
    {
     "cell_type": "heading",
     "level": 3,
     "metadata": {
      "run_control": {
       "marked": false
      }
     },
     "source": [
      "On minus OFF visualization"
     ]
    },
    {
     "cell_type": "markdown",
     "metadata": {
      "run_control": {
       "marked": false
      }
     },
     "source": [
      "Here is a visualization of the OFF weights subtracted from the ON weights:"
     ]
    },
    {
     "cell_type": "code",
     "collapsed": false,
     "input": [
      "on_minus_off = (data.CFs.LGNOnAfferent * data.CFs.LGNOffAfferent)\n",
      "on_minus_off.title = 'ON-OFF CFs'\n",
      "on_minus_off"
     ],
     "language": "python",
     "metadata": {
      "run_control": {
       "marked": false
      }
     },
     "outputs": []
    },
    {
     "cell_type": "code",
     "collapsed": false,
     "input": [
      "topo.sim.V1.LateralInhibitory.grid()"
     ],
     "language": "python",
     "metadata": {},
     "outputs": []
    },
    {
     "cell_type": "code",
     "collapsed": false,
     "input": [
      "data.OrientationPreference.V1.last[-1:1,-1:1]"
     ],
     "language": "python",
     "metadata": {
      "run_control": {
       "marked": false
      }
     },
     "outputs": []
    },
    {
     "cell_type": "heading",
     "level": 3,
     "metadata": {
      "run_control": {
       "marked": false
      }
     },
     "source": [
      "OR map and weights over development"
     ]
    },
    {
     "cell_type": "markdown",
     "metadata": {
      "run_control": {
       "marked": false
      }
     },
     "source": [
      "* The central map is an polar, orientation + selectivity orientation map.\n",
      "* The top histogram shows the distribution of orientation preferences across the map.\n",
      "* The star markers on the map show the positions from which the ON-OFF weights (on the left) are sampled.\n",
      "* The left side shows ON-OFF weights projecting to the V1 sheet."
     ]
    },
    {
     "cell_type": "code",
     "collapsed": false,
     "input": [
      "%view 150"
     ],
     "language": "python",
     "metadata": {
      "run_control": {
       "marked": false
      }
     },
     "outputs": []
    },
    {
     "cell_type": "code",
     "collapsed": false,
     "input": [
      "%%opts Points color='w' marker='*' s=100 edgecolors='k'\n",
      "cf_column = on_minus_off[0,-0.5:0.5]\n",
      "annotated_map = (data.OrientationPreference.V1 * data.OrientationSelectivity.V1 * Points(cf_column.keys(), bounds=topo.sim.V1.bounds))\n",
      "annotated_map << cf_column <<  data.OrientationPreference.V1.hist(adjoin=False)"
     ],
     "language": "python",
     "metadata": {
      "run_control": {
       "marked": false
      }
     },
     "outputs": []
    },
    {
     "cell_type": "heading",
     "level": 2,
     "metadata": {
      "run_control": {
       "marked": false
      }
     },
     "source": [
      "Homeostatic threshold"
     ]
    },
    {
     "cell_type": "markdown",
     "metadata": {
      "run_control": {
       "marked": false
      }
     },
     "source": [
      "This is a visualization of the homeostatic threshold array (output function on the V1 sheet) over development:"
     ]
    },
    {
     "cell_type": "code",
     "collapsed": false,
     "input": [
      "data.HomeostaticThreshold.V1.hist() + data.HomeostaticThreshold.V1.reduce(X=np.mean, Y=np.mean, label_prefix='Mean').collate('Time')"
     ],
     "language": "python",
     "metadata": {
      "run_control": {
       "marked": false
      }
     },
     "outputs": []
    },
    {
     "cell_type": "heading",
     "level": 3,
     "metadata": {
      "run_control": {
       "marked": false
      }
     },
     "source": [
      "Orientation and Phase Preference and Selectivity"
     ]
    },
    {
     "cell_type": "markdown",
     "metadata": {
      "run_control": {
       "marked": false
      }
     },
     "source": [
      "This animations shows how preference and selectivity evolve over development:"
     ]
    },
    {
     "cell_type": "code",
     "collapsed": false,
     "input": [
      "%%view 75 scrubber\n",
      "OR_HCS = data.OrientationPreference.V1 * data.OrientationSelectivity.V1\n",
      "phase_HCS = data.PhasePreference.V1 * data.PhaseSelectivity.V1\n",
      "top_row = OR_HCS + data.OrientationPreference.V1.hist() + data.OrientationSelectivity.V1.hist() \n",
      "bottom_row =  phase_HCS + data.PhasePreference.V1.hist() + data.PhaseSelectivity.V1.hist()\n",
      "(top_row + bottom_row).cols(3)"
     ],
     "language": "python",
     "metadata": {
      "run_control": {
       "marked": false
      }
     },
     "outputs": []
    },
    {
     "cell_type": "heading",
     "level": 3,
     "metadata": {
      "run_control": {
       "marked": false
      }
     },
     "source": [
      "Pinwheel and hypercolumn analysis"
     ]
    },
    {
     "cell_type": "code",
     "collapsed": false,
     "input": [
      "%view 100"
     ],
     "language": "python",
     "metadata": {
      "run_control": {
       "marked": false
      }
     },
     "outputs": []
    },
    {
     "cell_type": "code",
     "collapsed": false,
     "input": [
      "((data.Pinwheels.V1.hist(index=0) + data.FFTPowerSpectrum.V1) + data.FFTAnalysis.V1).cols(2)"
     ],
     "language": "python",
     "metadata": {
      "run_control": {
       "marked": false
      }
     },
     "outputs": []
    },
    {
     "cell_type": "markdown",
     "metadata": {
      "run_control": {
       "marked": false
      }
     },
     "source": [
      "We can collate the values of the pinwheel density over time to see how the pinwheel density changes over development. This graph is shown on the left of the figure below. There is a clear drop to zero at iteration 10000 which we can see is due to a failure of the fitting procedure at this time (shown on the right):"
     ]
    },
    {
     "cell_type": "code",
     "collapsed": false,
     "input": [
      "data.FFTAnalysis.V1[0,1][:,0.2:1.01].sample(['kmax']).collate('Time').overlay_dimensions(['Duration']) + \\\n",
      "data.FFTAnalysis.V1[0,1][:,0.2:1.01].sample(['units_per_hc']).collate('Time').overlay_dimensions(['Duration'])+\\\n",
      "data.FFTAnalysis.V1[0,1][:,0.2:1.01].sample(['rho']).collate('Time').overlay_dimensions(['Duration'])"
     ],
     "language": "python",
     "metadata": {
      "run_control": {
       "marked": false
      }
     },
     "outputs": []
    },
    {
     "cell_type": "code",
     "collapsed": false,
     "input": [
      "similarity_stack = cyclic_similarity_index(data.OrientationPreference.V1*data.OrientationPreference.V1.last)\n",
      "similarity_stack.reduce(X=np.mean, Y=np.mean).collate('Time').overlay_dimensions(['Duration'])"
     ],
     "language": "python",
     "metadata": {
      "run_control": {
       "marked": false
      }
     },
     "outputs": []
    },
    {
     "cell_type": "code",
     "collapsed": false,
     "input": [
      "data.OrientationSelectivity.V1.reduce(X=np.mean, Y=np.mean, label_prefix='Mean').collate('Time').overlay_dimensions(['Duration'])"
     ],
     "language": "python",
     "metadata": {
      "run_control": {
       "marked": false
      }
     },
     "outputs": []
    },
    {
     "cell_type": "markdown",
     "metadata": {
      "run_control": {
       "marked": false
      }
     },
     "source": [
      "In the [GCAL paper](http://www.jneurosci.org/content/33/40/15747.full) ten, high-quality simulations were run over a wide range of contrasts (with the borders trimmed to eliminate edge effects) so that a decent estimate of the pinwheel density could be obtained for the GCAL model as a whole."
     ]
    }
   ],
   "metadata": {}
  }
 ]
}