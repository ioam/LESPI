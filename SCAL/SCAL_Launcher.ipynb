{
 "metadata": {
  "name": "",
  "signature": "sha256:3a6fdb0fe73b9129300e428dff56e2b3aec4c0e2974be5e31f195182591b74ac"
 },
 "nbformat": 3,
 "nbformat_minor": 0,
 "worksheets": [
  {
   "cells": [
    {
     "cell_type": "heading",
     "level": 1,
     "metadata": {},
     "source": [
      "Divisive SCAL"
     ]
    },
    {
     "cell_type": "markdown",
     "metadata": {},
     "source": [
      "This is the launch notebook for parameter searches on the new SCAL Divisive model."
     ]
    },
    {
     "cell_type": "code",
     "collapsed": false,
     "input": [
      "import os\n",
      "import numpy as np\n",
      "import lancet"
     ],
     "language": "python",
     "metadata": {},
     "outputs": [],
     "prompt_number": 1
    },
    {
     "cell_type": "code",
     "collapsed": false,
     "input": [
      "cd .."
     ],
     "language": "python",
     "metadata": {},
     "outputs": [
      {
       "output_type": "stream",
       "stream": "stdout",
       "text": [
        "/storage/topographica_work\n"
       ]
      }
     ],
     "prompt_number": 13
    },
    {
     "cell_type": "code",
     "collapsed": false,
     "input": [
      "from tools import show_diff, load_collector, show_history\n",
      "from topo.command import runscript  # In order to check the model files load correctly\n",
      "from topo.misc.lancext import RunBatchCommand, topo_metadata"
     ],
     "language": "python",
     "metadata": {},
     "outputs": [],
     "prompt_number": 14
    },
    {
     "cell_type": "code",
     "collapsed": false,
     "input": [
      "metadata = topo_metadata()\n",
      "output_directory = os.path.join(os.getcwd(), 'data')"
     ],
     "language": "python",
     "metadata": {},
     "outputs": [],
     "prompt_number": 3
    },
    {
     "cell_type": "heading",
     "level": 1,
     "metadata": {},
     "source": [
      "Launch 1 (22 July 2014)"
     ]
    },
    {
     "cell_type": "markdown",
     "metadata": {},
     "source": [
      "* **Goal:** Explore parameter space to more closely approach GCAL values and improve SI values\n",
      "* This launch is the template used for other launches."
     ]
    },
    {
     "cell_type": "code",
     "collapsed": false,
     "input": [
      "batch_name = 'divisive_gcal'"
     ],
     "language": "python",
     "metadata": {},
     "outputs": [],
     "prompt_number": 4
    },
    {
     "cell_type": "code",
     "collapsed": false,
     "input": [
      "from dataviews.collector import Collector\n",
      "\n",
      "from imagen.analysis import fft_power_spectrum, cyclic_similarity_index\n",
      "\n",
      "from featuremapper.analysis.pinwheels import PinwheelAnalysis\n",
      "from featuremapper.analysis.hypercolumns import PowerSpectrumAnalysis\n",
      "\n",
      "from topo.analysis.command import measure_or_pref, measure_or_tuning_fullfield"
     ],
     "language": "python",
     "metadata": {},
     "outputs": [],
     "prompt_number": 5
    },
    {
     "cell_type": "code",
     "collapsed": false,
     "input": [
      "c = Collector()\n",
      "Retina = c.sim('Retina')\n",
      "V1 = c.sim('V1')\n",
      "LGNOnAfferent =  c.sim('V1.LGNOnAfferent')\n",
      "LGNOffAfferent = c.sim('V1.LGNOffAfferent')\n",
      "LateralInhibitory = c.sim('V1.LateralInhibitory')\n",
      "\n",
      "# Projection activities\n",
      "c.Activity.LGNOnAfferent =  c.collect(LGNOnAfferent)\n",
      "c.Activity.LGNOffAfferent = c.collect(LGNOffAfferent)\n",
      "\n",
      "# OR preference measurement\n",
      "c.collect(measure_or_pref, frequencies=[1.6], times=[1000])\n",
      "c.collect(measure_response, durations=list(np.linspace(0,1,21)))\n",
      "# Sheet activities\n",
      "c.Activity.Retina =         c.collect(Retina)\n",
      "c.Activity.V1 =             c.collect(V1)\n",
      "# Connection fields\n",
      "c.CFs.LGNOnAfferent =       c.collect(LGNOnAfferent,  grid=True)\n",
      "c.CFs.LGNOffAfferent =      c.collect(LGNOffAfferent, grid=True)\n",
      "c.CFs.LateralInhibitory =   c.collect(LateralInhibitory, grid=True)\n",
      "# Homeostatic threshold\n",
      "c.HomeostaticThreshold.V1 = c.collect(c.sim(array_ref='V1.output_fns[0].t'), value='Homeostatic Threshold')\n",
      "# Analysis\n",
      "c.FFTPowerSpectrum.V1 =     c.analyze(c.ref.OrientationPreference.V1, fft_power_spectrum, times=[1000])\n",
      "c.Pinwheels.V1 =            c.analyze(c.ref.OrientationPreference.V1\n",
      "                                    * c.ref.OrientationSelectivity.V1, PinwheelAnalysis, times=[1000])\n",
      "c.FFTAnalysis.V1 =          c.analyze(c.ref.Pinwheels.V1, PowerSpectrumAnalysis, times=[1000])"
     ],
     "language": "python",
     "metadata": {},
     "outputs": [],
     "prompt_number": 6
    },
    {
     "cell_type": "code",
     "collapsed": false,
     "input": [
      "# Local or on cluster\n",
      "QSUB = True\n",
      "# Open diff in pager or not\n",
      "SHOW_DIFF = True"
     ],
     "language": "python",
     "metadata": {},
     "outputs": [],
     "prompt_number": 7
    },
    {
     "cell_type": "code",
     "collapsed": false,
     "input": [
      "#reference_file = 'HEAD:../reference/examples_gcal.ty'\n",
      "ty_file = './scal_divisive.ty'\n",
      "\n",
      "#print(\"Running model %r\" % os.path.basename(ty_file))\n",
      "#if SHOW_DIFF: show_diff(reference_file, '8875edf:'+ty_file) # Red are changes relative to the ref\n",
      "#show_history(ty_file)"
     ],
     "language": "python",
     "metadata": {},
     "outputs": [],
     "prompt_number": 8
    },
    {
     "cell_type": "heading",
     "level": 3,
     "metadata": {},
     "source": [
      "Parameters"
     ]
    },
    {
     "cell_type": "code",
     "collapsed": false,
     "input": [
      "times = [1000*i for i in range(2)]\n",
      "print(\"Collection times start at %s and end at %s\" % (min(times), max(times)))"
     ],
     "language": "python",
     "metadata": {},
     "outputs": [
      {
       "output_type": "stream",
       "stream": "stdout",
       "text": [
        "Collection times start at 0 and end at 1000\n"
       ]
      }
     ],
     "prompt_number": 9
    },
    {
     "cell_type": "code",
     "collapsed": false,
     "input": [
      "parameter_space = lancet.Range('exc_strength', 1.5, 1.9, 2) *  lancet.Range('inh_strength', 1.2, 1.6, 2)\n",
      "batch_arguments =  parameter_space * lancet.Args(times=times)"
     ],
     "language": "python",
     "metadata": {},
     "outputs": [],
     "prompt_number": 10
    },
    {
     "cell_type": "code",
     "collapsed": false,
     "input": [
      "batch_arguments"
     ],
     "language": "python",
     "metadata": {},
     "outputs": [
      {
       "metadata": {},
       "output_type": "pyout",
       "prompt_number": 11,
       "text": [
        "# == 4 items, 1 constant key(s), 2 varying key(s) ==\n",
        "Range(\n",
        "   key='exc_strength',\n",
        "   start_value=1.5,\n",
        "   end_value=1.9\n",
        ") * Range(\n",
        "   key='inh_strength',\n",
        "   start_value=1.2,\n",
        "   end_value=1.6\n",
        ") * Args(\n",
        "   times=[0, 1000]\n",
        ")"
       ]
      }
     ],
     "prompt_number": 11
    },
    {
     "cell_type": "code",
     "collapsed": false,
     "input": [
      "lancet.review_and_launch.output_directory = output_directory\n",
      "\n",
      "qsub_options = dict(b='y',\n",
      "                    pe=('memory-2G', '2'),   # Parallel environment allocation\n",
      "                    v='OMP_NUM_THREADS=2',   # Must match slot allocation above.\n",
      "                    l='h_rt=05:59:00',       # Time resource allocation \n",
      "                    P='inf_ndtc')            # Project\n",
      "\n",
      "@lancet.review_and_launch()\n",
      "def launch():\n",
      "    runbatch_cmd = RunBatchCommand(ty_file, c, metadata=batch_arguments.varying_keys)\n",
      "    Launcher = lancet.QLauncher if QSUB else lancet.Launcher\n",
      "    return Launcher(batch_name, batch_arguments, runbatch_cmd,  metadata=metadata(), \n",
      "                    **({'qsub_flag_options':qsub_options} if QSUB else {}))\n",
      "launch()"
     ],
     "language": "python",
     "metadata": {},
     "outputs": [
      {
       "output_type": "stream",
       "stream": "stdout",
       "text": [
        "\n",
        "=====================\n",
        "| Arguments Summary |\n",
        "=====================\n",
        "\n",
        "Items: 4\n",
        "Varying Keys: 'exc_strength', 'inh_strength'\n",
        "Constant Items: times=[0, 1000]\n"
       ]
      },
      {
       "name": "stdout",
       "output_type": "stream",
       "stream": "stdout",
       "text": [
        "\n",
        "Show available argument specifier entries? [y, N, quit]: \n"
       ]
      },
      {
       "output_type": "stream",
       "stream": "stdout",
       "text": [
        "\n",
        "===========================\n",
        "| RunBatchCommand Summary |\n",
        "===========================\n",
        "\n",
        "Command executable: /home/philippjfr/topographica/topographica\n",
        "Collector definition summary:\n",
        "\n",
        "13 tasks scheduled:\n",
        "\n",
        "  01.  Activity.LGNOnAfferent\n",
        "           topo.sim.V1.LGNOnAfferent\n",
        "  02.  Activity.LGNOffAfferent\n",
        "           topo.sim.V1.LGNOffAfferent\n",
        "  03.  [...] \n",
        "          measure_or_pref [frequencies=[1.6]]\n",
        "  04.  [...] \n",
        "          measure_response [durations=[0.0, 0.050000000000000003, 0.10000000000000001, 0.15000000000000002, 0.20000000000000001, 0.25, 0.30000000000000004, 0.35000000000000003, 0.40000000000000002, 0.45000000000000001, 0.5, 0.55000000000000004, 0.60000000000000009, 0.65000000000000002, 0.70000000000000007, 0.75, 0.80000000000000004, 0.85000000000000009, 0.90000000000000002, 0.95000000000000007, 1.0]]\n",
        "  05.  Activity.Retina\n",
        "           topo.sim.Retina\n",
        "  06.  Activity.V1\n",
        "           topo.sim.V1\n",
        "  07.  CFs.LGNOnAfferent\n",
        "           topo.sim.V1.LGNOnAfferent [grid=True]\n",
        "  08.  CFs.LGNOffAfferent\n",
        "           topo.sim.V1.LGNOffAfferent [grid=True]\n",
        "  09.  CFs.LateralInhibitory\n",
        "           topo.sim.V1.LateralInhibitory [grid=True]\n",
        "  10.  HomeostaticThreshold.V1\n",
        "           topo.sim.V1.output_fns[0].t [value='Homeostatic Threshold']\n",
        "  11.  FFTPowerSpectrum.V1\n",
        "           fft_power_spectrum(ViewRef('OrientationPreference.V1'))\n",
        "  12.  Pinwheels.V1\n",
        "           PinwheelAnalysis(ViewRef('OrientationPreference.V1 * OrientationSelectivity.V1'))\n",
        "  13.  FFTAnalysis.V1\n",
        "           PowerSpectrumAnalysis(ViewRef('Pinwheels.V1'))\n",
        "\n",
        "\n"
       ]
      },
      {
       "name": "stdout",
       "output_type": "stream",
       "stream": "stdout",
       "text": [
        "\n",
        "Show available command entries? [y, N, quit, save]: \n"
       ]
      },
      {
       "output_type": "stream",
       "stream": "stdout",
       "text": [
        "\n",
        "====================\n",
        "| Launcher Summary |\n",
        "====================\n",
        "\n",
        "Type: Launcher\n",
        "Batch Name: 'divisive_gcal'\n",
        "Root directory: '/storage/topographica_work/SCAL/data/2014-07-22_1725-divisive_gcal'\n",
        "Maximum concurrency: 2\n",
        "\n"
       ]
      },
      {
       "name": "stdout",
       "output_type": "stream",
       "stream": "stdout",
       "text": [
        "\n",
        "Show complete launch repr? [Y, n]: \n"
       ]
      },
      {
       "output_type": "stream",
       "stream": "stdout",
       "text": [
        "\n",
        "Launcher(\n",
        "   batch_name='divisive_gcal',\n",
        "   args=Range(\n",
        "      key='exc_strength',\n",
        "      start_value=1.5,\n",
        "      end_value=1.9\n",
        "   ) * Range(\n",
        "      key='inh_strength',\n",
        "      start_value=1.2,\n",
        "      end_value=1.6\n",
        "   ) * Args(\n",
        "      times=[0, 1000]\n",
        "   ),\n",
        "   command=RunBatchCommand(\n",
        "      executable='/home/philippjfr/topographica/topographica',\n",
        "      tyfile='./scal_divisive.ty',\n",
        "      analysis=Collector([\n",
        "            ('Activity.LGNOnAfferent',\n",
        "               Collect(SimRef('V1.LGNOnAfferent'))),\n",
        "            ('Activity.LGNOffAfferent',\n",
        "               Collect(SimRef('V1.LGNOffAfferent'))),\n",
        "            (None,\n",
        "               Collect(measure_or_pref, frequencies=[1.6])),\n",
        "            (None,\n",
        "               Collect(measure_response, durations=[0.0, 0.050000000000000003, 0.10000000000000001, 0.15000000000000002, 0.20000000000000001, 0.25, 0.30000000000000004, 0.35000000000000003, 0.40000000000000002, 0.45000000000000001, 0.5, 0.55000000000000004, 0.60000000000000009, 0.65000000000000002, 0.70000000000000007, 0.75, 0.80000000000000004, 0.85000000000000009, 0.90000000000000002, 0.95000000000000007, 1.0])),\n",
        "            ('Activity.Retina',\n",
        "               Collect(SimRef('Retina'))),\n",
        "            ('Activity.V1',\n",
        "               Collect(SimRef('V1'))),\n",
        "            ('CFs.LGNOnAfferent',\n",
        "               Collect(SimRef('V1.LGNOnAfferent'), grid=True)),\n",
        "            ('CFs.LGNOffAfferent',\n",
        "               Collect(SimRef('V1.LGNOffAfferent'), grid=True)),\n",
        "            ('CFs.LateralInhibitory',\n",
        "               Collect(SimRef('V1.LateralInhibitory'), grid=True)),\n",
        "            ('HomeostaticThreshold.V1',\n",
        "               Collect(SimRef(array_ref='V1.output_fns[0].t'), value='Homeostatic Threshold')),\n",
        "            ('FFTPowerSpectrum.V1',\n",
        "               Analyze(ViewRef('OrientationPreference.V1'), fft_power_spectrum)),\n",
        "            ('Pinwheels.V1',\n",
        "               Analyze(ViewRef('OrientationPreference.V1 * OrientationSelectivity.V1'), PinwheelAnalysis)),\n",
        "            ('FFTAnalysis.V1',\n",
        "               Analyze(ViewRef('Pinwheels.V1'), PowerSpectrumAnalysis))\n",
        "            ])\n",
        "   ),\n",
        "   output_directory='/storage/topographica_work/SCAL/data'\n",
        ")\n",
        "\n"
       ]
      },
      {
       "name": "stdout",
       "output_type": "stream",
       "stream": "stdout",
       "text": [
        "Execute? [y, N]: y\n"
       ]
      },
      {
       "output_type": "stream",
       "stream": "stderr",
       "text": [
        "Time: 000000.00 Launcher: Group 0: executing 4 processes...\n"
       ]
      },
      {
       "output_type": "stream",
       "stream": "stdout",
       "text": [
        "== Launching  divisive_gcal ==\n"
       ]
      },
      {
       "metadata": {},
       "output_type": "pyout",
       "prompt_number": 12,
       "text": [
        "True"
       ]
      }
     ],
     "prompt_number": 12
    },
    {
     "cell_type": "code",
     "collapsed": false,
     "input": [
      "metadata.summary()"
     ],
     "language": "python",
     "metadata": {},
     "outputs": [
      {
       "output_type": "stream",
       "stream": "stdout",
       "text": [
        "Topographica version control summary:\n",
        "\n",
        "   Topographica: 23ccc9d Fix clobbering of Model name by global_params\n",
        "                         [13 files have uncommited changes as captured by git diff]\n",
        "   Param:        cf2223b Fixed pyflakes warning\n",
        "   Imagen:       03d506b Fixes Sweeper by adding step_offset and OffsetTimeFn\n",
        "   Lancet:       ae5dcc5 lancet.Identity is now an instance of the Arguments base class\n",
        "   Numpy:        62a7575 Version 1.8.1 (release)\n"
       ]
      }
     ],
     "prompt_number": 15
    }
   ],
   "metadata": {}
  }
 ]
}