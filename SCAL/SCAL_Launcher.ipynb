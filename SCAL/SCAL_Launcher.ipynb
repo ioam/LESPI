{
 "metadata": {
  "name": "",
  "signature": "sha256:0f13e1ea91dc19a43ffa12a8fe079c4179e6c7a375033a5ca93611a9b28a3954"
 },
 "nbformat": 3,
 "nbformat_minor": 0,
 "worksheets": [
  {
   "cells": [
    {
     "cell_type": "heading",
     "level": 1,
     "metadata": {},
     "source": [
      "Divisive SCAL"
     ]
    },
    {
     "cell_type": "markdown",
     "metadata": {},
     "source": [
      "This is the launch notebook for parameter searches on the new SCAL Divisive model."
     ]
    },
    {
     "cell_type": "code",
     "collapsed": false,
     "input": [
      "import os\n",
      "import numpy as np\n",
      "import lancet"
     ],
     "language": "python",
     "metadata": {},
     "outputs": [],
     "prompt_number": 1
    },
    {
     "cell_type": "code",
     "collapsed": false,
     "input": [
      "cd .."
     ],
     "language": "python",
     "metadata": {},
     "outputs": [
      {
       "output_type": "stream",
       "stream": "stdout",
       "text": [
        "/exports/work/inf_ndtc/s1048519/topographica/work\n"
       ]
      }
     ],
     "prompt_number": 2
    },
    {
     "cell_type": "code",
     "collapsed": false,
     "input": [
      "from analysis import measure_size_tuning\n",
      "from tools import show_diff, load_collector, show_history\n",
      "from topo.command import runscript  # In order to check the model files load correctly\n",
      "from topo.misc.lancext import RunBatchCommand, topo_metadata"
     ],
     "language": "python",
     "metadata": {},
     "outputs": [],
     "prompt_number": 3
    },
    {
     "cell_type": "code",
     "collapsed": false,
     "input": [
      "cd SCAL/"
     ],
     "language": "python",
     "metadata": {},
     "outputs": [
      {
       "output_type": "stream",
       "stream": "stdout",
       "text": [
        "/exports/work/inf_ndtc/s1048519/topographica/work/SCAL\n"
       ]
      }
     ],
     "prompt_number": 4
    },
    {
     "cell_type": "code",
     "collapsed": false,
     "input": [
      "metadata = topo_metadata()\n",
      "output_directory = os.path.join(os.getcwd(), 'data')"
     ],
     "language": "python",
     "metadata": {},
     "outputs": [],
     "prompt_number": 5
    },
    {
     "cell_type": "heading",
     "level": 1,
     "metadata": {},
     "source": [
      "Launch 1 (22 July 2014)"
     ]
    },
    {
     "cell_type": "markdown",
     "metadata": {},
     "source": [
      "* **Goal:** Explore parameter space to more closely approach GCAL values and improve SI values\n",
      "* This launch is the template used for other launches."
     ]
    },
    {
     "cell_type": "code",
     "collapsed": false,
     "input": [
      "batch_name = 'divisive_scal'"
     ],
     "language": "python",
     "metadata": {},
     "outputs": [],
     "prompt_number": 6
    },
    {
     "cell_type": "code",
     "collapsed": false,
     "input": [
      "from dataviews.collector import Collector\n",
      "\n",
      "from imagen.analysis import fft_power_spectrum, cyclic_similarity_index\n",
      "\n",
      "from featuremapper.analysis.pinwheels import PinwheelAnalysis\n",
      "from featuremapper.analysis.hypercolumns import PowerSpectrumAnalysis\n",
      "\n",
      "from topo.analysis.command import measure_or_pref, measure_or_tuning_fullfield, measure_response, measure_position_pref"
     ],
     "language": "python",
     "metadata": {},
     "outputs": [],
     "prompt_number": 15
    },
    {
     "cell_type": "code",
     "collapsed": false,
     "input": [
      "c = Collector()\n",
      "Retina = c.sim('Retina')\n",
      "V1 = c.sim('V1')\n",
      "LGNOnAfferent =  c.sim('V1.LGNOnAfferent')\n",
      "LGNOffAfferent = c.sim('V1.LGNOffAfferent')\n",
      "LateralInhibitory = c.sim('V1.LateralInhibitory')\n",
      "\n",
      "# Projection activities\n",
      "c.Activity.LGNOnAfferent =  c.collect(LGNOnAfferent)\n",
      "c.Activity.LGNOffAfferent = c.collect(LGNOffAfferent)\n",
      "\n",
      "# OR preference measurement\n",
      "c.collect(measure_or_pref, frequencies=[1.6])\n",
      "c.collect(measure_response, durations=list(np.linspace(0,1,21)))\n",
      "# Sheet activities\n",
      "c.Activity.Retina =         c.collect(Retina)\n",
      "c.Activity.V1 =             c.collect(V1)\n",
      "# Connection fields\n",
      "c.CFs.LGNOnAfferent =       c.collect(LGNOnAfferent,  grid=True)\n",
      "c.CFs.LGNOffAfferent =      c.collect(LGNOffAfferent, grid=True)\n",
      "c.CFs.LateralInhibitory =   c.collect(LateralInhibitory, grid=True)\n",
      "# Homeostatic threshold\n",
      "c.HomeostaticThreshold.V1 = c.collect(c.sim(array_ref='V1.output_fns[0].t'), value='Homeostatic Threshold')\n",
      "# Analysis\n",
      "c.FFTPowerSpectrum.V1 =     c.analyze(c.ref.OrientationPreference.V1, fft_power_spectrum)\n",
      "c.Pinwheels.V1 =            c.analyze(c.ref.OrientationPreference.V1\n",
      "                                    * c.ref.OrientationSelectivity.V1, PinwheelAnalysis)\n",
      "c.FFTAnalysis.V1 =          c.analyze(c.ref.Pinwheels.V1, PowerSpectrumAnalysis)"
     ],
     "language": "python",
     "metadata": {},
     "outputs": [],
     "prompt_number": 9
    },
    {
     "cell_type": "code",
     "collapsed": false,
     "input": [
      "# Local or on cluster\n",
      "QSUB = True\n",
      "# Open diff in pager or not\n",
      "SHOW_DIFF = True"
     ],
     "language": "python",
     "metadata": {},
     "outputs": [],
     "prompt_number": 17
    },
    {
     "cell_type": "code",
     "collapsed": false,
     "input": [
      "#reference_file = 'HEAD:../reference/examples_gcal.ty'\n",
      "ty_file = './scal_divisive.ty'\n",
      "\n",
      "#print(\"Running model %r\" % os.path.basename(ty_file))\n",
      "#if SHOW_DIFF: show_diff(reference_file, '8875edf:'+ty_file) # Red are changes relative to the ref\n",
      "#show_history(ty_file)"
     ],
     "language": "python",
     "metadata": {},
     "outputs": [],
     "prompt_number": 11
    },
    {
     "cell_type": "heading",
     "level": 3,
     "metadata": {},
     "source": [
      "Parameters"
     ]
    },
    {
     "cell_type": "code",
     "collapsed": false,
     "input": [
      "times = [1000*i for i in range(21)]\n",
      "print(\"Collection times start at %s and end at %s\" % (min(times), max(times)))"
     ],
     "language": "python",
     "metadata": {},
     "outputs": [
      {
       "output_type": "stream",
       "stream": "stdout",
       "text": [
        "Collection times start at 0 and end at 20000\n"
       ]
      }
     ],
     "prompt_number": 12
    },
    {
     "cell_type": "code",
     "collapsed": false,
     "input": [
      "parameter_space = lancet.Range('aff_strength', 1.6, 3.2, 5) * lancet.Range('exc_strength', 1.6, 2.6, 5) * lancet.Range('inh_strength', 1.8, 3.4, 5)\n",
      "batch_arguments =  parameter_space * lancet.Args(times=times)"
     ],
     "language": "python",
     "metadata": {},
     "outputs": [],
     "prompt_number": 10
    },
    {
     "cell_type": "code",
     "collapsed": false,
     "input": [
      "batch_arguments"
     ],
     "language": "python",
     "metadata": {},
     "outputs": [
      {
       "metadata": {},
       "output_type": "pyout",
       "prompt_number": 11,
       "text": [
        "# == 4 items, 1 constant key(s), 2 varying key(s) ==\n",
        "Range(\n",
        "   key='exc_strength',\n",
        "   start_value=1.5,\n",
        "   end_value=1.9\n",
        ") * Range(\n",
        "   key='inh_strength',\n",
        "   start_value=1.2,\n",
        "   end_value=1.6\n",
        ") * Args(\n",
        "   times=[0, 1000]\n",
        ")"
       ]
      }
     ],
     "prompt_number": 11
    },
    {
     "cell_type": "code",
     "collapsed": false,
     "input": [
      "lancet.review_and_launch.output_directory = output_directory\n",
      "\n",
      "qsub_options = dict(b='y',\n",
      "                    pe=('memory-2G', '2'),   # Parallel environment allocation\n",
      "                    v='OMP_NUM_THREADS=2',   # Must match slot allocation above.\n",
      "                    l='h_rt=05:59:00',       # Time resource allocation \n",
      "                    P='inf_ndtc')            # Project\n",
      "\n",
      "@lancet.review_and_launch()\n",
      "def launch():\n",
      "    runbatch_cmd = RunBatchCommand(ty_file, c, metadata=batch_arguments.varying_keys)\n",
      "    Launcher = lancet.QLauncher if QSUB else lancet.Launcher\n",
      "    return Launcher(batch_name, batch_arguments, runbatch_cmd,  metadata=metadata(), \n",
      "                    **({'qsub_flag_options':qsub_options} if QSUB else {}))\n",
      "launch()"
     ],
     "language": "python",
     "metadata": {},
     "outputs": [
      {
       "output_type": "stream",
       "stream": "stdout",
       "text": [
        "\n",
        "=====================\n",
        "| Arguments Summary |\n",
        "=====================\n",
        "\n",
        "Items: 4\n",
        "Varying Keys: 'exc_strength', 'inh_strength'\n",
        "Constant Items: times=[0, 1000]\n"
       ]
      },
      {
       "name": "stdout",
       "output_type": "stream",
       "stream": "stdout",
       "text": [
        "\n",
        "Show available argument specifier entries? [y, N, quit]: \n"
       ]
      },
      {
       "output_type": "stream",
       "stream": "stdout",
       "text": [
        "\n",
        "===========================\n",
        "| RunBatchCommand Summary |\n",
        "===========================\n",
        "\n",
        "Command executable: /home/philippjfr/topographica/topographica\n",
        "Collector definition summary:\n",
        "\n",
        "13 tasks scheduled:\n",
        "\n",
        "  01.  Activity.LGNOnAfferent\n",
        "           topo.sim.V1.LGNOnAfferent\n",
        "  02.  Activity.LGNOffAfferent\n",
        "           topo.sim.V1.LGNOffAfferent\n",
        "  03.  [...] \n",
        "          measure_or_pref [frequencies=[1.6]]\n",
        "  04.  [...] \n",
        "          measure_response [durations=[0.0, 0.050000000000000003, 0.10000000000000001, 0.15000000000000002, 0.20000000000000001, 0.25, 0.30000000000000004, 0.35000000000000003, 0.40000000000000002, 0.45000000000000001, 0.5, 0.55000000000000004, 0.60000000000000009, 0.65000000000000002, 0.70000000000000007, 0.75, 0.80000000000000004, 0.85000000000000009, 0.90000000000000002, 0.95000000000000007, 1.0]]\n",
        "  05.  Activity.Retina\n",
        "           topo.sim.Retina\n",
        "  06.  Activity.V1\n",
        "           topo.sim.V1\n",
        "  07.  CFs.LGNOnAfferent\n",
        "           topo.sim.V1.LGNOnAfferent [grid=True]\n",
        "  08.  CFs.LGNOffAfferent\n",
        "           topo.sim.V1.LGNOffAfferent [grid=True]\n",
        "  09.  CFs.LateralInhibitory\n",
        "           topo.sim.V1.LateralInhibitory [grid=True]\n",
        "  10.  HomeostaticThreshold.V1\n",
        "           topo.sim.V1.output_fns[0].t [value='Homeostatic Threshold']\n",
        "  11.  FFTPowerSpectrum.V1\n",
        "           fft_power_spectrum(ViewRef('OrientationPreference.V1'))\n",
        "  12.  Pinwheels.V1\n",
        "           PinwheelAnalysis(ViewRef('OrientationPreference.V1 * OrientationSelectivity.V1'))\n",
        "  13.  FFTAnalysis.V1\n",
        "           PowerSpectrumAnalysis(ViewRef('Pinwheels.V1'))\n",
        "\n",
        "\n"
       ]
      },
      {
       "name": "stdout",
       "output_type": "stream",
       "stream": "stdout",
       "text": [
        "\n",
        "Show available command entries? [y, N, quit, save]: \n"
       ]
      },
      {
       "output_type": "stream",
       "stream": "stdout",
       "text": [
        "\n",
        "====================\n",
        "| Launcher Summary |\n",
        "====================\n",
        "\n",
        "Type: Launcher\n",
        "Batch Name: 'divisive_gcal'\n",
        "Root directory: '/storage/topographica_work/SCAL/data/2014-07-22_1725-divisive_gcal'\n",
        "Maximum concurrency: 2\n",
        "\n"
       ]
      },
      {
       "name": "stdout",
       "output_type": "stream",
       "stream": "stdout",
       "text": [
        "\n",
        "Show complete launch repr? [Y, n]: \n"
       ]
      },
      {
       "output_type": "stream",
       "stream": "stdout",
       "text": [
        "\n",
        "Launcher(\n",
        "   batch_name='divisive_gcal',\n",
        "   args=Range(\n",
        "      key='exc_strength',\n",
        "      start_value=1.5,\n",
        "      end_value=1.9\n",
        "   ) * Range(\n",
        "      key='inh_strength',\n",
        "      start_value=1.2,\n",
        "      end_value=1.6\n",
        "   ) * Args(\n",
        "      times=[0, 1000]\n",
        "   ),\n",
        "   command=RunBatchCommand(\n",
        "      executable='/home/philippjfr/topographica/topographica',\n",
        "      tyfile='./scal_divisive.ty',\n",
        "      analysis=Collector([\n",
        "            ('Activity.LGNOnAfferent',\n",
        "               Collect(SimRef('V1.LGNOnAfferent'))),\n",
        "            ('Activity.LGNOffAfferent',\n",
        "               Collect(SimRef('V1.LGNOffAfferent'))),\n",
        "            (None,\n",
        "               Collect(measure_or_pref, frequencies=[1.6])),\n",
        "            (None,\n",
        "               Collect(measure_response, durations=[0.0, 0.050000000000000003, 0.10000000000000001, 0.15000000000000002, 0.20000000000000001, 0.25, 0.30000000000000004, 0.35000000000000003, 0.40000000000000002, 0.45000000000000001, 0.5, 0.55000000000000004, 0.60000000000000009, 0.65000000000000002, 0.70000000000000007, 0.75, 0.80000000000000004, 0.85000000000000009, 0.90000000000000002, 0.95000000000000007, 1.0])),\n",
        "            ('Activity.Retina',\n",
        "               Collect(SimRef('Retina'))),\n",
        "            ('Activity.V1',\n",
        "               Collect(SimRef('V1'))),\n",
        "            ('CFs.LGNOnAfferent',\n",
        "               Collect(SimRef('V1.LGNOnAfferent'), grid=True)),\n",
        "            ('CFs.LGNOffAfferent',\n",
        "               Collect(SimRef('V1.LGNOffAfferent'), grid=True)),\n",
        "            ('CFs.LateralInhibitory',\n",
        "               Collect(SimRef('V1.LateralInhibitory'), grid=True)),\n",
        "            ('HomeostaticThreshold.V1',\n",
        "               Collect(SimRef(array_ref='V1.output_fns[0].t'), value='Homeostatic Threshold')),\n",
        "            ('FFTPowerSpectrum.V1',\n",
        "               Analyze(ViewRef('OrientationPreference.V1'), fft_power_spectrum)),\n",
        "            ('Pinwheels.V1',\n",
        "               Analyze(ViewRef('OrientationPreference.V1 * OrientationSelectivity.V1'), PinwheelAnalysis)),\n",
        "            ('FFTAnalysis.V1',\n",
        "               Analyze(ViewRef('Pinwheels.V1'), PowerSpectrumAnalysis))\n",
        "            ])\n",
        "   ),\n",
        "   output_directory='/storage/topographica_work/SCAL/data'\n",
        ")\n",
        "\n"
       ]
      },
      {
       "name": "stdout",
       "output_type": "stream",
       "stream": "stdout",
       "text": [
        "Execute? [y, N]: y\n"
       ]
      },
      {
       "output_type": "stream",
       "stream": "stderr",
       "text": [
        "Time: 000000.00 Launcher: Group 0: executing 4 processes...\n"
       ]
      },
      {
       "output_type": "stream",
       "stream": "stdout",
       "text": [
        "== Launching  divisive_gcal ==\n"
       ]
      },
      {
       "metadata": {},
       "output_type": "pyout",
       "prompt_number": 12,
       "text": [
        "True"
       ]
      }
     ],
     "prompt_number": 12
    },
    {
     "cell_type": "code",
     "collapsed": false,
     "input": [
      "metadata.summary()"
     ],
     "language": "python",
     "metadata": {},
     "outputs": [
      {
       "output_type": "stream",
       "stream": "stdout",
       "text": [
        "Topographica version control summary:\n",
        "\n",
        "   Topographica: ac88ce7 BatchCollector in lancetext now supports checking Collector times\n",
        "                         [13 files have uncommited changes as captured by git diff]\n",
        "   Param:        cf2223b Fixed pyflakes warning\n",
        "   Imagen:       03d506b Fixes Sweeper by adding step_offset and OffsetTimeFn\n",
        "   Lancet:       ae5dcc5 lancet.Identity is now an instance of the Arguments base class\n",
        "                         [1 files have uncommited changes as captured by git diff]\n",
        "   Numpy:        62a7575 Version 1.8.1 (release)\n"
       ]
      }
     ],
     "prompt_number": 6
    },
    {
     "cell_type": "markdown",
     "metadata": {},
     "source": [
      "## Launch 2 - Restoring GCAL level homeostatic target activity"
     ]
    },
    {
     "cell_type": "code",
     "collapsed": false,
     "input": [
      "parameter_space = lancet.Range('aff_strength', 1.5, 1.5, 1) * lancet.Range('exc_strength', 1.7, 2.0, 2) * lancet.Range('inh_strength', 1.8, 3.0, 4)\n",
      "batch_arguments =  parameter_space * lancet.Args(times=times)"
     ],
     "language": "python",
     "metadata": {},
     "outputs": [],
     "prompt_number": 13
    },
    {
     "cell_type": "code",
     "collapsed": false,
     "input": [
      "lancet.review_and_launch.output_directory = output_directory\n",
      "\n",
      "qsub_options = dict(b='y',\n",
      "                    pe=('memory-2G', '2'),   # Parallel environment allocation\n",
      "                    v='OMP_NUM_THREADS=2',   # Must match slot allocation above.\n",
      "                    l='h_rt=05:59:00',       # Time resource allocation \n",
      "                    P='inf_ndtc')            # Project\n",
      "\n",
      "@lancet.review_and_launch()\n",
      "def launch():\n",
      "    runbatch_cmd = RunBatchCommand(ty_file, c, metadata=batch_arguments.varying_keys)\n",
      "    Launcher = lancet.QLauncher if QSUB else lancet.Launcher\n",
      "    return Launcher(batch_name, batch_arguments, runbatch_cmd,  metadata=metadata(), \n",
      "                    **({'qsub_flag_options':qsub_options} if QSUB else {}))\n",
      "launch()"
     ],
     "language": "python",
     "metadata": {},
     "outputs": [
      {
       "output_type": "stream",
       "stream": "stdout",
       "text": [
        "\n",
        "=====================\n",
        "| Arguments Summary |\n",
        "=====================\n",
        "\n",
        "Items: 8\n",
        "Varying Keys: 'exc_strength', 'inh_strength'\n",
        "Constant Items: aff_strength=1.5, times=[0, 1000, 2000, 3000, 4000, 5000, 6000, 7000, 8000, 9000, 10000, 11000, 12000, 13000, 14000, 15000, 16000, 17000, 18000, 19000, 20000]\n"
       ]
      },
      {
       "name": "stdout",
       "output_type": "stream",
       "stream": "stdout",
       "text": [
        "\n",
        "Show available argument specifier entries? [y, N, quit]: \n"
       ]
      },
      {
       "output_type": "stream",
       "stream": "stdout",
       "text": [
        "\n",
        "===========================\n",
        "| RunBatchCommand Summary |\n",
        "===========================\n",
        "\n",
        "Command executable: /home/philippjfr/topographica/topographica\n",
        "Collector definition summary:\n",
        "\n",
        "13 tasks scheduled:\n",
        "\n",
        "  01.  Activity.LGNOnAfferent\n",
        "           topo.sim.V1.LGNOnAfferent\n",
        "  02.  Activity.LGNOffAfferent\n",
        "           topo.sim.V1.LGNOffAfferent\n",
        "  03.  [...] \n",
        "          measure_or_pref [frequencies=[1.6]]\n",
        "  04.  [...] \n",
        "          measure_response [durations=[0.0, 0.050000000000000003, 0.10000000000000001, 0.15000000000000002, 0.20000000000000001, 0.25, 0.30000000000000004, 0.35000000000000003, 0.40000000000000002, 0.45000000000000001, 0.5, 0.55000000000000004, 0.60000000000000009, 0.65000000000000002, 0.70000000000000007, 0.75, 0.80000000000000004, 0.85000000000000009, 0.90000000000000002, 0.95000000000000007, 1.0]]\n",
        "  05.  Activity.Retina\n",
        "           topo.sim.Retina\n",
        "  06.  Activity.V1\n",
        "           topo.sim.V1\n",
        "  07.  CFs.LGNOnAfferent\n",
        "           topo.sim.V1.LGNOnAfferent [grid=True]\n",
        "  08.  CFs.LGNOffAfferent\n",
        "           topo.sim.V1.LGNOffAfferent [grid=True]\n",
        "  09.  CFs.LateralInhibitory\n",
        "           topo.sim.V1.LateralInhibitory [grid=True]\n",
        "  10.  HomeostaticThreshold.V1\n",
        "           topo.sim.V1.output_fns[0].t [value='Homeostatic Threshold']\n",
        "  11.  FFTPowerSpectrum.V1\n",
        "           fft_power_spectrum(ViewRef('OrientationPreference.V1'))\n",
        "  12.  Pinwheels.V1\n",
        "           PinwheelAnalysis(ViewRef('OrientationPreference.V1 * OrientationSelectivity.V1'))\n",
        "  13.  FFTAnalysis.V1\n",
        "           PowerSpectrumAnalysis(ViewRef('Pinwheels.V1'))\n",
        "\n",
        "\n"
       ]
      },
      {
       "name": "stdout",
       "output_type": "stream",
       "stream": "stdout",
       "text": [
        "\n",
        "Show available command entries? [y, N, quit, save]: \n"
       ]
      },
      {
       "output_type": "stream",
       "stream": "stdout",
       "text": [
        "\n",
        "====================\n",
        "| Launcher Summary |\n",
        "====================\n",
        "\n",
        "Type: Launcher\n",
        "Batch Name: 'divisive_scal'\n",
        "Root directory: '/storage/topographica_work/SCAL/data/2014-07-29_1709-divisive_scal'\n",
        "Maximum concurrency: 2\n",
        "\n"
       ]
      },
      {
       "name": "stdout",
       "output_type": "stream",
       "stream": "stdout",
       "text": [
        "\n",
        "Show complete launch repr? [Y, n]: \n"
       ]
      },
      {
       "output_type": "stream",
       "stream": "stdout",
       "text": [
        "\n",
        "Launcher(\n",
        "   batch_name='divisive_scal',\n",
        "   args=Range(\n",
        "      key='aff_strength',\n",
        "      start_value=1.5,\n",
        "      end_value=1.5,\n",
        "      steps=1\n",
        "   ) * Range(\n",
        "      key='exc_strength',\n",
        "      start_value=1.7,\n",
        "      end_value=2.0\n",
        "   ) * Range(\n",
        "      key='inh_strength',\n",
        "      start_value=1.8,\n",
        "      end_value=3.0,\n",
        "      steps=4\n",
        "   ) * Args(\n",
        "      times=[0, 1000, 2000, 3000, 4000, 5000, 6000, 7000, 8000, 9000, 10000, 11000, 12000, 13000, 14000, 15000, 16000, 17000, 18000, 19000, 20000]\n",
        "   ),\n",
        "   command=RunBatchCommand(\n",
        "      executable='/home/philippjfr/topographica/topographica',\n",
        "      tyfile='./scal_divisive.ty',\n",
        "      analysis=Collector([\n",
        "            ('Activity.LGNOnAfferent',\n",
        "               Collect(SimRef('V1.LGNOnAfferent'))),\n",
        "            ('Activity.LGNOffAfferent',\n",
        "               Collect(SimRef('V1.LGNOffAfferent'))),\n",
        "            (None,\n",
        "               Collect(measure_or_pref, frequencies=[1.6])),\n",
        "            (None,\n",
        "               Collect(measure_response, durations=[0.0, 0.050000000000000003, 0.10000000000000001, 0.15000000000000002, 0.20000000000000001, 0.25, 0.30000000000000004, 0.35000000000000003, 0.40000000000000002, 0.45000000000000001, 0.5, 0.55000000000000004, 0.60000000000000009, 0.65000000000000002, 0.70000000000000007, 0.75, 0.80000000000000004, 0.85000000000000009, 0.90000000000000002, 0.95000000000000007, 1.0])),\n",
        "            ('Activity.Retina',\n",
        "               Collect(SimRef('Retina'))),\n",
        "            ('Activity.V1',\n",
        "               Collect(SimRef('V1'))),\n",
        "            ('CFs.LGNOnAfferent',\n",
        "               Collect(SimRef('V1.LGNOnAfferent'), grid=True)),\n",
        "            ('CFs.LGNOffAfferent',\n",
        "               Collect(SimRef('V1.LGNOffAfferent'), grid=True)),\n",
        "            ('CFs.LateralInhibitory',\n",
        "               Collect(SimRef('V1.LateralInhibitory'), grid=True)),\n",
        "            ('HomeostaticThreshold.V1',\n",
        "               Collect(SimRef(array_ref='V1.output_fns[0].t'), value='Homeostatic Threshold')),\n",
        "            ('FFTPowerSpectrum.V1',\n",
        "               Analyze(ViewRef('OrientationPreference.V1'), fft_power_spectrum)),\n",
        "            ('Pinwheels.V1',\n",
        "               Analyze(ViewRef('OrientationPreference.V1 * OrientationSelectivity.V1'), PinwheelAnalysis)),\n",
        "            ('FFTAnalysis.V1',\n",
        "               Analyze(ViewRef('Pinwheels.V1'), PowerSpectrumAnalysis))\n",
        "            ])\n",
        "   ),\n",
        "   output_directory='/storage/topographica_work/SCAL/data'\n",
        ")\n",
        "\n"
       ]
      },
      {
       "name": "stdout",
       "output_type": "stream",
       "stream": "stdout",
       "text": [
        "Execute? [y, N]: y\n"
       ]
      },
      {
       "output_type": "stream",
       "stream": "stderr",
       "text": [
        "Time: 000000.00 Launcher: Group 0: executing 8 processes...\n"
       ]
      },
      {
       "output_type": "stream",
       "stream": "stdout",
       "text": [
        "== Launching  divisive_scal ==\n"
       ]
      },
      {
       "metadata": {},
       "output_type": "pyout",
       "prompt_number": 14,
       "text": [
        "True"
       ]
      }
     ],
     "prompt_number": 14
    },
    {
     "cell_type": "markdown",
     "metadata": {},
     "source": [
      "## Launch 3 - Optimizing the spatial tuning"
     ]
    },
    {
     "cell_type": "code",
     "collapsed": false,
     "input": [
      "times = [5000*i for i in range(5)]\n",
      "print(\"Collection times start at %s and end at %s\" % (min(times), max(times)))"
     ],
     "language": "python",
     "metadata": {},
     "outputs": [
      {
       "output_type": "stream",
       "stream": "stdout",
       "text": [
        "Collection times start at 0 and end at 20000\n"
       ]
      }
     ],
     "prompt_number": 23
    },
    {
     "cell_type": "code",
     "collapsed": false,
     "input": [
      "parameter_space = lancet.Range('aff_strength', 3.0, 3.0, 1) * lancet.Range('exc_strength', 1.8, 2.6, 5) * lancet.Range('inh_strength', 2.5, 5.0, 6)\n",
      "batch_arguments =  parameter_space * lancet.Args(times=times)"
     ],
     "language": "python",
     "metadata": {},
     "outputs": [],
     "prompt_number": 24
    },
    {
     "cell_type": "code",
     "collapsed": false,
     "input": [
      "ty_file = './scal_divisive.ty'"
     ],
     "language": "python",
     "metadata": {},
     "outputs": [],
     "prompt_number": 25
    },
    {
     "cell_type": "code",
     "collapsed": false,
     "input": [
      "c = Collector()\n",
      "Retina = c.sim('Retina')\n",
      "V1 = c.sim('V1')\n",
      "LGNOnAfferent =  c.sim('V1.LGNOnAfferent')\n",
      "LGNOffAfferent = c.sim('V1.LGNOffAfferent')\n",
      "LateralInhibitory = c.sim('V1.LateralInhibitory')\n",
      "\n",
      "# Projection activities\n",
      "c.Activity.LGNOnAfferent =  c.collect(LGNOnAfferent)\n",
      "c.Activity.LGNOffAfferent = c.collect(LGNOffAfferent)\n",
      "\n",
      "# OR preference measurement\n",
      "c.collect(measure_or_pref, frequencies=[1.6])\n",
      "c.collect(measure_response, durations=list(np.linspace(0,1,21)))\n",
      "\n",
      "# Spatial Tuning Analysis\n",
      "c.collect(measure_position_pref, x_range=(-0.25,0.25), y_range=(-0.25,0.25),\n",
      "          size=0.1, outputs=['V1'], divisions=24, scale=2.0)\n",
      "\n",
      "# Sheet activities\n",
      "c.Activity.Retina =         c.collect(Retina)\n",
      "c.Activity.V1 =             c.collect(V1)\n",
      "# Connection fields\n",
      "c.CFs.LGNOnAfferent =       c.collect(LGNOnAfferent,  grid=True)\n",
      "c.CFs.LGNOffAfferent =      c.collect(LGNOffAfferent, grid=True)\n",
      "c.CFs.LateralInhibitory =   c.collect(LateralInhibitory, grid=True)\n",
      "# Homeostatic threshold\n",
      "c.HomeostaticThreshold.V1 = c.collect(c.sim(array_ref='V1.output_fns[0].t'), value='Homeostatic Threshold')\n",
      "\n",
      "\n",
      "c.analyze(c.ref.OrientationPreference.V1, measure_size_tuning, mode='merge',\n",
      "          num_phase=8, times=[20000], coords=[(0,-0.1),(-0.1,0.0),(0,0),(0,0.1),(0.1,0.0)])\n",
      "\n",
      "# Analysis\n",
      "c.FFTPowerSpectrum.V1 =     c.analyze(c.ref.OrientationPreference.V1, fft_power_spectrum)\n",
      "c.Pinwheels.V1 =            c.analyze(c.ref.OrientationPreference.V1\n",
      "                                    * c.ref.OrientationSelectivity.V1, PinwheelAnalysis)\n",
      "c.FFTAnalysis.V1 =          c.analyze(c.ref.Pinwheels.V1, PowerSpectrumAnalysis)"
     ],
     "language": "python",
     "metadata": {},
     "outputs": [],
     "prompt_number": 26
    },
    {
     "cell_type": "code",
     "collapsed": false,
     "input": [
      "lancet.review_and_launch.output_directory = output_directory\n",
      "\n",
      "qsub_options = dict(b='y',\n",
      "                    pe=('memory-2G', '2'),   # Parallel environment allocation\n",
      "                    v='OMP_NUM_THREADS=2',   # Must match slot allocation above.\n",
      "                    l='h_rt=05:59:00',       # Time resource allocation \n",
      "                    P='inf_ndtc')            # Project\n",
      "\n",
      "@lancet.review_and_launch()\n",
      "def launch():\n",
      "    runbatch_cmd = RunBatchCommand(ty_file, c, metadata=batch_arguments.varying_keys)\n",
      "    Launcher = lancet.QLauncher if QSUB else lancet.Launcher\n",
      "    return Launcher(batch_name, batch_arguments, runbatch_cmd,  metadata=metadata(), \n",
      "                    **({'qsub_flag_options':qsub_options} if QSUB else {}))\n",
      "launch()"
     ],
     "language": "python",
     "metadata": {},
     "outputs": [
      {
       "output_type": "stream",
       "stream": "stdout",
       "text": [
        "\n",
        "=====================\n",
        "| Arguments Summary |\n",
        "=====================\n",
        "\n",
        "Items: 30\n",
        "Varying Keys: 'exc_strength', 'inh_strength'\n",
        "Constant Items: aff_strength=3.0, times=[0, 5000, 10000, 15000, 20000]\n"
       ]
      },
      {
       "name": "stdout",
       "output_type": "stream",
       "stream": "stdout",
       "text": [
        "\n",
        "Show available argument specifier entries? [y, N, quit]: y\n"
       ]
      },
      {
       "output_type": "stream",
       "stream": "stdout",
       "text": [
        "0: aff_strength=3.0, times=[0, 5000, 10000, 15000, 20000], exc_strength=1.8, inh_strength=2.5\n",
        "1: aff_strength=3.0, times=[0, 5000, 10000, 15000, 20000], exc_strength=1.8, inh_strength=3.0\n",
        "2: aff_strength=3.0, times=[0, 5000, 10000, 15000, 20000], exc_strength=1.8, inh_strength=3.5\n",
        "3: aff_strength=3.0, times=[0, 5000, 10000, 15000, 20000], exc_strength=1.8, inh_strength=4.0\n",
        "4: aff_strength=3.0, times=[0, 5000, 10000, 15000, 20000], exc_strength=1.8, inh_strength=4.5\n",
        "5: aff_strength=3.0, times=[0, 5000, 10000, 15000, 20000], exc_strength=1.8, inh_strength=5.0\n",
        "6: aff_strength=3.0, times=[0, 5000, 10000, 15000, 20000], exc_strength=2.0, inh_strength=2.5\n",
        "7: aff_strength=3.0, times=[0, 5000, 10000, 15000, 20000], exc_strength=2.0, inh_strength=3.0\n",
        "8: aff_strength=3.0, times=[0, 5000, 10000, 15000, 20000], exc_strength=2.0, inh_strength=3.5\n",
        "9: aff_strength=3.0, times=[0, 5000, 10000, 15000, 20000], exc_strength=2.0, inh_strength=4.0\n",
        "10: aff_strength=3.0, times=[0, 5000, 10000, 15000, 20000], exc_strength=2.0, inh_strength=4.5\n",
        "11: aff_strength=3.0, times=[0, 5000, 10000, 15000, 20000], exc_strength=2.0, inh_strength=5.0\n",
        "12: aff_strength=3.0, times=[0, 5000, 10000, 15000, 20000], exc_strength=2.2, inh_strength=2.5\n",
        "13: aff_strength=3.0, times=[0, 5000, 10000, 15000, 20000], exc_strength=2.2, inh_strength=3.0\n",
        "14: aff_strength=3.0, times=[0, 5000, 10000, 15000, 20000], exc_strength=2.2, inh_strength=3.5\n",
        "15: aff_strength=3.0, times=[0, 5000, 10000, 15000, 20000], exc_strength=2.2, inh_strength=4.0\n",
        "16: aff_strength=3.0, times=[0, 5000, 10000, 15000, 20000], exc_strength=2.2, inh_strength=4.5\n",
        "17: aff_strength=3.0, times=[0, 5000, 10000, 15000, 20000], exc_strength=2.2, inh_strength=5.0\n",
        "18: aff_strength=3.0, times=[0, 5000, 10000, 15000, 20000], exc_strength=2.4, inh_strength=2.5\n",
        "19: aff_strength=3.0, times=[0, 5000, 10000, 15000, 20000], exc_strength=2.4, inh_strength=3.0\n",
        "20: aff_strength=3.0, times=[0, 5000, 10000, 15000, 20000], exc_strength=2.4, inh_strength=3.5\n",
        "21: aff_strength=3.0, times=[0, 5000, 10000, 15000, 20000], exc_strength=2.4, inh_strength=4.0\n",
        "22: aff_strength=3.0, times=[0, 5000, 10000, 15000, 20000], exc_strength=2.4, inh_strength=4.5\n",
        "23: aff_strength=3.0, times=[0, 5000, 10000, 15000, 20000], exc_strength=2.4, inh_strength=5.0\n",
        "24: aff_strength=3.0, times=[0, 5000, 10000, 15000, 20000], exc_strength=2.6, inh_strength=2.5\n",
        "25: aff_strength=3.0, times=[0, 5000, 10000, 15000, 20000], exc_strength=2.6, inh_strength=3.0\n",
        "26: aff_strength=3.0, times=[0, 5000, 10000, 15000, 20000], exc_strength=2.6, inh_strength=3.5\n",
        "27: aff_strength=3.0, times=[0, 5000, 10000, 15000, 20000], exc_strength=2.6, inh_strength=4.0\n",
        "28: aff_strength=3.0, times=[0, 5000, 10000, 15000, 20000], exc_strength=2.6, inh_strength=4.5\n",
        "29: aff_strength=3.0, times=[0, 5000, 10000, 15000, 20000], exc_strength=2.6, inh_strength=5.0\n",
        "\n",
        "===========================\n",
        "| RunBatchCommand Summary |\n",
        "===========================\n",
        "\n",
        "Command executable: /exports/work/inf_ndtc/s1048519/topographica/topographica\n",
        "Collector definition summary:\n",
        "\n",
        "15 tasks scheduled:\n",
        "\n",
        "  01.  Activity.LGNOnAfferent\n",
        "           topo.sim.V1.LGNOnAfferent\n",
        "  02.  Activity.LGNOffAfferent\n",
        "           topo.sim.V1.LGNOffAfferent\n",
        "  03.  [...] \n",
        "          measure_or_pref [frequencies=[1.6]]\n",
        "  04.  [...] \n",
        "          measure_response [durations=[0.0, 0.050000000000000003, 0.10000000000000001, 0.15000000000000002, 0.20000000000000001, 0.25, 0.30000000000000004, 0.35000000000000003, 0.40000000000000002, 0.45000000000000001, 0.5, 0.55000000000000004, 0.60000000000000009, 0.65000000000000002, 0.70000000000000007, 0.75, 0.80000000000000004, 0.85000000000000009, 0.90000000000000002, 0.95000000000000007, 1.0]]\n",
        "  05.  [...] \n",
        "          measure_position_pref [x_range=(-0.25, 0.25),scale=2.0,divisions=24,outputs=['V1'],y_range=(-0.25, 0.25),size=0.1]\n",
        "  06.  Activity.Retina\n",
        "           topo.sim.Retina\n",
        "  07.  Activity.V1\n",
        "           topo.sim.V1\n",
        "  08.  CFs.LGNOnAfferent\n",
        "           topo.sim.V1.LGNOnAfferent [grid=True]\n",
        "  09.  CFs.LGNOffAfferent\n",
        "           topo.sim.V1.LGNOffAfferent [grid=True]\n",
        "  10.  CFs.LateralInhibitory\n",
        "           topo.sim.V1.LateralInhibitory [grid=True]\n",
        "  11.  HomeostaticThreshold.V1\n",
        "           topo.sim.V1.output_fns[0].t [value='Homeostatic Threshold']\n",
        "  12.  [...] \n",
        "          measure_size_tuning(ViewRef('OrientationPreference.V1'))\n",
        "  13.  FFTPowerSpectrum.V1\n",
        "           fft_power_spectrum(ViewRef('OrientationPreference.V1'))\n",
        "  14.  Pinwheels.V1\n",
        "           PinwheelAnalysis(ViewRef('OrientationPreference.V1 * OrientationSelectivity.V1'))\n",
        "  15.  FFTAnalysis.V1\n",
        "           PowerSpectrumAnalysis(ViewRef('Pinwheels.V1'))\n",
        "\n",
        "\n"
       ]
      },
      {
       "name": "stdout",
       "output_type": "stream",
       "stream": "stdout",
       "text": [
        "\n",
        "Show available command entries? [y, N, quit, save]: y\n"
       ]
      },
      {
       "output_type": "stream",
       "stream": "stdout",
       "text": [
        "0: /exports/work/inf_ndtc/s1048519/topographica/topographica -a -c \"from topo.misc.lancext import BatchCollector; analysis_fn=BatchCollector.load('<tid>', {'inh_strength': 2.5, 'exc_strength': 1.8, 'aff_strength': 3.0, 'times': [0, 5000, 10000, 15000, 20000]}, '<root_directory>', '<batch_name>', '<batch_tag>'); run_batch('./scal_divisive.ty',analysis_fn=analysis_fn, compress_metadata='zip', dirname_params_filter=lambda p: 'exc_strength=1.8,inh_strength=2.5', dirname_prefix='', max_name_length=200, metadata_dir='metadata', name_time_format='<timestamp_format>', output_directory='<root_directory>', save_global_params=True, save_script_repr='first', snapshot=True, tag='t<tid>_', timestamp=(2014, 8, 6, 21, 6, 31, 2, 218, 1), vc_info=True, aff_strength=3.0, exc_strength=1.8, inh_strength=2.5, times=[0, 5000, 10000, 15000, 20000])\"\n",
        "1: /exports/work/inf_ndtc/s1048519/topographica/topographica -a -c \"from topo.misc.lancext import BatchCollector; analysis_fn=BatchCollector.load('<tid>', {'inh_strength': 3.0, 'exc_strength': 1.8, 'aff_strength': 3.0, 'times': [0, 5000, 10000, 15000, 20000]}, '<root_directory>', '<batch_name>', '<batch_tag>'); run_batch('./scal_divisive.ty',analysis_fn=analysis_fn, compress_metadata='zip', dirname_params_filter=lambda p: 'exc_strength=1.8,inh_strength=3.0', dirname_prefix='', max_name_length=200, metadata_dir='metadata', name_time_format='<timestamp_format>', output_directory='<root_directory>', save_global_params=True, save_script_repr='first', snapshot=True, tag='t<tid>_', timestamp=(2014, 8, 6, 21, 6, 31, 2, 218, 1), vc_info=True, aff_strength=3.0, exc_strength=1.8, inh_strength=3.0, times=[0, 5000, 10000, 15000, 20000])\"\n",
        "2: /exports/work/inf_ndtc/s1048519/topographica/topographica -a -c \"from topo.misc.lancext import BatchCollector; analysis_fn=BatchCollector.load('<tid>', {'inh_strength': 3.5, 'exc_strength': 1.8, 'aff_strength': 3.0, 'times': [0, 5000, 10000, 15000, 20000]}, '<root_directory>', '<batch_name>', '<batch_tag>'); run_batch('./scal_divisive.ty',analysis_fn=analysis_fn, compress_metadata='zip', dirname_params_filter=lambda p: 'exc_strength=1.8,inh_strength=3.5', dirname_prefix='', max_name_length=200, metadata_dir='metadata', name_time_format='<timestamp_format>', output_directory='<root_directory>', save_global_params=True, save_script_repr='first', snapshot=True, tag='t<tid>_', timestamp=(2014, 8, 6, 21, 6, 31, 2, 218, 1), vc_info=True, aff_strength=3.0, exc_strength=1.8, inh_strength=3.5, times=[0, 5000, 10000, 15000, 20000])\"\n",
        "3: /exports/work/inf_ndtc/s1048519/topographica/topographica -a -c \"from topo.misc.lancext import BatchCollector; analysis_fn=BatchCollector.load('<tid>', {'inh_strength': 4.0, 'exc_strength': 1.8, 'aff_strength': 3.0, 'times': [0, 5000, 10000, 15000, 20000]}, '<root_directory>', '<batch_name>', '<batch_tag>'); run_batch('./scal_divisive.ty',analysis_fn=analysis_fn, compress_metadata='zip', dirname_params_filter=lambda p: 'exc_strength=1.8,inh_strength=4.0', dirname_prefix='', max_name_length=200, metadata_dir='metadata', name_time_format='<timestamp_format>', output_directory='<root_directory>', save_global_params=True, save_script_repr='first', snapshot=True, tag='t<tid>_', timestamp=(2014, 8, 6, 21, 6, 31, 2, 218, 1), vc_info=True, aff_strength=3.0, exc_strength=1.8, inh_strength=4.0, times=[0, 5000, 10000, 15000, 20000])\"\n",
        "4: /exports/work/inf_ndtc/s1048519/topographica/topographica -a -c \"from topo.misc.lancext import BatchCollector; analysis_fn=BatchCollector.load('<tid>', {'inh_strength': 4.5, 'exc_strength': 1.8, 'aff_strength': 3.0, 'times': [0, 5000, 10000, 15000, 20000]}, '<root_directory>', '<batch_name>', '<batch_tag>'); run_batch('./scal_divisive.ty',analysis_fn=analysis_fn, compress_metadata='zip', dirname_params_filter=lambda p: 'exc_strength=1.8,inh_strength=4.5', dirname_prefix='', max_name_length=200, metadata_dir='metadata', name_time_format='<timestamp_format>', output_directory='<root_directory>', save_global_params=True, save_script_repr='first', snapshot=True, tag='t<tid>_', timestamp=(2014, 8, 6, 21, 6, 31, 2, 218, 1), vc_info=True, aff_strength=3.0, exc_strength=1.8, inh_strength=4.5, times=[0, 5000, 10000, 15000, 20000])\"\n",
        "5: /exports/work/inf_ndtc/s1048519/topographica/topographica -a -c \"from topo.misc.lancext import BatchCollector; analysis_fn=BatchCollector.load('<tid>', {'inh_strength': 5.0, 'exc_strength': 1.8, 'aff_strength': 3.0, 'times': [0, 5000, 10000, 15000, 20000]}, '<root_directory>', '<batch_name>', '<batch_tag>'); run_batch('./scal_divisive.ty',analysis_fn=analysis_fn, compress_metadata='zip', dirname_params_filter=lambda p: 'exc_strength=1.8,inh_strength=5.0', dirname_prefix='', max_name_length=200, metadata_dir='metadata', name_time_format='<timestamp_format>', output_directory='<root_directory>', save_global_params=True, save_script_repr='first', snapshot=True, tag='t<tid>_', timestamp=(2014, 8, 6, 21, 6, 31, 2, 218, 1), vc_info=True, aff_strength=3.0, exc_strength=1.8, inh_strength=5.0, times=[0, 5000, 10000, 15000, 20000])\"\n",
        "6: /exports/work/inf_ndtc/s1048519/topographica/topographica -a -c \"from topo.misc.lancext import BatchCollector; analysis_fn=BatchCollector.load('<tid>', {'inh_strength': 2.5, 'exc_strength': 2.0, 'aff_strength': 3.0, 'times': [0, 5000, 10000, 15000, 20000]}, '<root_directory>', '<batch_name>', '<batch_tag>'); run_batch('./scal_divisive.ty',analysis_fn=analysis_fn, compress_metadata='zip', dirname_params_filter=lambda p: 'exc_strength=2.0,inh_strength=2.5', dirname_prefix='', max_name_length=200, metadata_dir='metadata', name_time_format='<timestamp_format>', output_directory='<root_directory>', save_global_params=True, save_script_repr='first', snapshot=True, tag='t<tid>_', timestamp=(2014, 8, 6, 21, 6, 31, 2, 218, 1), vc_info=True, aff_strength=3.0, exc_strength=2.0, inh_strength=2.5, times=[0, 5000, 10000, 15000, 20000])\"\n",
        "7: /exports/work/inf_ndtc/s1048519/topographica/topographica -a -c \"from topo.misc.lancext import BatchCollector; analysis_fn=BatchCollector.load('<tid>', {'inh_strength': 3.0, 'exc_strength': 2.0, 'aff_strength': 3.0, 'times': [0, 5000, 10000, 15000, 20000]}, '<root_directory>', '<batch_name>', '<batch_tag>'); run_batch('./scal_divisive.ty',analysis_fn=analysis_fn, compress_metadata='zip', dirname_params_filter=lambda p: 'exc_strength=2.0,inh_strength=3.0', dirname_prefix='', max_name_length=200, metadata_dir='metadata', name_time_format='<timestamp_format>', output_directory='<root_directory>', save_global_params=True, save_script_repr='first', snapshot=True, tag='t<tid>_', timestamp=(2014, 8, 6, 21, 6, 31, 2, 218, 1), vc_info=True, aff_strength=3.0, exc_strength=2.0, inh_strength=3.0, times=[0, 5000, 10000, 15000, 20000])\"\n",
        "8: /exports/work/inf_ndtc/s1048519/topographica/topographica -a -c \"from topo.misc.lancext import BatchCollector; analysis_fn=BatchCollector.load('<tid>', {'inh_strength': 3.5, 'exc_strength': 2.0, 'aff_strength': 3.0, 'times': [0, 5000, 10000, 15000, 20000]}, '<root_directory>', '<batch_name>', '<batch_tag>'); run_batch('./scal_divisive.ty',analysis_fn=analysis_fn, compress_metadata='zip', dirname_params_filter=lambda p: 'exc_strength=2.0,inh_strength=3.5', dirname_prefix='', max_name_length=200, metadata_dir='metadata', name_time_format='<timestamp_format>', output_directory='<root_directory>', save_global_params=True, save_script_repr='first', snapshot=True, tag='t<tid>_', timestamp=(2014, 8, 6, 21, 6, 31, 2, 218, 1), vc_info=True, aff_strength=3.0, exc_strength=2.0, inh_strength=3.5, times=[0, 5000, 10000, 15000, 20000])\"\n",
        "9: /exports/work/inf_ndtc/s1048519/topographica/topographica -a -c \"from topo.misc.lancext import BatchCollector; analysis_fn=BatchCollector.load('<tid>', {'inh_strength': 4.0, 'exc_strength': 2.0, 'aff_strength': 3.0, 'times': [0, 5000, 10000, 15000, 20000]}, '<root_directory>', '<batch_name>', '<batch_tag>'); run_batch('./scal_divisive.ty',analysis_fn=analysis_fn, compress_metadata='zip', dirname_params_filter=lambda p: 'exc_strength=2.0,inh_strength=4.0', dirname_prefix='', max_name_length=200, metadata_dir='metadata', name_time_format='<timestamp_format>', output_directory='<root_directory>', save_global_params=True, save_script_repr='first', snapshot=True, tag='t<tid>_', timestamp=(2014, 8, 6, 21, 6, 31, 2, 218, 1), vc_info=True, aff_strength=3.0, exc_strength=2.0, inh_strength=4.0, times=[0, 5000, 10000, 15000, 20000])\"\n",
        "10: /exports/work/inf_ndtc/s1048519/topographica/topographica -a -c \"from topo.misc.lancext import BatchCollector; analysis_fn=BatchCollector.load('<tid>', {'inh_strength': 4.5, 'exc_strength': 2.0, 'aff_strength': 3.0, 'times': [0, 5000, 10000, 15000, 20000]}, '<root_directory>', '<batch_name>', '<batch_tag>'); run_batch('./scal_divisive.ty',analysis_fn=analysis_fn, compress_metadata='zip', dirname_params_filter=lambda p: 'exc_strength=2.0,inh_strength=4.5', dirname_prefix='', max_name_length=200, metadata_dir='metadata', name_time_format='<timestamp_format>', output_directory='<root_directory>', save_global_params=True, save_script_repr='first', snapshot=True, tag='t<tid>_', timestamp=(2014, 8, 6, 21, 6, 31, 2, 218, 1), vc_info=True, aff_strength=3.0, exc_strength=2.0, inh_strength=4.5, times=[0, 5000, 10000, 15000, 20000])\"\n",
        "11: /exports/work/inf_ndtc/s1048519/topographica/topographica -a -c \"from topo.misc.lancext import BatchCollector; analysis_fn=BatchCollector.load('<tid>', {'inh_strength': 5.0, 'exc_strength': 2.0, 'aff_strength': 3.0, 'times': [0, 5000, 10000, 15000, 20000]}, '<root_directory>', '<batch_name>', '<batch_tag>'); run_batch('./scal_divisive.ty',analysis_fn=analysis_fn, compress_metadata='zip', dirname_params_filter=lambda p: 'exc_strength=2.0,inh_strength=5.0', dirname_prefix='', max_name_length=200, metadata_dir='metadata', name_time_format='<timestamp_format>', output_directory='<root_directory>', save_global_params=True, save_script_repr='first', snapshot=True, tag='t<tid>_', timestamp=(2014, 8, 6, 21, 6, 31, 2, 218, 1), vc_info=True, aff_strength=3.0, exc_strength=2.0, inh_strength=5.0, times=[0, 5000, 10000, 15000, 20000])\"\n",
        "12: /exports/work/inf_ndtc/s1048519/topographica/topographica -a -c \"from topo.misc.lancext import BatchCollector; analysis_fn=BatchCollector.load('<tid>', {'inh_strength': 2.5, 'exc_strength': 2.2, 'aff_strength': 3.0, 'times': [0, 5000, 10000, 15000, 20000]}, '<root_directory>', '<batch_name>', '<batch_tag>'); run_batch('./scal_divisive.ty',analysis_fn=analysis_fn, compress_metadata='zip', dirname_params_filter=lambda p: 'exc_strength=2.2,inh_strength=2.5', dirname_prefix='', max_name_length=200, metadata_dir='metadata', name_time_format='<timestamp_format>', output_directory='<root_directory>', save_global_params=True, save_script_repr='first', snapshot=True, tag='t<tid>_', timestamp=(2014, 8, 6, 21, 6, 31, 2, 218, 1), vc_info=True, aff_strength=3.0, exc_strength=2.2, inh_strength=2.5, times=[0, 5000, 10000, 15000, 20000])\"\n",
        "13: /exports/work/inf_ndtc/s1048519/topographica/topographica -a -c \"from topo.misc.lancext import BatchCollector; analysis_fn=BatchCollector.load('<tid>', {'inh_strength': 3.0, 'exc_strength': 2.2, 'aff_strength': 3.0, 'times': [0, 5000, 10000, 15000, 20000]}, '<root_directory>', '<batch_name>', '<batch_tag>'); run_batch('./scal_divisive.ty',analysis_fn=analysis_fn, compress_metadata='zip', dirname_params_filter=lambda p: 'exc_strength=2.2,inh_strength=3.0', dirname_prefix='', max_name_length=200, metadata_dir='metadata', name_time_format='<timestamp_format>', output_directory='<root_directory>', save_global_params=True, save_script_repr='first', snapshot=True, tag='t<tid>_', timestamp=(2014, 8, 6, 21, 6, 31, 2, 218, 1), vc_info=True, aff_strength=3.0, exc_strength=2.2, inh_strength=3.0, times=[0, 5000, 10000, 15000, 20000])\"\n",
        "14: /exports/work/inf_ndtc/s1048519/topographica/topographica -a -c \"from topo.misc.lancext import BatchCollector; analysis_fn=BatchCollector.load('<tid>', {'inh_strength': 3.5, 'exc_strength': 2.2, 'aff_strength': 3.0, 'times': [0, 5000, 10000, 15000, 20000]}, '<root_directory>', '<batch_name>', '<batch_tag>'); run_batch('./scal_divisive.ty',analysis_fn=analysis_fn, compress_metadata='zip', dirname_params_filter=lambda p: 'exc_strength=2.2,inh_strength=3.5', dirname_prefix='', max_name_length=200, metadata_dir='metadata', name_time_format='<timestamp_format>', output_directory='<root_directory>', save_global_params=True, save_script_repr='first', snapshot=True, tag='t<tid>_', timestamp=(2014, 8, 6, 21, 6, 31, 2, 218, 1), vc_info=True, aff_strength=3.0, exc_strength=2.2, inh_strength=3.5, times=[0, 5000, 10000, 15000, 20000])\"\n",
        "15: /exports/work/inf_ndtc/s1048519/topographica/topographica -a -c \"from topo.misc.lancext import BatchCollector; analysis_fn=BatchCollector.load('<tid>', {'inh_strength': 4.0, 'exc_strength': 2.2, 'aff_strength': 3.0, 'times': [0, 5000, 10000, 15000, 20000]}, '<root_directory>', '<batch_name>', '<batch_tag>'); run_batch('./scal_divisive.ty',analysis_fn=analysis_fn, compress_metadata='zip', dirname_params_filter=lambda p: 'exc_strength=2.2,inh_strength=4.0', dirname_prefix='', max_name_length=200, metadata_dir='metadata', name_time_format='<timestamp_format>', output_directory='<root_directory>', save_global_params=True, save_script_repr='first', snapshot=True, tag='t<tid>_', timestamp=(2014, 8, 6, 21, 6, 31, 2, 218, 1), vc_info=True, aff_strength=3.0, exc_strength=2.2, inh_strength=4.0, times=[0, 5000, 10000, 15000, 20000])\"\n",
        "16: /exports/work/inf_ndtc/s1048519/topographica/topographica -a -c \"from topo.misc.lancext import BatchCollector; analysis_fn=BatchCollector.load('<tid>', {'inh_strength': 4.5, 'exc_strength': 2.2, 'aff_strength': 3.0, 'times': [0, 5000, 10000, 15000, 20000]}, '<root_directory>', '<batch_name>', '<batch_tag>'); run_batch('./scal_divisive.ty',analysis_fn=analysis_fn, compress_metadata='zip', dirname_params_filter=lambda p: 'exc_strength=2.2,inh_strength=4.5', dirname_prefix='', max_name_length=200, metadata_dir='metadata', name_time_format='<timestamp_format>', output_directory='<root_directory>', save_global_params=True, save_script_repr='first', snapshot=True, tag='t<tid>_', timestamp=(2014, 8, 6, 21, 6, 31, 2, 218, 1), vc_info=True, aff_strength=3.0, exc_strength=2.2, inh_strength=4.5, times=[0, 5000, 10000, 15000, 20000])\"\n",
        "17: /exports/work/inf_ndtc/s1048519/topographica/topographica -a -c \"from topo.misc.lancext import BatchCollector; analysis_fn=BatchCollector.load('<tid>', {'inh_strength': 5.0, 'exc_strength': 2.2, 'aff_strength': 3.0, 'times': [0, 5000, 10000, 15000, 20000]}, '<root_directory>', '<batch_name>', '<batch_tag>'); run_batch('./scal_divisive.ty',analysis_fn=analysis_fn, compress_metadata='zip', dirname_params_filter=lambda p: 'exc_strength=2.2,inh_strength=5.0', dirname_prefix='', max_name_length=200, metadata_dir='metadata', name_time_format='<timestamp_format>', output_directory='<root_directory>', save_global_params=True, save_script_repr='first', snapshot=True, tag='t<tid>_', timestamp=(2014, 8, 6, 21, 6, 31, 2, 218, 1), vc_info=True, aff_strength=3.0, exc_strength=2.2, inh_strength=5.0, times=[0, 5000, 10000, 15000, 20000])\"\n",
        "18: /exports/work/inf_ndtc/s1048519/topographica/topographica -a -c \"from topo.misc.lancext import BatchCollector; analysis_fn=BatchCollector.load('<tid>', {'inh_strength': 2.5, 'exc_strength': 2.4, 'aff_strength': 3.0, 'times': [0, 5000, 10000, 15000, 20000]}, '<root_directory>', '<batch_name>', '<batch_tag>'); run_batch('./scal_divisive.ty',analysis_fn=analysis_fn, compress_metadata='zip', dirname_params_filter=lambda p: 'exc_strength=2.4,inh_strength=2.5', dirname_prefix='', max_name_length=200, metadata_dir='metadata', name_time_format='<timestamp_format>', output_directory='<root_directory>', save_global_params=True, save_script_repr='first', snapshot=True, tag='t<tid>_', timestamp=(2014, 8, 6, 21, 6, 31, 2, 218, 1), vc_info=True, aff_strength=3.0, exc_strength=2.4, inh_strength=2.5, times=[0, 5000, 10000, 15000, 20000])\"\n",
        "19: /exports/work/inf_ndtc/s1048519/topographica/topographica -a -c \"from topo.misc.lancext import BatchCollector; analysis_fn=BatchCollector.load('<tid>', {'inh_strength': 3.0, 'exc_strength': 2.4, 'aff_strength': 3.0, 'times': [0, 5000, 10000, 15000, 20000]}, '<root_directory>', '<batch_name>', '<batch_tag>'); run_batch('./scal_divisive.ty',analysis_fn=analysis_fn, compress_metadata='zip', dirname_params_filter=lambda p: 'exc_strength=2.4,inh_strength=3.0', dirname_prefix='', max_name_length=200, metadata_dir='metadata', name_time_format='<timestamp_format>', output_directory='<root_directory>', save_global_params=True, save_script_repr='first', snapshot=True, tag='t<tid>_', timestamp=(2014, 8, 6, 21, 6, 31, 2, 218, 1), vc_info=True, aff_strength=3.0, exc_strength=2.4, inh_strength=3.0, times=[0, 5000, 10000, 15000, 20000])\"\n",
        "20: /exports/work/inf_ndtc/s1048519/topographica/topographica -a -c \"from topo.misc.lancext import BatchCollector; analysis_fn=BatchCollector.load('<tid>', {'inh_strength': 3.5, 'exc_strength': 2.4, 'aff_strength': 3.0, 'times': [0, 5000, 10000, 15000, 20000]}, '<root_directory>', '<batch_name>', '<batch_tag>'); run_batch('./scal_divisive.ty',analysis_fn=analysis_fn, compress_metadata='zip', dirname_params_filter=lambda p: 'exc_strength=2.4,inh_strength=3.5', dirname_prefix='', max_name_length=200, metadata_dir='metadata', name_time_format='<timestamp_format>', output_directory='<root_directory>', save_global_params=True, save_script_repr='first', snapshot=True, tag='t<tid>_', timestamp=(2014, 8, 6, 21, 6, 31, 2, 218, 1), vc_info=True, aff_strength=3.0, exc_strength=2.4, inh_strength=3.5, times=[0, 5000, 10000, 15000, 20000])\"\n",
        "21: /exports/work/inf_ndtc/s1048519/topographica/topographica -a -c \"from topo.misc.lancext import BatchCollector; analysis_fn=BatchCollector.load('<tid>', {'inh_strength': 4.0, 'exc_strength': 2.4, 'aff_strength': 3.0, 'times': [0, 5000, 10000, 15000, 20000]}, '<root_directory>', '<batch_name>', '<batch_tag>'); run_batch('./scal_divisive.ty',analysis_fn=analysis_fn, compress_metadata='zip', dirname_params_filter=lambda p: 'exc_strength=2.4,inh_strength=4.0', dirname_prefix='', max_name_length=200, metadata_dir='metadata', name_time_format='<timestamp_format>', output_directory='<root_directory>', save_global_params=True, save_script_repr='first', snapshot=True, tag='t<tid>_', timestamp=(2014, 8, 6, 21, 6, 31, 2, 218, 1), vc_info=True, aff_strength=3.0, exc_strength=2.4, inh_strength=4.0, times=[0, 5000, 10000, 15000, 20000])\"\n",
        "22: /exports/work/inf_ndtc/s1048519/topographica/topographica -a -c \"from topo.misc.lancext import BatchCollector; analysis_fn=BatchCollector.load('<tid>', {'inh_strength': 4.5, 'exc_strength': 2.4, 'aff_strength': 3.0, 'times': [0, 5000, 10000, 15000, 20000]}, '<root_directory>', '<batch_name>', '<batch_tag>'); run_batch('./scal_divisive.ty',analysis_fn=analysis_fn, compress_metadata='zip', dirname_params_filter=lambda p: 'exc_strength=2.4,inh_strength=4.5', dirname_prefix='', max_name_length=200, metadata_dir='metadata', name_time_format='<timestamp_format>', output_directory='<root_directory>', save_global_params=True, save_script_repr='first', snapshot=True, tag='t<tid>_', timestamp=(2014, 8, 6, 21, 6, 31, 2, 218, 1), vc_info=True, aff_strength=3.0, exc_strength=2.4, inh_strength=4.5, times=[0, 5000, 10000, 15000, 20000])\"\n",
        "23: /exports/work/inf_ndtc/s1048519/topographica/topographica -a -c \"from topo.misc.lancext import BatchCollector; analysis_fn=BatchCollector.load('<tid>', {'inh_strength': 5.0, 'exc_strength': 2.4, 'aff_strength': 3.0, 'times': [0, 5000, 10000, 15000, 20000]}, '<root_directory>', '<batch_name>', '<batch_tag>'); run_batch('./scal_divisive.ty',analysis_fn=analysis_fn, compress_metadata='zip', dirname_params_filter=lambda p: 'exc_strength=2.4,inh_strength=5.0', dirname_prefix='', max_name_length=200, metadata_dir='metadata', name_time_format='<timestamp_format>', output_directory='<root_directory>', save_global_params=True, save_script_repr='first', snapshot=True, tag='t<tid>_', timestamp=(2014, 8, 6, 21, 6, 31, 2, 218, 1), vc_info=True, aff_strength=3.0, exc_strength=2.4, inh_strength=5.0, times=[0, 5000, 10000, 15000, 20000])\"\n",
        "24: /exports/work/inf_ndtc/s1048519/topographica/topographica -a -c \"from topo.misc.lancext import BatchCollector; analysis_fn=BatchCollector.load('<tid>', {'inh_strength': 2.5, 'exc_strength': 2.6, 'aff_strength': 3.0, 'times': [0, 5000, 10000, 15000, 20000]}, '<root_directory>', '<batch_name>', '<batch_tag>'); run_batch('./scal_divisive.ty',analysis_fn=analysis_fn, compress_metadata='zip', dirname_params_filter=lambda p: 'exc_strength=2.6,inh_strength=2.5', dirname_prefix='', max_name_length=200, metadata_dir='metadata', name_time_format='<timestamp_format>', output_directory='<root_directory>', save_global_params=True, save_script_repr='first', snapshot=True, tag='t<tid>_', timestamp=(2014, 8, 6, 21, 6, 31, 2, 218, 1), vc_info=True, aff_strength=3.0, exc_strength=2.6, inh_strength=2.5, times=[0, 5000, 10000, 15000, 20000])\"\n",
        "25: /exports/work/inf_ndtc/s1048519/topographica/topographica -a -c \"from topo.misc.lancext import BatchCollector; analysis_fn=BatchCollector.load('<tid>', {'inh_strength': 3.0, 'exc_strength': 2.6, 'aff_strength': 3.0, 'times': [0, 5000, 10000, 15000, 20000]}, '<root_directory>', '<batch_name>', '<batch_tag>'); run_batch('./scal_divisive.ty',analysis_fn=analysis_fn, compress_metadata='zip', dirname_params_filter=lambda p: 'exc_strength=2.6,inh_strength=3.0', dirname_prefix='', max_name_length=200, metadata_dir='metadata', name_time_format='<timestamp_format>', output_directory='<root_directory>', save_global_params=True, save_script_repr='first', snapshot=True, tag='t<tid>_', timestamp=(2014, 8, 6, 21, 6, 31, 2, 218, 1), vc_info=True, aff_strength=3.0, exc_strength=2.6, inh_strength=3.0, times=[0, 5000, 10000, 15000, 20000])\"\n",
        "26: /exports/work/inf_ndtc/s1048519/topographica/topographica -a -c \"from topo.misc.lancext import BatchCollector; analysis_fn=BatchCollector.load('<tid>', {'inh_strength': 3.5, 'exc_strength': 2.6, 'aff_strength': 3.0, 'times': [0, 5000, 10000, 15000, 20000]}, '<root_directory>', '<batch_name>', '<batch_tag>'); run_batch('./scal_divisive.ty',analysis_fn=analysis_fn, compress_metadata='zip', dirname_params_filter=lambda p: 'exc_strength=2.6,inh_strength=3.5', dirname_prefix='', max_name_length=200, metadata_dir='metadata', name_time_format='<timestamp_format>', output_directory='<root_directory>', save_global_params=True, save_script_repr='first', snapshot=True, tag='t<tid>_', timestamp=(2014, 8, 6, 21, 6, 31, 2, 218, 1), vc_info=True, aff_strength=3.0, exc_strength=2.6, inh_strength=3.5, times=[0, 5000, 10000, 15000, 20000])\"\n",
        "27: /exports/work/inf_ndtc/s1048519/topographica/topographica -a -c \"from topo.misc.lancext import BatchCollector; analysis_fn=BatchCollector.load('<tid>', {'inh_strength': 4.0, 'exc_strength': 2.6, 'aff_strength': 3.0, 'times': [0, 5000, 10000, 15000, 20000]}, '<root_directory>', '<batch_name>', '<batch_tag>'); run_batch('./scal_divisive.ty',analysis_fn=analysis_fn, compress_metadata='zip', dirname_params_filter=lambda p: 'exc_strength=2.6,inh_strength=4.0', dirname_prefix='', max_name_length=200, metadata_dir='metadata', name_time_format='<timestamp_format>', output_directory='<root_directory>', save_global_params=True, save_script_repr='first', snapshot=True, tag='t<tid>_', timestamp=(2014, 8, 6, 21, 6, 31, 2, 218, 1), vc_info=True, aff_strength=3.0, exc_strength=2.6, inh_strength=4.0, times=[0, 5000, 10000, 15000, 20000])\"\n",
        "28: /exports/work/inf_ndtc/s1048519/topographica/topographica -a -c \"from topo.misc.lancext import BatchCollector; analysis_fn=BatchCollector.load('<tid>', {'inh_strength': 4.5, 'exc_strength': 2.6, 'aff_strength': 3.0, 'times': [0, 5000, 10000, 15000, 20000]}, '<root_directory>', '<batch_name>', '<batch_tag>'); run_batch('./scal_divisive.ty',analysis_fn=analysis_fn, compress_metadata='zip', dirname_params_filter=lambda p: 'exc_strength=2.6,inh_strength=4.5', dirname_prefix='', max_name_length=200, metadata_dir='metadata', name_time_format='<timestamp_format>', output_directory='<root_directory>', save_global_params=True, save_script_repr='first', snapshot=True, tag='t<tid>_', timestamp=(2014, 8, 6, 21, 6, 31, 2, 218, 1), vc_info=True, aff_strength=3.0, exc_strength=2.6, inh_strength=4.5, times=[0, 5000, 10000, 15000, 20000])\"\n",
        "29: /exports/work/inf_ndtc/s1048519/topographica/topographica -a -c \"from topo.misc.lancext import BatchCollector; analysis_fn=BatchCollector.load('<tid>', {'inh_strength': 5.0, 'exc_strength': 2.6, 'aff_strength': 3.0, 'times': [0, 5000, 10000, 15000, 20000]}, '<root_directory>', '<batch_name>', '<batch_tag>'); run_batch('./scal_divisive.ty',analysis_fn=analysis_fn, compress_metadata='zip', dirname_params_filter=lambda p: 'exc_strength=2.6,inh_strength=5.0', dirname_prefix='', max_name_length=200, metadata_dir='metadata', name_time_format='<timestamp_format>', output_directory='<root_directory>', save_global_params=True, save_script_repr='first', snapshot=True, tag='t<tid>_', timestamp=(2014, 8, 6, 21, 6, 31, 2, 218, 1), vc_info=True, aff_strength=3.0, exc_strength=2.6, inh_strength=5.0, times=[0, 5000, 10000, 15000, 20000])\"\n",
        "\n",
        "\n",
        "=====================\n",
        "| QLauncher Summary |\n",
        "=====================\n",
        "\n",
        "Type: QLauncher\n",
        "Batch Name: 'divisive_scal'\n",
        "Root directory: '/exports/work/inf_ndtc/s1048519/topographica/work/SCAL/data/2014-08-06_2106-divisive_scal'\n",
        "Maximum concurrency: None\n",
        "\n"
       ]
      },
      {
       "name": "stdout",
       "output_type": "stream",
       "stream": "stdout",
       "text": [
        "\n",
        "Show complete launch repr? [Y, n]: \n"
       ]
      },
      {
       "output_type": "stream",
       "stream": "stdout",
       "text": [
        "\n",
        "QLauncher(\n",
        "   batch_name='divisive_scal',\n",
        "   args=Range(\n",
        "      key='aff_strength',\n",
        "      start_value=3.0,\n",
        "      end_value=3.0,\n",
        "      steps=1\n",
        "   ) * Range(\n",
        "      key='exc_strength',\n",
        "      start_value=1.8,\n",
        "      end_value=2.6,\n",
        "      steps=5\n",
        "   ) * Range(\n",
        "      key='inh_strength',\n",
        "      start_value=2.5,\n",
        "      end_value=5.0,\n",
        "      steps=6\n",
        "   ) * Args(\n",
        "      times=[0, 5000, 10000, 15000, 20000]\n",
        "   ),\n",
        "   command=RunBatchCommand(\n",
        "      executable='/exports/work/inf_ndtc/s1048519/topographica/topographica',\n",
        "      tyfile='./scal_divisive.ty',\n",
        "      analysis=Collector([\n",
        "            ('Activity.LGNOnAfferent',\n",
        "               Collect(SimRef('V1.LGNOnAfferent'))),\n",
        "            ('Activity.LGNOffAfferent',\n",
        "               Collect(SimRef('V1.LGNOffAfferent'))),\n",
        "            (None,\n",
        "               Collect(measure_or_pref, frequencies=[1.6])),\n",
        "            (None,\n",
        "               Collect(measure_response, durations=[0.0, 0.050000000000000003, 0.10000000000000001, 0.15000000000000002, 0.20000000000000001, 0.25, 0.30000000000000004, 0.35000000000000003, 0.40000000000000002, 0.45000000000000001, 0.5, 0.55000000000000004, 0.60000000000000009, 0.65000000000000002, 0.70000000000000007, 0.75, 0.80000000000000004, 0.85000000000000009, 0.90000000000000002, 0.95000000000000007, 1.0])),\n",
        "            (None,\n",
        "               Collect(measure_position_pref, x_range=(-0.25, 0.25), scale=2.0, divisions=24, outputs=['V1'], y_range=(-0.25, 0.25), size=0.1)),\n",
        "            ('Activity.Retina',\n",
        "               Collect(SimRef('Retina'))),\n",
        "            ('Activity.V1',\n",
        "               Collect(SimRef('V1'))),\n",
        "            ('CFs.LGNOnAfferent',\n",
        "               Collect(SimRef('V1.LGNOnAfferent'), grid=True)),\n",
        "            ('CFs.LGNOffAfferent',\n",
        "               Collect(SimRef('V1.LGNOffAfferent'), grid=True)),\n",
        "            ('CFs.LateralInhibitory',\n",
        "               Collect(SimRef('V1.LateralInhibitory'), grid=True)),\n",
        "            ('HomeostaticThreshold.V1',\n",
        "               Collect(SimRef(array_ref='V1.output_fns[0].t'), value='Homeostatic Threshold')),\n",
        "            (None,\n",
        "               Analyze(ViewRef('OrientationPreference.V1'), measure_size_tuning, num_phase=8, coords=[(0, -0.1), (-0.1, 0.0), (0, 0), (0, 0.1), (0.1, 0.0)])),\n",
        "            ('FFTPowerSpectrum.V1',\n",
        "               Analyze(ViewRef('OrientationPreference.V1'), fft_power_spectrum)),\n",
        "            ('Pinwheels.V1',\n",
        "               Analyze(ViewRef('OrientationPreference.V1 * OrientationSelectivity.V1'), PinwheelAnalysis)),\n",
        "            ('FFTAnalysis.V1',\n",
        "               Analyze(ViewRef('Pinwheels.V1'), PowerSpectrumAnalysis))\n",
        "            ])\n",
        "   ),\n",
        "   output_directory='/exports/work/inf_ndtc/s1048519/topographica/work/SCAL/data'\n",
        ")\n",
        "\n"
       ]
      },
      {
       "name": "stdout",
       "output_type": "stream",
       "stream": "stdout",
       "text": [
        "Execute? [y, N]: y\n"
       ]
      },
      {
       "output_type": "stream",
       "stream": "stderr",
       "text": [
        "Time: 000000.00 QLauncher: Invoked qsub for 30 commands\n"
       ]
      },
      {
       "output_type": "stream",
       "stream": "stdout",
       "text": [
        "== Launching  divisive_scal ==\n"
       ]
      },
      {
       "metadata": {},
       "output_type": "pyout",
       "prompt_number": 27,
       "text": [
        "True"
       ]
      }
     ],
     "prompt_number": 27
    },
    {
     "cell_type": "markdown",
     "metadata": {},
     "source": [
      "Launch 4 - Optimizing spatial tuning, second attempt"
     ]
    },
    {
     "cell_type": "code",
     "collapsed": false,
     "input": [],
     "language": "python",
     "metadata": {},
     "outputs": []
    }
   ],
   "metadata": {}
  }
 ]
}